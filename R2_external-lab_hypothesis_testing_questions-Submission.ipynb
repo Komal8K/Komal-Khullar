{
 "cells": [
  {
   "cell_type": "markdown",
   "metadata": {
    "colab_type": "text",
    "id": "xx5CxeVubU3W"
   },
   "source": [
    "# Hypothesis Testing"
   ]
  },
  {
   "cell_type": "markdown",
   "metadata": {
    "colab_type": "text",
    "id": "6OR23eWKbU3X"
   },
   "source": [
    "The purpose of the test is to tell if there is any significant difference between two data sets.\n",
    "\n"
   ]
  },
  {
   "cell_type": "markdown",
   "metadata": {
    "colab_type": "text",
    "id": "604OoWnTbU3Z"
   },
   "source": [
    "## Overview"
   ]
  },
  {
   "cell_type": "markdown",
   "metadata": {
    "colab_type": "text",
    "id": "o-il1iBSbU3b"
   },
   "source": [
    "This module covers,\n",
    "\n",
    "1) One sample and Two sample t-tests\n",
    "\n",
    "2) ANOVA\n",
    "\n",
    "3) Type I and Type II errors\n",
    "\n",
    "4) Chi-Squared Tests"
   ]
  },
  {
   "cell_type": "markdown",
   "metadata": {
    "colab_type": "text",
    "id": "G2yYl5cvbU3c"
   },
   "source": [
    "## Question 1 \n",
    "\n",
    "*A student is trying to decide between two GPUs. He want to use the GPU for his research to run Deep learning algorithms, so the only thing he is concerned with is speed.*\n",
    "\n",
    "*He picks a Deep Learning algorithm on a large data set and runs it on both GPUs 15 times, timing each run in hours. Results are given in the below lists GPU1 and GPU2.*"
   ]
  },
  {
   "cell_type": "code",
   "execution_count": 1,
   "metadata": {
    "colab": {},
    "colab_type": "code",
    "id": "ohh5XJ4ZbU3d"
   },
   "outputs": [],
   "source": [
    "from scipy import stats \n",
    "import numpy as np"
   ]
  },
  {
   "cell_type": "code",
   "execution_count": 2,
   "metadata": {
    "colab": {},
    "colab_type": "code",
    "id": "6yGkYI6EbU3i"
   },
   "outputs": [],
   "source": [
    "GPU1 = np.array([11,9,10,11,10,12,9,11,12,9,11,12,9,10,9])\n",
    "GPU2 = np.array([11,13,10,13,12,9,11,12,12,11,12,12,10,11,13])\n",
    "\n",
    "#Assumption: Both the datasets (GPU1 & GPU 2) are random, independent, parametric & normally distributed"
   ]
  },
  {
   "cell_type": "markdown",
   "metadata": {
    "colab_type": "text",
    "id": "L55jqmIXbU3m"
   },
   "source": [
    "Hint: You can import ttest function from scipy to perform t tests "
   ]
  },
  {
   "cell_type": "markdown",
   "metadata": {
    "colab_type": "text",
    "id": "v8fsIhPFbU3n"
   },
   "source": [
    "**First T test**\n",
    "\n",
    "*One sample t-test*\n",
    "\n",
    "Check if the mean of the GPU1 is equal to zero.\n",
    "- Null Hypothesis is that mean is equal to zero.\n",
    "- Alternate hypothesis is that it is not equal to zero."
   ]
  },
  {
   "cell_type": "code",
   "execution_count": 3,
   "metadata": {},
   "outputs": [],
   "source": [
    "from scipy.stats import ttest_1samp,ttest_ind"
   ]
  },
  {
   "cell_type": "code",
   "execution_count": 4,
   "metadata": {},
   "outputs": [
    {
     "name": "stdout",
     "output_type": "stream",
     "text": [
      "Mean is 10.3 Sd is 1.2\n"
     ]
    }
   ],
   "source": [
    "print('Mean is %2.1f Sd is %2.1f' % (GPU1.mean(),np.std(GPU1,ddof = 1)))"
   ]
  },
  {
   "cell_type": "code",
   "execution_count": 5,
   "metadata": {},
   "outputs": [],
   "source": [
    "t_statistic, p_value = ttest_1samp(GPU1,0)"
   ]
  },
  {
   "cell_type": "code",
   "execution_count": 6,
   "metadata": {},
   "outputs": [
    {
     "name": "stdout",
     "output_type": "stream",
     "text": [
      "(34.056241516158195, 7.228892044970457e-15)\n",
      "p_value is <5%,reject null hypothesis\n"
     ]
    }
   ],
   "source": [
    "print(t_statistic, p_value)\n",
    "print('p_value is <5%,reject null hypothesis')"
   ]
  },
  {
   "cell_type": "markdown",
   "metadata": {
    "colab_type": "text",
    "id": "byu8iw46bU3v"
   },
   "source": [
    "## Question 2"
   ]
  },
  {
   "cell_type": "markdown",
   "metadata": {
    "colab_type": "text",
    "id": "E65pzWcJbU3w"
   },
   "source": [
    "Given,\n",
    "\n",
    "Null Hypothesis : There is no significant difference between data sets\n",
    "\n",
    "Alternate Hypothesis : There is a significant difference\n",
    "\n",
    "*Do two-sample testing and check whether to reject Null Hypothesis or not.*"
   ]
  },
  {
   "cell_type": "markdown",
   "metadata": {
    "colab_type": "text",
    "id": "N-zpWvyXbU32"
   },
   "source": [
    "https://docs.scipy.org/doc/scipy/reference/generated/scipy.stats.ttest_ind.html"
   ]
  },
  {
   "cell_type": "code",
   "execution_count": 7,
   "metadata": {},
   "outputs": [
    {
     "name": "stdout",
     "output_type": "stream",
     "text": [
      "10.333333333333334\n",
      "11.466666666666667\n",
      "('p_value', 0.013794282041452725)\n",
      "('t_stats', -2.627629513471839)\n"
     ]
    }
   ],
   "source": [
    "print(GPU1.mean())\n",
    "print(GPU2.mean())\n",
    "\n",
    "t_statistic, p_value  =  stats.ttest_ind(GPU1,GPU2)\n",
    "\n",
    "print(\"p_value\", p_value)\n",
    "print(\"t_stats\",t_statistic)\n",
    "\n",
    "### P value is less than 5% so reject null hypothesis."
   ]
  },
  {
   "cell_type": "markdown",
   "metadata": {
    "colab_type": "text",
    "id": "MbXv5aZvbU33"
   },
   "source": [
    "## Question 3\n",
    "\n",
    "He is trying a third GPU - GPU3."
   ]
  },
  {
   "cell_type": "code",
   "execution_count": 8,
   "metadata": {
    "colab": {},
    "colab_type": "code",
    "id": "kkh_sQl4bU34"
   },
   "outputs": [],
   "source": [
    "GPU3 = np.array([9,10,9,11,10,13,12,9,12,12,13,12,13,10,11])\n",
    "\n",
    "#Assumption: Both the datasets (GPU1 & GPU 3) are random, independent, parametric & normally distributed"
   ]
  },
  {
   "cell_type": "markdown",
   "metadata": {
    "colab_type": "text",
    "id": "WoYNz3g7bU37"
   },
   "source": [
    "*Do two-sample testing and check whether there is significant differene between speeds of two GPUs GPU1 and GPU3.*\n",
    "\n",
    "#### Answer:"
   ]
  },
  {
   "cell_type": "code",
   "execution_count": 9,
   "metadata": {},
   "outputs": [
    {
     "name": "stdout",
     "output_type": "stream",
     "text": [
      "10.333333333333334\n",
      "11.066666666666666\n",
      "('p_value', 0.14509210993138993)\n",
      "('t_stats', -1.4988943759093303)\n"
     ]
    }
   ],
   "source": [
    "print(GPU1.mean())\n",
    "print(GPU3.mean())\n",
    "\n",
    "t_statistic, p_value  =  stats.ttest_ind(GPU1,GPU3)\n",
    "\n",
    "print(\"p_value\", p_value)\n",
    "print(\"t_stats\",t_statistic)\n",
    "\n",
    "### P value is more than 5% so failed to reject null hypothesis.There is no sufficient evidence to reject null hypothesis.\n",
    "### There is no significant difference \n"
   ]
  },
  {
   "cell_type": "markdown",
   "metadata": {
    "colab_type": "text",
    "id": "oyDFS4WZbU4A"
   },
   "source": [
    "## ANOVA"
   ]
  },
  {
   "cell_type": "markdown",
   "metadata": {
    "colab_type": "text",
    "id": "wknPzstFbU4B"
   },
   "source": [
    "## Question 4 \n",
    "\n",
    "If you need to compare more than two data sets at a time, an ANOVA is your best bet. \n",
    "\n",
    "*The results from three experiments with overlapping 95% confidence intervals are given below, and we want to confirm that the results for all three experiments are not significantly different.*\n",
    "\n",
    "But before conducting ANOVA, test equality of variances (using Levene's test) is satisfied or not. If not, then mention that we cannot depend on the result of ANOVA"
   ]
  },
  {
   "cell_type": "code",
   "execution_count": 10,
   "metadata": {
    "colab": {},
    "colab_type": "code",
    "id": "kGb0GeK8bU4C"
   },
   "outputs": [],
   "source": [
    "import numpy as np\n",
    "\n",
    "e1 = np.array([1.595440,1.419730,0.000000,0.000000])\n",
    "e2 = np.array([1.433800,2.079700,0.892139,2.384740])\n",
    "e3 = np.array([0.036930,0.938018,0.995956,1.006970])\n",
    "\n",
    "#Assumption: All the 3 datasets (e1,e2 & e3) are random, independent, parametric & normally distributed"
   ]
  },
  {
   "cell_type": "markdown",
   "metadata": {
    "colab_type": "text",
    "id": "_xiYN6gVbU4G"
   },
   "source": [
    "Perform levene test on the data\n",
    "\n",
    "The Levene test tests the null hypothesis that all input samples are from populations with equal variances. Levene’s test is an alternative to Bartlett’s test bartlett in the case where there are significant deviations from normality.\n",
    "\n",
    "source: scipy.org"
   ]
  },
  {
   "cell_type": "markdown",
   "metadata": {
    "colab_type": "text",
    "id": "f2MlJTXgbU4H"
   },
   "source": [
    "#### Answer:"
   ]
  },
  {
   "cell_type": "code",
   "execution_count": 11,
   "metadata": {},
   "outputs": [
    {
     "data": {
      "text/plain": [
       "LeveneResult(statistic=2.6741725711150446, pvalue=0.12259792666001798)"
      ]
     },
     "execution_count": 11,
     "metadata": {},
     "output_type": "execute_result"
    }
   ],
   "source": [
    "stats.levene(e1,e2,e3)\n",
    "\n",
    "### variances are equal since pvalue >5%; we can proceed with ANOVA test\n",
    "### pvalue >5%, fail to reject null hypothesis"
   ]
  },
  {
   "cell_type": "markdown",
   "metadata": {
    "colab_type": "text",
    "id": "FigxGCQtbU4Y"
   },
   "source": [
    "## Question 5\n",
    "\n",
    "The one-way ANOVA tests the null hypothesis that two or more groups have the same population mean. The test is applied to samples from two or more groups, possibly with differing sizes.\n",
    "\n",
    "use stats.f_oneway() module to perform one-way ANOVA test"
   ]
  },
  {
   "cell_type": "code",
   "execution_count": 12,
   "metadata": {},
   "outputs": [
    {
     "data": {
      "text/plain": [
       "F_onewayResult(statistic=2.51357622845924, pvalue=0.13574644501798466)"
      ]
     },
     "execution_count": 12,
     "metadata": {},
     "output_type": "execute_result"
    }
   ],
   "source": [
    "from scipy.stats import f_oneway\n",
    "stats.f_oneway(e1,e2,e3)"
   ]
  },
  {
   "cell_type": "markdown",
   "metadata": {
    "colab_type": "text",
    "id": "yrMK1qb7bU4j"
   },
   "source": [
    "## Question 6\n",
    "\n",
    "*In one or two sentences explain about **TypeI** and **TypeII** errors.*\n",
    "\n",
    "#### Answer:"
   ]
  },
  {
   "cell_type": "code",
   "execution_count": 13,
   "metadata": {
    "colab_type": "text",
    "id": "H08OGwdIbU4k"
   },
   "outputs": [],
   "source": [
    "### Type I error is when null hypothesis is rejected when it is true and should not be rejected.Incorrectly rejecting null hypothesis.Level of significance(alfa)is probability of committing Type I error\n",
    "### Type II error is when null hypothesis is not rejected when it is false and should be rejected.Incorrectly not rejecting null hypothesis.The beta risk is probability of committing Type II error"
   ]
  },
  {
   "cell_type": "markdown",
   "metadata": {
    "colab_type": "text",
    "id": "hm7v3pcIbU4m"
   },
   "source": [
    "## Question 7 \n",
    "\n",
    "You are a manager of a chinese restaurant. You want to determine whether the waiting time to place an order has changed in the past month from its previous population mean value of 4.5 minutes. \n",
    "State the null and alternative hypothesis.\n",
    "\n",
    "#### Answer:\n"
   ]
  },
  {
   "cell_type": "code",
   "execution_count": 14,
   "metadata": {},
   "outputs": [],
   "source": [
    "### Null hypothesis is that population mean has not changed from its previous value of 4.5 minutes. This is stated as H0:mu=4.5\n",
    "### Alternate hypothesis is that population mean has changed from its previous value of 4.5 minutes which means population mean is not\n",
    "### 4.5 minutes. This is stated as H1:mu is not = 4.5"
   ]
  },
  {
   "cell_type": "markdown",
   "metadata": {
    "colab_type": "text",
    "id": "1SGpq-dKbU4r"
   },
   "source": [
    "## Chi square test"
   ]
  },
  {
   "cell_type": "markdown",
   "metadata": {
    "colab_type": "text",
    "id": "WlxmIu_rdgpc"
   },
   "source": [
    "## Question 8"
   ]
  },
  {
   "cell_type": "markdown",
   "metadata": {
    "colab_type": "text",
    "id": "8J3V015PbU4s"
   },
   "source": [
    "Let's create a small dataset for dice rolls of four players"
   ]
  },
  {
   "cell_type": "code",
   "execution_count": 15,
   "metadata": {
    "colab": {},
    "colab_type": "code",
    "id": "xrO5BbIEbU4t"
   },
   "outputs": [],
   "source": [
    "import numpy as np\n",
    "\n",
    "d1 = [5, 8, 3, 8]\n",
    "d2 = [9, 6, 8, 5]\n",
    "d3 = [8, 12, 7, 2]\n",
    "d4 = [4, 16, 7, 3]\n",
    "d5 = [3, 9, 6, 5]\n",
    "d6 = [7, 2, 5, 7]\n",
    "\n",
    "dice = np.array([d1, d2, d3, d4, d5, d6])"
   ]
  },
  {
   "cell_type": "markdown",
   "metadata": {
    "colab_type": "text",
    "id": "uF7GRMChbU4x"
   },
   "source": [
    "run the test using SciPy Stats library\n",
    "\n",
    "Depending on the test, we are generally looking for a threshold at either 0.05 or 0.01. Our test is significant (i.e. we reject the null hypothesis) if we get a p-value below our threshold.\n",
    "\n",
    "For our purposes, we’ll use 0.01 as the threshold.\n",
    "\n",
    "use stats.chi2_contingency() module \n",
    "\n",
    "This function computes the chi-square statistic and p-value for the hypothesis test of independence of the observed frequencies in the contingency table\n",
    "\n",
    "Print the following:\n",
    "\n",
    "- chi2 stat\n",
    "- p-value\n",
    "- degree of freedom\n",
    "- contingency\n",
    "\n"
   ]
  },
  {
   "cell_type": "code",
   "execution_count": 16,
   "metadata": {},
   "outputs": [
    {
     "data": {
      "text/plain": [
       "array([[ 5,  8,  3,  8],\n",
       "       [ 9,  6,  8,  5],\n",
       "       [ 8, 12,  7,  2],\n",
       "       [ 4, 16,  7,  3],\n",
       "       [ 3,  9,  6,  5],\n",
       "       [ 7,  2,  5,  7]])"
      ]
     },
     "execution_count": 16,
     "metadata": {},
     "output_type": "execute_result"
    }
   ],
   "source": [
    "dice"
   ]
  },
  {
   "cell_type": "code",
   "execution_count": 17,
   "metadata": {
    "colab": {},
    "colab_type": "code",
    "id": "vqaTIKmgbU4y"
   },
   "outputs": [
    {
     "name": "stdout",
     "output_type": "stream",
     "text": [
      "(23.315671914716496, 0.07766367301496693, 15, array([[ 5.57419355,  8.20645161,  5.57419355,  4.64516129],\n",
      "       [ 6.50322581,  9.57419355,  6.50322581,  5.41935484],\n",
      "       [ 6.73548387,  9.91612903,  6.73548387,  5.61290323],\n",
      "       [ 6.96774194, 10.25806452,  6.96774194,  5.80645161],\n",
      "       [ 5.34193548,  7.86451613,  5.34193548,  4.4516129 ],\n",
      "       [ 4.87741935,  7.18064516,  4.87741935,  4.06451613]]))\n"
     ]
    }
   ],
   "source": [
    "chi_sq_Stat,p_value,deg_freedom,exp_freq=stats.chi2_contingency(dice)\n",
    "print(chi_sq_Stat,p_value,deg_freedom,exp_freq)\n",
    "\n",
    "### p value is > 1% hence we fail to reject null hypothesis"
   ]
  },
  {
   "cell_type": "markdown",
   "metadata": {
    "colab_type": "text",
    "id": "VzyfaNoabU42"
   },
   "source": [
    "## Question 9\n",
    "\n",
    "### Z-test\n",
    "\n",
    "Get zscore on the above dice data using stats.zscore module from scipy. Convert zscore values to p-value and take mean of the array."
   ]
  },
  {
   "cell_type": "code",
   "execution_count": 18,
   "metadata": {},
   "outputs": [
    {
     "data": {
      "text/plain": [
       "array([[ 5,  8,  3,  8],\n",
       "       [ 9,  6,  8,  5],\n",
       "       [ 8, 12,  7,  2],\n",
       "       [ 4, 16,  7,  3],\n",
       "       [ 3,  9,  6,  5],\n",
       "       [ 7,  2,  5,  7]])"
      ]
     },
     "execution_count": 18,
     "metadata": {},
     "output_type": "execute_result"
    }
   ],
   "source": [
    "dice"
   ]
  },
  {
   "cell_type": "code",
   "execution_count": 19,
   "metadata": {},
   "outputs": [
    {
     "data": {
      "text/plain": [
       "array([[-0.46291005, -0.18884739, -1.83711731,  1.44115338],\n",
       "       [ 1.38873015, -0.64208114,  1.22474487,  0.        ],\n",
       "       [ 0.9258201 ,  0.7176201 ,  0.61237244, -1.44115338],\n",
       "       [-0.9258201 ,  1.62408759,  0.61237244, -0.96076892],\n",
       "       [-1.38873015,  0.03776948,  0.        ,  0.        ],\n",
       "       [ 0.46291005, -1.54854863, -0.61237244,  0.96076892]])"
      ]
     },
     "execution_count": 19,
     "metadata": {},
     "output_type": "execute_result"
    }
   ],
   "source": [
    "z_scores=stats.zscore(dice)\n",
    "z_scores"
   ]
  },
  {
   "cell_type": "code",
   "execution_count": 20,
   "metadata": {},
   "outputs": [
    {
     "name": "stdout",
     "output_type": "stream",
     "text": [
      "[[0.32171442 0.42510621 0.03309629 0.07477068]\n",
      " [0.08245741 0.26041025 0.11033568 0.5       ]\n",
      " [0.17726974 0.23649578 0.27014569 0.07477068]\n",
      " [0.17726974 0.05217856 0.27014569 0.16833418]\n",
      " [0.08245741 0.48493574 0.5        0.5       ]\n",
      " [0.32171442 0.06074513 0.27014569 0.16833418]]\n"
     ]
    }
   ],
   "source": [
    "p_values_one_sided = stats.norm.sf(abs(z_scores))### conversion of zscore values to pvalues\n",
    "p_values_one_sided\n",
    "print(p_values_one_sided)"
   ]
  },
  {
   "cell_type": "code",
   "execution_count": 21,
   "metadata": {},
   "outputs": [
    {
     "data": {
      "text/plain": [
       "0.23428473233691496"
      ]
     },
     "execution_count": 21,
     "metadata": {},
     "output_type": "execute_result"
    }
   ],
   "source": [
    "p_values_one_sided.mean()"
   ]
  },
  {
   "cell_type": "code",
   "execution_count": 22,
   "metadata": {},
   "outputs": [
    {
     "name": "stdout",
     "output_type": "stream",
     "text": [
      "[[0.64342884 0.85021243 0.06619258 0.14954135]\n",
      " [0.16491482 0.5208205  0.22067136 1.        ]\n",
      " [0.35453948 0.47299156 0.54029137 0.14954135]\n",
      " [0.35453948 0.10435712 0.54029137 0.33666837]\n",
      " [0.16491482 0.96987148 1.         1.        ]\n",
      " [0.64342884 0.12149026 0.54029137 0.33666837]]\n"
     ]
    }
   ],
   "source": [
    "p_values_two_sided = stats.norm.sf(abs(z_scores))*2 ### conversion of zscore values to pvalues\n",
    "p_values_two_sided\n",
    "print(p_values_two_sided)"
   ]
  },
  {
   "cell_type": "code",
   "execution_count": 23,
   "metadata": {},
   "outputs": [
    {
     "data": {
      "text/plain": [
       "0.4685694646738299"
      ]
     },
     "execution_count": 23,
     "metadata": {},
     "output_type": "execute_result"
    }
   ],
   "source": [
    "p_values_two_sided.mean()"
   ]
  },
  {
   "cell_type": "markdown",
   "metadata": {
    "colab_type": "text",
    "id": "OyoFUxf5bU47"
   },
   "source": [
    "## Question 10\n",
    "\n",
    "A Paired sample t-test compares means from the same group at different times.\n",
    "\n",
    "The basic two sample t-test is designed for testing differences between independent groups. \n",
    "In some cases, you might be interested in testing differences between samples of the same group at different points in time. \n",
    "We can conduct a paired t-test using the scipy function stats.ttest_rel(). "
   ]
  },
  {
   "cell_type": "code",
   "execution_count": 24,
   "metadata": {
    "colab": {},
    "colab_type": "code",
    "id": "SwVmQ1gRbU48"
   },
   "outputs": [],
   "source": [
    "before= stats.norm.rvs(scale=30, loc=100, size=500) ## Creates a normal distribution with a mean value of 100 and std of 30\n",
    "after = before + stats.norm.rvs(scale=5, loc=-1.25, size=500)"
   ]
  },
  {
   "cell_type": "markdown",
   "metadata": {
    "colab_type": "text",
    "id": "rB_os5FjbU4_"
   },
   "source": [
    "Test whether a weight-loss drug works by checking the weights of the same group patients before and after treatment using above data."
   ]
  },
  {
   "cell_type": "code",
   "execution_count": 25,
   "metadata": {
    "colab": {},
    "colab_type": "code",
    "id": "Fq2wyEqlbU5A"
   },
   "outputs": [
    {
     "data": {
      "text/plain": [
       "array([132.03402599,  71.82990052,  86.16601854, 129.66126092,\n",
       "        88.00968754, 105.2621552 ,  93.74426163,  99.81165957,\n",
       "        86.93951687,  67.68427103,  98.81932487,  81.09121339,\n",
       "        97.43005818, 118.95576117, 152.96826616,  73.26213124,\n",
       "       147.32117908,  57.39320053,  68.1182192 ,  97.38007155,\n",
       "       135.49608388, 127.21708751, 123.80713081, 193.96302388,\n",
       "       113.00857506,  73.36815541, 107.46988317, 112.15673804,\n",
       "       125.08735574,  95.02449714, 122.07474451,  57.42726144,\n",
       "       132.73648984,  90.4109594 , 163.92372733,  67.89032631,\n",
       "       126.86742754,  95.19137712,  96.72600473, 103.62514542,\n",
       "       117.47699079, 100.28129999, 101.59412425,  68.73805228,\n",
       "       120.99310927, 116.0204602 , 114.99423977,  89.41002861,\n",
       "        66.44075148,  94.44327629,  82.51890182, 132.6709456 ,\n",
       "        72.76423396,  47.01000463, 124.45507461,  81.50968788,\n",
       "        50.75582093,  73.55109359, 112.41230642,  76.95497391,\n",
       "       161.50351934, 144.82600496,  81.55167306, 113.37463559,\n",
       "        57.37611857,  49.61823591, 126.67681859, 109.54460747,\n",
       "        84.36297427, 125.58491098,  58.7200263 ,  57.71321325,\n",
       "        81.94025913,  58.56167139,  41.28855121, 151.31603739,\n",
       "       157.57521031, 166.15418128,  95.99322567,  79.94657722,\n",
       "        93.98861306, 146.20706193,  86.99693499,  56.21949301,\n",
       "       128.25875385,  91.85063042, 137.20451614, 121.09380036,\n",
       "       187.04249606, 116.56022819,  87.38686072, 103.6736922 ,\n",
       "       127.1503533 , 126.86481387, 116.28392004,  65.56173605,\n",
       "       151.65953285, 109.66286462, 117.08943602,  76.46753076,\n",
       "       153.03609885,  66.57465188,  67.32171232,  94.44445668,\n",
       "       115.20814121, 109.50193745, 123.7461645 , 144.02559886,\n",
       "       105.01963768,  75.44225002,  72.68940624,  74.57065074,\n",
       "       148.1515813 , 132.20116452,  84.11757473, 103.31700689,\n",
       "        81.75908887,  70.56576045,  68.45129002,  57.9694113 ,\n",
       "       113.5927794 ,  96.21071817,  82.96313595, 115.789175  ,\n",
       "       125.93048356, 136.97568024, 100.63100546,  83.51885477,\n",
       "        98.87544743, 125.27745988,  90.63547021, 121.56016527,\n",
       "       139.46794947,  45.81121568, 100.99871171,  79.18484081,\n",
       "        80.61453772,  88.93718519,  74.45796867, 108.1679599 ,\n",
       "        81.74917483, 100.04966668, 116.10085198,  68.75861592,\n",
       "       129.34220556,  63.3561704 ,  80.68079434,  49.75371024,\n",
       "        73.68369626,  84.2301061 ,  79.68042487,  39.81375003,\n",
       "       174.20083731,   3.12788255,  70.09876371, 147.15244446,\n",
       "        78.60567871, 122.32755555,  97.69836085, 126.8211857 ,\n",
       "        82.04718909, 129.08380386, 103.28264421,  88.51859922,\n",
       "       143.54096089,  83.50792514, 179.73392477, 111.00295841,\n",
       "        70.28944678, 107.32932517,  54.09636353, 124.42653265,\n",
       "        98.4977044 ,  91.56017479, 124.20592698,  67.58592156,\n",
       "        78.66653365, 114.26476155,  86.25863691,  85.28368375,\n",
       "        83.40591989, 112.86326552,  30.85947814, 153.96541091,\n",
       "       164.5360604 , 138.15221995, 100.0441308 ,  65.35217429,\n",
       "       114.12032039,  73.50290244,  99.75554036, 104.36831226,\n",
       "        60.69153973, 108.5899641 , 105.47773358, 132.79908483,\n",
       "       127.20745615,  68.69176572, 107.37328655, 116.15385336,\n",
       "        79.53133532,  73.18182952, 116.27369193,  67.6005192 ,\n",
       "        83.54003191, 130.20773302, 125.07160279, 104.95474221,\n",
       "       125.08075123,  63.48110563,  84.41477249,  82.97634682,\n",
       "       177.61354679,  94.52030165,  44.47791165, 120.13265523,\n",
       "        68.12864303, 106.94016635, 131.95563086, 167.65905466,\n",
       "        96.94950342, 116.72501408, 113.33985011,  51.99735363,\n",
       "       125.64654372, 185.02032339, 121.01935023, 133.29605341,\n",
       "       116.42147612,  89.74785937, 112.33615668, 177.82410987,\n",
       "        31.29200137,  51.56773613,  72.63757051,  85.59898838,\n",
       "       162.4932009 ,  67.03352332,  95.04437034, 151.60997403,\n",
       "        61.21926319,  68.60001284,  93.75392387,  43.97738235,\n",
       "       137.13325962, 117.3676816 , 129.6733458 , 136.33512785,\n",
       "        59.47631166, 115.26751202,  70.85616607,  79.56098627,\n",
       "       121.99747159, 106.33927032, 133.71231678,  97.61203447,\n",
       "        62.78836934, 107.92521857,  75.55836518,  88.42989277,\n",
       "        81.08431619, 119.77631244,  76.63822205, 138.35732308,\n",
       "       130.6275638 , 151.21754491, 108.52665557, 145.5899867 ,\n",
       "        78.96800738, 140.41401265,  87.41919794, 136.04683028,\n",
       "        57.64295097, 132.30988353,  94.07969819, 117.75508664,\n",
       "       106.59700893, 123.98711956, 122.09409745, 100.6444127 ,\n",
       "        61.94334722,  69.10767373, 142.62404369, 138.15395337,\n",
       "        91.42288854,  75.82879511, 160.43255418,  71.57157467,\n",
       "        85.42491488,  71.22898739, 104.27757033,  95.61081618,\n",
       "        95.51839975,  98.88443375, 122.48804558, 130.07387625,\n",
       "       106.404856  , 113.38349055,  93.2155297 ,  93.07676742,\n",
       "        83.63916311,  58.02075358,  59.82794752,  83.46566815,\n",
       "       144.37383483,  67.75415435,  82.06664268, 110.95801715,\n",
       "        98.67066076, 148.056223  , 122.34101078,  65.57265094,\n",
       "       128.86854432,  85.38806845,  43.20620212, 140.30233956,\n",
       "       113.66040197, 137.52507276,  96.65911095, 117.02381722,\n",
       "       103.83740642, 129.60655137, 127.96486151,  82.36337492,\n",
       "        83.51455803,  73.23068797, 113.77280845, 107.40287864,\n",
       "        73.54433604, 113.73808442, 123.94333851, 113.37206623,\n",
       "        57.85698812,  77.64548993, 102.46792243,  60.31383003,\n",
       "       103.46078454,  99.40848298,  94.05719856, 110.91548676,\n",
       "       119.35424694, 129.2490749 ,  64.95694433,  53.84532892,\n",
       "        87.43873529, 147.33254779,  96.22936726, 143.95848988,\n",
       "        82.48263006,  90.42160218,  88.10360716,  72.7220757 ,\n",
       "        65.05949572, 157.04193982, 114.1249557 , 135.10491339,\n",
       "       103.04342691,  69.54646855,  88.10931791, 112.85825467,\n",
       "       137.04899032,  47.51248234,  91.15438116,  98.22933838,\n",
       "       110.94141077, 101.16334805,  82.56869235, 113.6652895 ,\n",
       "       159.5550257 , 123.80040417, 139.57133032, 113.73725701,\n",
       "        78.53081181, 111.74871742,  88.86080591,  89.0371859 ,\n",
       "       109.92890308,  98.1640557 ,  69.44525544,  97.76542692,\n",
       "       127.8297055 , 128.26322476, 149.154337  , 115.24143946,\n",
       "       101.44910819,  90.57967181,  57.50104654,  87.82064924,\n",
       "        81.54161834,  87.19752142, 106.46884153,  97.22514268,\n",
       "        98.18088902,  50.79186989, 125.73076055,  30.72724047,\n",
       "       100.403691  ,  75.89989794, 127.33336525, 117.19282034,\n",
       "       100.14723494, 175.49465882,  93.71422675, 148.46406992,\n",
       "       131.2775631 ,  66.78648037,  95.31829569,  96.47872722,\n",
       "        93.53611688, 165.14830855, 133.84464731, 100.35328541,\n",
       "       111.61264737, 103.2063721 ,  88.82344525,  78.55211725,\n",
       "       117.52920555, 125.87209245, 158.41191679,  33.46129119,\n",
       "       127.64443566, 110.89986391,  42.29582119, 105.22075061,\n",
       "        74.15120142,  96.75812188, 137.5027101 ,  95.11900725,\n",
       "        90.36114804,  42.75042889, 134.47661904, 102.58504895,\n",
       "        66.69635343, 136.8388793 ,  87.87328386,  97.31946156,\n",
       "        82.33828892, 105.35326399, 133.30274408,  76.01679533,\n",
       "        50.22018279, 129.20318285,  67.36429645,  79.98402   ,\n",
       "        90.52960064,  77.21518043,  93.87769909,  78.24811554,\n",
       "       102.50974827, 135.93552805,  79.04159804, 155.42228268,\n",
       "        58.48063593, 116.55568531, 101.08547298, 133.30453212,\n",
       "       119.2297367 , 110.55501629,  90.51931376,  69.64391701,\n",
       "       117.16754379, 158.82891767, 101.15926863, 104.78136768,\n",
       "        76.86681529,  68.38832312,  75.55582848, 136.30729954,\n",
       "       112.14129181, 113.02137516, 110.04350015, 137.71925079,\n",
       "       154.21522968,  66.5513877 , 126.04104987,  77.61962996,\n",
       "        58.39237694,  75.08703382,  94.60976386, 168.85768231,\n",
       "        89.13655857,  77.31124275,  88.900756  , 146.62175789,\n",
       "        73.1100006 ,  63.83033308,  57.72318339,  75.05909372,\n",
       "       123.76351132, 117.39258314, 101.57345676, 149.60076638,\n",
       "        48.82901495, 125.01869115,  99.16965469, 117.25166944,\n",
       "        63.27431092, 152.69171738, 127.63587988, 138.39432122])"
      ]
     },
     "execution_count": 25,
     "metadata": {},
     "output_type": "execute_result"
    }
   ],
   "source": [
    "before"
   ]
  },
  {
   "cell_type": "code",
   "execution_count": 26,
   "metadata": {},
   "outputs": [
    {
     "data": {
      "text/plain": [
       "array([130.11100175,  65.86988267,  82.10418364, 127.97727669,\n",
       "        78.59251147,  96.19958849,  96.04945111,  89.18809888,\n",
       "        79.67085331,  66.72239617, 102.99078242,  85.48108517,\n",
       "        96.50613815, 106.7350621 , 154.46818213,  70.83956395,\n",
       "       140.75056964,  50.80680075,  63.63167984,  95.65574638,\n",
       "       135.07777036, 128.77958529, 122.55718986, 195.78158193,\n",
       "       121.06199156,  84.72494623, 102.57132542, 117.8034075 ,\n",
       "       124.19767716,  93.30575156, 116.58413336,  65.11443771,\n",
       "       121.99241852,  83.59734459, 165.7343749 ,  71.25438681,\n",
       "       126.40649786,  85.71967203,  90.59460282, 102.45933126,\n",
       "       114.42960868,  94.296297  , 105.78616171,  63.66549891,\n",
       "       125.51176274, 117.41478606, 112.30684163,  84.38596171,\n",
       "        60.39316161,  94.74994943,  79.72134748, 134.80714187,\n",
       "        73.90249112,  46.38291299, 119.4295215 ,  82.36168693,\n",
       "        48.0361552 ,  78.88140689, 115.67933435,  75.58712805,\n",
       "       158.90187712, 139.22916014,  88.93205943, 115.85616906,\n",
       "        55.62088878,  41.66218197, 128.24526743, 103.32163539,\n",
       "        76.07304855, 117.69684919,  57.38578682,  58.08533037,\n",
       "        74.73993743,  60.40731874,  39.3300777 , 151.77516832,\n",
       "       153.77620489, 156.51318028, 105.92991472,  74.03860223,\n",
       "        97.40687967, 140.7254087 ,  87.09628305,  52.05779811,\n",
       "       130.39495522,  95.30847045, 130.13262722, 124.11417108,\n",
       "       184.15275354, 118.19531509,  92.65282887, 100.16926762,\n",
       "       125.87204329, 130.39192524, 122.01690743,  74.1520417 ,\n",
       "       145.45536274, 112.4733785 , 118.58931014,  84.03360747,\n",
       "       154.44290006,  61.20108772,  69.705786  ,  86.23738311,\n",
       "       113.92398404, 110.26786198, 124.14976291, 148.37464263,\n",
       "       107.75650006,  84.32514087,  68.36050854,  71.06347431,\n",
       "       144.02572943, 131.659412  ,  77.79183119,  97.89444756,\n",
       "        80.0364019 ,  66.99717348,  68.20959769,  54.33910669,\n",
       "       116.53143364,  99.50468143,  80.54622797, 119.44252514,\n",
       "       130.94133578, 132.81409612,  96.3977933 ,  83.33358983,\n",
       "       101.19246183, 125.43886863,  93.33490381, 117.35181625,\n",
       "       147.99773099,  40.66682786, 109.03555239,  68.40896366,\n",
       "        76.95416685,  88.31185344,  80.71713941, 110.1513278 ,\n",
       "        77.98605842,  93.65030289, 116.1305445 ,  70.96635944,\n",
       "       136.97274393,  59.31733522,  77.33081805,  46.24986708,\n",
       "        70.53779709,  85.11014527,  76.19940503,  28.53651754,\n",
       "       172.2575041 ,  -4.31064546,  78.78080271, 145.09603173,\n",
       "        73.85331639, 127.77626495,  89.3421228 , 128.60235959,\n",
       "        71.7409922 , 126.50301018, 107.97998732,  88.20962838,\n",
       "       144.37152432,  83.3921129 , 185.02680294, 111.26777465,\n",
       "        78.29089284, 104.30926215,  51.93257452, 132.28267235,\n",
       "       106.37489911,  85.5801309 , 123.99363059,  61.98148952,\n",
       "        82.15968721, 109.44322264,  86.65124077,  79.28371882,\n",
       "        81.96640325, 113.59508315,  28.73463458, 147.1605827 ,\n",
       "       157.82864925, 149.38408222,  97.53315968,  61.30513587,\n",
       "       114.14220621,  60.17402168,  99.77718093,  99.86581939,\n",
       "        63.91982084, 106.00877614, 101.86369423, 123.64640841,\n",
       "       128.23779311,  76.34239261, 114.74157809, 114.60181427,\n",
       "        75.34672757,  85.24548744, 119.01755105,  54.05654248,\n",
       "        74.27122467, 125.81547475, 126.92626964, 103.44475419,\n",
       "       125.87198396,  54.83738384,  79.07751924,  81.53379712,\n",
       "       184.63261046, 102.76947823,  48.13838075, 124.90807919,\n",
       "        58.62027699, 107.67391659, 126.38691737, 159.98339256,\n",
       "        98.38958546, 111.20799587, 120.9185361 ,  50.20287914,\n",
       "       119.99744658, 180.48330695, 117.68688797, 129.4577839 ,\n",
       "       119.01499738,  90.42352356, 117.75710194, 181.14960742,\n",
       "        34.22109579,  50.01739843,  75.31295927,  90.85045536,\n",
       "       160.39556357,  67.92592055,  91.75603583, 144.55070152,\n",
       "        60.35786768,  64.99963664,  95.29092635,  46.21288581,\n",
       "       146.49191981, 118.89223361, 133.85923812, 127.82215572,\n",
       "        50.3881579 , 109.59351164,  69.68215652,  79.3201919 ,\n",
       "       118.16154528, 101.38674082, 138.15096026, 101.42104481,\n",
       "        67.03169294,  96.00666358,  64.29365294,  91.7026428 ,\n",
       "        84.99970778, 113.25396113,  76.78618852, 139.20361893,\n",
       "       124.74972957, 147.79643573, 110.81243523, 136.69350869,\n",
       "        74.89688098, 135.89862083,  97.75880608, 130.08078652,\n",
       "        59.24277583, 133.69202507,  96.21482843, 124.43640936,\n",
       "       110.34170009, 128.97042105, 122.92364476, 101.58773947,\n",
       "        62.07999048,  66.01309979, 151.82767136, 136.71833425,\n",
       "        89.28870162,  83.01348606, 165.14095314,  62.04707764,\n",
       "        79.96501993,  70.81606951, 105.98558757,  88.39121985,\n",
       "        96.77858143,  94.31447205, 116.09611367, 122.03697927,\n",
       "       102.71404402, 112.73404974,  87.29000972,  86.44906071,\n",
       "        75.48330973,  55.36171247,  48.22753126,  85.56549659,\n",
       "       147.50549966,  60.83836868,  91.48852378, 116.44243068,\n",
       "        87.58130377, 151.31903534, 116.94015836,  62.67522796,\n",
       "       129.43161772,  86.32896193,  41.40016362, 140.33538483,\n",
       "       109.51996483, 142.74169136,  95.3660233 , 115.25258659,\n",
       "       106.74961626, 129.55179841, 130.56883642,  75.988762  ,\n",
       "        80.63472591,  64.60789242, 124.18678814, 108.42440641,\n",
       "        79.38744661, 108.2222487 , 115.88593914, 111.54916952,\n",
       "        58.37001008,  71.87447355,  96.39790557,  55.66937244,\n",
       "       111.05181115,  97.54457459,  81.65119512, 107.85166717,\n",
       "       120.34969814, 135.66936061,  62.15858029,  52.03975878,\n",
       "        87.24326506, 134.67165868,  96.67739846, 141.74804195,\n",
       "        77.37619341,  89.84599106,  90.19821093,  66.41054523,\n",
       "        69.88074571, 156.6086787 , 116.40139139, 134.71195745,\n",
       "       100.75577888,  61.64778963,  88.25903477, 113.4826613 ,\n",
       "       143.87233929,  58.04281224,  90.08454326,  96.35804924,\n",
       "       116.18376887,  97.99235907,  81.06199893, 110.2449346 ,\n",
       "       155.63749083, 120.29502038, 138.54158658, 107.53957273,\n",
       "        76.64692766, 104.24432824,  88.73369932,  78.17226171,\n",
       "       105.70335173,  93.43319821,  68.72216093, 104.31703803,\n",
       "       127.88114408, 123.00672256, 151.57319463, 107.61604885,\n",
       "        92.66732046,  87.49860592,  53.06985265,  89.52907596,\n",
       "        78.45957449,  80.7005933 ,  99.41647033,  99.27690774,\n",
       "        99.18046122,  54.56510406, 124.60842712,  32.92809816,\n",
       "       105.23199773,  75.5831508 , 119.66916826, 115.5019767 ,\n",
       "       100.13048414, 184.60942409,  88.16902086, 140.17760159,\n",
       "       130.15498795,  71.6069077 ,  98.48231065,  94.17042654,\n",
       "        92.39454781, 156.8169929 , 130.43377683,  90.15414395,\n",
       "       117.16689672,  98.7220361 ,  88.08269819,  80.92551483,\n",
       "       109.56852297, 125.7871369 , 163.61987486,  28.64395012,\n",
       "       117.32118272, 115.30526337,  42.68988163, 102.74838645,\n",
       "        73.94715098,  97.8852444 , 134.0970914 ,  87.24897352,\n",
       "        93.22306239,  47.02976257, 136.25612308, 100.61756506,\n",
       "        59.9809474 , 135.8092636 ,  95.50096389,  94.55950837,\n",
       "        79.53345666, 109.13022312, 137.19340801,  82.13489328,\n",
       "        51.46817196, 124.93397287,  76.40297976,  70.51112088,\n",
       "        92.33673748,  74.08835582,  97.97278139,  77.48929065,\n",
       "        92.00567926, 142.4417767 ,  87.17781317, 146.93061829,\n",
       "        57.54776137, 116.94036152,  93.50051767, 132.8353949 ,\n",
       "       119.56882123, 103.96802064,  88.52314634,  66.53226818,\n",
       "       107.72733906, 159.36608281, 100.39289022, 101.8906143 ,\n",
       "        73.44418042,  69.72313421,  81.03075089, 137.57136445,\n",
       "       111.49972437, 112.72393368, 110.14167957, 142.38570429,\n",
       "       147.65114877,  61.2881006 , 127.72146517,  74.96558249,\n",
       "        58.01028979,  75.69023051,  94.92696534, 177.57878698,\n",
       "        87.50951938,  82.24771001,  95.63475972, 143.36515156,\n",
       "        83.72531506,  65.61501859,  53.29280979,  69.86399845,\n",
       "       122.84858614, 112.41913941, 106.5733899 , 147.0369982 ,\n",
       "        45.74533195, 128.05402915,  99.70099126, 116.25265324,\n",
       "        58.24571093, 152.3339515 , 121.08482737, 138.15013609])"
      ]
     },
     "execution_count": 26,
     "metadata": {},
     "output_type": "execute_result"
    }
   ],
   "source": [
    "after"
   ]
  },
  {
   "cell_type": "code",
   "execution_count": 27,
   "metadata": {},
   "outputs": [
    {
     "data": {
      "text/plain": [
       "Ttest_relResult(statistic=-4.784453711897616, pvalue=2.261339525238353e-06)"
      ]
     },
     "execution_count": 27,
     "metadata": {},
     "output_type": "execute_result"
    }
   ],
   "source": [
    "stats.ttest_rel(after,before)\n",
    "### P value is less than 5%, reject H0. There is sufficient evidence of change in weight before and after the treatment/or after taking weight loss drug ,implying that weight loss drug works"
   ]
  }
 ],
 "metadata": {
  "colab": {
   "collapsed_sections": [],
   "name": "R2_external-lab_hypothesis_testing_questions.ipynb",
   "provenance": [],
   "version": "0.3.2"
  },
  "kernelspec": {
   "display_name": "Python 2",
   "language": "python",
   "name": "python2"
  },
  "language_info": {
   "codemirror_mode": {
    "name": "ipython",
    "version": 2
   },
   "file_extension": ".py",
   "mimetype": "text/x-python",
   "name": "python",
   "nbconvert_exporter": "python",
   "pygments_lexer": "ipython2",
   "version": "2.7.16"
  }
 },
 "nbformat": 4,
 "nbformat_minor": 1
}
