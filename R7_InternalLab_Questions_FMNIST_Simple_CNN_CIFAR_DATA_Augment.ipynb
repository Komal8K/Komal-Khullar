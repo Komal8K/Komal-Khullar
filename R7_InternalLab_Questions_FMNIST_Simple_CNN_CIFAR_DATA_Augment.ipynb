{
 "cells": [
  {
   "cell_type": "markdown",
   "metadata": {
    "colab_type": "text",
    "id": "MyfMmMnPJjvn"
   },
   "source": [
    "## Train a simple convnet on the Fashion MNIST dataset"
   ]
  },
  {
   "cell_type": "markdown",
   "metadata": {
    "colab_type": "text",
    "id": "zjcGOJhcJjvp"
   },
   "source": [
    "In this, we will see how to deal with image data and train a convnet for image classification task."
   ]
  },
  {
   "cell_type": "markdown",
   "metadata": {
    "colab_type": "text",
    "id": "jR0Pl2XjJjvq"
   },
   "source": [
    "### Load the  `fashion_mnist`  dataset\n",
    "\n",
    "** Use keras.datasets to load the dataset **"
   ]
  },
  {
   "cell_type": "code",
   "execution_count": 3,
   "metadata": {
    "colab": {
     "base_uri": "https://localhost:8080/",
     "height": 35
    },
    "colab_type": "code",
    "id": "jd35ev-nwlQZ",
    "outputId": "b101d341-2ae0-4915-a7f9-226a47350ff8"
   },
   "outputs": [
    {
     "name": "stdout",
     "output_type": "stream",
     "text": [
      "TensorFlow 2.x selected.\n"
     ]
    }
   ],
   "source": [
    "%tensorflow_version 2.x"
   ]
  },
  {
   "cell_type": "code",
   "execution_count": 0,
   "metadata": {
    "colab": {},
    "colab_type": "code",
    "id": "0eeQi1DuwoMM"
   },
   "outputs": [],
   "source": [
    "import tensorflow as tf\n",
    "import pandas as pd\n",
    "import numpy as np"
   ]
  },
  {
   "cell_type": "code",
   "execution_count": 5,
   "metadata": {
    "colab": {
     "base_uri": "https://localhost:8080/",
     "height": 173
    },
    "colab_type": "code",
    "id": "Qr75v_UYJjvs",
    "outputId": "f6896e65-0c21-416d-9c2c-22915a44725d"
   },
   "outputs": [
    {
     "name": "stderr",
     "output_type": "stream",
     "text": [
      "Using TensorFlow backend.\n"
     ]
    },
    {
     "name": "stdout",
     "output_type": "stream",
     "text": [
      "Downloading data from http://fashion-mnist.s3-website.eu-central-1.amazonaws.com/train-labels-idx1-ubyte.gz\n",
      "32768/29515 [=================================] - 0s 8us/step\n",
      "Downloading data from http://fashion-mnist.s3-website.eu-central-1.amazonaws.com/train-images-idx3-ubyte.gz\n",
      "26427392/26421880 [==============================] - 4s 0us/step\n",
      "Downloading data from http://fashion-mnist.s3-website.eu-central-1.amazonaws.com/t10k-labels-idx1-ubyte.gz\n",
      "8192/5148 [===============================================] - 0s 0us/step\n",
      "Downloading data from http://fashion-mnist.s3-website.eu-central-1.amazonaws.com/t10k-images-idx3-ubyte.gz\n",
      "4423680/4422102 [==============================] - 2s 0us/step\n"
     ]
    }
   ],
   "source": [
    "from keras.datasets import fashion_mnist\n",
    "(x_train, y_train), (x_test, y_test) = fashion_mnist.load_data()"
   ]
  },
  {
   "cell_type": "markdown",
   "metadata": {
    "colab_type": "text",
    "id": "hTI42-0qJjvw"
   },
   "source": [
    "### Find no.of samples are there in training and test datasets"
   ]
  },
  {
   "cell_type": "code",
   "execution_count": 6,
   "metadata": {
    "colab": {
     "base_uri": "https://localhost:8080/",
     "height": 35
    },
    "colab_type": "code",
    "id": "g2sf67VoJjvx",
    "outputId": "88efc19a-571d-4603-d401-5370c130f276"
   },
   "outputs": [
    {
     "data": {
      "text/plain": [
       "(60000, 28, 28)"
      ]
     },
     "execution_count": 6,
     "metadata": {
      "tags": []
     },
     "output_type": "execute_result"
    }
   ],
   "source": [
    "x_train.shape"
   ]
  },
  {
   "cell_type": "code",
   "execution_count": 7,
   "metadata": {
    "colab": {
     "base_uri": "https://localhost:8080/",
     "height": 35
    },
    "colab_type": "code",
    "id": "ZcufPFu-WhOG",
    "outputId": "1af90d48-1bce-44a5-86a4-123ac6e417d8"
   },
   "outputs": [
    {
     "data": {
      "text/plain": [
       "(10000, 28, 28)"
      ]
     },
     "execution_count": 7,
     "metadata": {
      "tags": []
     },
     "output_type": "execute_result"
    }
   ],
   "source": [
    "x_test.shape"
   ]
  },
  {
   "cell_type": "code",
   "execution_count": 0,
   "metadata": {
    "colab": {
     "base_uri": "https://localhost:8080/",
     "height": 35
    },
    "colab_type": "code",
    "id": "zewyDcBlJjv1",
    "outputId": "e049fd49-5b5a-4897-a880-84a026558c99"
   },
   "outputs": [
    {
     "data": {
      "text/plain": [
       "''"
      ]
     },
     "execution_count": 5,
     "metadata": {
      "tags": []
     },
     "output_type": "execute_result"
    }
   ],
   "source": [
    "\"\""
   ]
  },
  {
   "cell_type": "markdown",
   "metadata": {
    "colab_type": "text",
    "id": "WytT2eRnJjv4"
   },
   "source": [
    "### Find dimensions of an image in the dataset"
   ]
  },
  {
   "cell_type": "code",
   "execution_count": 8,
   "metadata": {
    "colab": {
     "base_uri": "https://localhost:8080/",
     "height": 35
    },
    "colab_type": "code",
    "id": "E4X7NKi7w521",
    "outputId": "dabadb5a-cddc-4853-f569-217f514b4d1f"
   },
   "outputs": [
    {
     "name": "stdout",
     "output_type": "stream",
     "text": [
      "Dimension of each image is 28\n"
     ]
    }
   ],
   "source": [
    "print(\"Dimension of each image is {}\".format(x_train.shape[1-2]))"
   ]
  },
  {
   "cell_type": "code",
   "execution_count": 9,
   "metadata": {
    "colab": {
     "base_uri": "https://localhost:8080/",
     "height": 78
    },
    "colab_type": "code",
    "id": "XycQGBSGJjv5",
    "outputId": "26bce18b-5c1d-42aa-acf5-58fb03a685e6"
   },
   "outputs": [
    {
     "data": {
      "image/png": "[encoded data removed]",
      "text/plain": [
       "<Figure size 720x72 with 10 Axes>"
      ]
     },
     "metadata": {
      "tags": []
     },
     "output_type": "display_data"
    }
   ],
   "source": [
    "\n",
    "# visualizing the first 10 images in the dataset and their labels\n",
    "%matplotlib inline\n",
    "import matplotlib.pyplot as plt\n",
    "plt.figure(figsize=(10, 1))\n",
    "for i in range(10):\n",
    "    plt.subplot(1, 10, i+1)\n",
    "    plt.imshow(x_train[i].reshape(28, 28), cmap=\"gray\")\n",
    "    plt.axis('off')\n",
    "    #print('label for each of the below image: %s' % (np.argmax(y_train[0:10][i])))\n",
    "plt.show()\n"
   ]
  },
  {
   "cell_type": "markdown",
   "metadata": {
    "colab_type": "text",
    "id": "5jtdZ7RqJjv8"
   },
   "source": [
    "### Convert train and test labels to one hot vectors\n",
    "\n",
    "** check `keras.utils.to_categorical()` **"
   ]
  },
  {
   "cell_type": "code",
   "execution_count": 10,
   "metadata": {
    "colab": {
     "base_uri": "https://localhost:8080/",
     "height": 35
    },
    "colab_type": "code",
    "id": "hn_rB9SlxA2k",
    "outputId": "620b44d4-1806-4544-956e-3fc877672f7b"
   },
   "outputs": [
    {
     "data": {
      "text/plain": [
       "array([9, 0, 0, 3, 0, 2, 7, 2, 5, 5], dtype=uint8)"
      ]
     },
     "execution_count": 10,
     "metadata": {
      "tags": []
     },
     "output_type": "execute_result"
    }
   ],
   "source": [
    "y_train[0:10]"
   ]
  },
  {
   "cell_type": "code",
   "execution_count": 0,
   "metadata": {
    "colab": {},
    "colab_type": "code",
    "id": "sAD3q5I6Jjv9"
   },
   "outputs": [],
   "source": [
    "y_train = tf.keras.utils.to_categorical(y_train, num_classes=10)\n",
    "y_test = tf.keras.utils.to_categorical(y_test, num_classes=10)"
   ]
  },
  {
   "cell_type": "code",
   "execution_count": 12,
   "metadata": {
    "colab": {
     "base_uri": "https://localhost:8080/",
     "height": 69
    },
    "colab_type": "code",
    "id": "mgHSCXy3JjwA",
    "outputId": "0a697478-9b26-4fdb-a7a2-98cd5dedbe81"
   },
   "outputs": [
    {
     "name": "stdout",
     "output_type": "stream",
     "text": [
      "(60000, 10)\n",
      "First 5 examples now are:  [[0. 0. 0. 0. 0. 0. 0. 0. 0. 1.]\n",
      " [1. 0. 0. 0. 0. 0. 0. 0. 0. 0.]]\n"
     ]
    }
   ],
   "source": [
    "print(y_train.shape)\n",
    "print('First 5 examples now are: ', y_train[0:2])"
   ]
  },
  {
   "cell_type": "markdown",
   "metadata": {
    "colab_type": "text",
    "id": "xO5BRBzBJjwD"
   },
   "source": [
    "### Normalize both the train and test image data from 0-255 to 0-1"
   ]
  },
  {
   "cell_type": "code",
   "execution_count": 0,
   "metadata": {
    "colab": {},
    "colab_type": "code",
    "id": "3fUQpMHxJjwE"
   },
   "outputs": [],
   "source": [
    "x_train = x_train.astype('float32')\n",
    "x_test = x_test.astype('float32')"
   ]
  },
  {
   "cell_type": "code",
   "execution_count": 14,
   "metadata": {
    "colab": {
     "base_uri": "https://localhost:8080/",
     "height": 69
    },
    "colab_type": "code",
    "id": "Okwo_SB5JjwI",
    "outputId": "25e3e3dd-9d75-4b70-fe77-09748ac8bc3b"
   },
   "outputs": [
    {
     "name": "stdout",
     "output_type": "stream",
     "text": [
      "x_train shape: (60000, 28, 28)\n",
      "60000 train samples\n",
      "10000 test samples\n"
     ]
    }
   ],
   "source": [
    "#Normalizing the input\n",
    "x_train /= 255.0\n",
    "x_test /= 255.0\n",
    "print('x_train shape:', x_train.shape)\n",
    "print(x_train.shape[0], 'train samples')\n",
    "print(x_test.shape[0], 'test samples')"
   ]
  },
  {
   "cell_type": "markdown",
   "metadata": {
    "colab_type": "text",
    "id": "da5-DwgrJjwM"
   },
   "source": [
    "### Reshape the data from 28x28 to 28x28x1 to match input dimensions in Conv2D layer in keras"
   ]
  },
  {
   "cell_type": "code",
   "execution_count": 15,
   "metadata": {
    "colab": {
     "base_uri": "https://localhost:8080/",
     "height": 69
    },
    "colab_type": "code",
    "id": "LPGVQ-JJJjwN",
    "outputId": "c8133bfb-d8c8-416d-9d19-a20acdedd335"
   },
   "outputs": [
    {
     "name": "stdout",
     "output_type": "stream",
     "text": [
      "x_train shape: (60000, 28, 28, 1)\n",
      "60000 train samples\n",
      "10000 test samples\n"
     ]
    }
   ],
   "source": [
    "# input image dimensions\n",
    "img_rows, img_cols = 28, 28\n",
    "\n",
    "x_train = x_train.reshape(x_train.shape[0], img_rows, img_cols, 1)\n",
    "x_test = x_test.reshape(x_test.shape[0], img_rows, img_cols, 1)\n",
    "input_shape = (img_rows, img_cols, 1)\n",
    "print('x_train shape:', x_train.shape)\n",
    "print(x_train.shape[0], 'train samples')\n",
    "print(x_test.shape[0], 'test samples')"
   ]
  },
  {
   "cell_type": "code",
   "execution_count": 0,
   "metadata": {
    "colab": {},
    "colab_type": "code",
    "id": "ZL8sW7XLlmkp"
   },
   "outputs": [],
   "source": [
    "#x_train = x_train.reshape(x_train.shape[0], 28, 28, 1)\n",
    "#x_test = x_test.reshape(x_test.shape[0], 28, 28, 1)"
   ]
  },
  {
   "cell_type": "markdown",
   "metadata": {
    "colab_type": "text",
    "id": "OFRRTJq8JjwQ"
   },
   "source": [
    "### Import the necessary layers from keras to build the model"
   ]
  },
  {
   "cell_type": "code",
   "execution_count": 0,
   "metadata": {
    "colab": {},
    "colab_type": "code",
    "id": "dWTZYnKSJjwR"
   },
   "outputs": [],
   "source": [
    "from tensorflow.keras.models import Sequential\n",
    "from tensorflow.keras.layers import Dense,Conv2D,Activation,Flatten,Dropout,MaxPool2D\n",
    "from tensorflow.keras import regularizers\n",
    "from tensorflow.keras import optimizers"
   ]
  },
  {
   "cell_type": "markdown",
   "metadata": {
    "colab_type": "text",
    "id": "C18AoS7eJjwU"
   },
   "source": [
    "### Build a model \n",
    "\n",
    "** with 2 Conv layers having `32 3x3 filters` in both convolutions with `relu activations` and `flatten` before passing the feature map into 2 fully connected layers (or Dense Layers) having 128 and 10 neurons with `relu` and `softmax` activations respectively. Now, using `categorical_crossentropy` loss with `adam` optimizer train the model with early stopping `patience=5` and no.of `epochs=10`. **"
   ]
  },
  {
   "cell_type": "code",
   "execution_count": 0,
   "metadata": {
    "colab": {},
    "colab_type": "code",
    "id": "C1Fyj5H9vqfJ"
   },
   "outputs": [],
   "source": [
    "#Initialize the model\n",
    "model = Sequential()\n",
    "\n",
    "#Add a Convolutional Layer with 32 filters of size 3X3 and activation function as 'ReLU' \n",
    "model.add(Conv2D(32, kernel_size=(3, 3),\n",
    "                 activation='relu',\n",
    "                 input_shape=input_shape))\n",
    "\n",
    "#Add a Convolutional Layer with 32 filters of size 3X3 and activation function as 'ReLU' \n",
    "model.add(Conv2D(32, (3, 3), activation='relu'))\n",
    "\n",
    "#Flatten the layer\n",
    "model.add(Flatten())\n",
    "\n",
    "#Add Fully Connected Layer with 128 units and activation function as 'ReLU'\n",
    "model.add(Dense(128, activation='relu'))\n",
    "\n",
    "#Add Fully Connected Layer with 10 units and activation function as 'softmax'\n",
    "model.add(Dense(10, activation='softmax'))\n",
    "\n",
    "#To use adam optimizer for learning weights with learning rate = 0.001\n",
    "#optimizer = Adam(lr=0.001)\n",
    "#Set the loss function and optimizer for the model training\n",
    "#model.compile(loss=categorical_crossentropy,\n",
    "              #optimizer=optimizer,\n",
    "              #metrics=['accuracy'])\n",
    "\n",
    "#model=Sequential()\n",
    "#model.add(Conv2D(32,kernel_size=(3,3),activation='relu',input_shape=(28,28,1)))\n",
    "#model.add(Conv2D(32,kernel_size=(3,3),activation='relu',input_shape=(28,28,1)))\n",
    "#model.add(Flatten())\n",
    "#model.add(Dense(128,activation='relu'))\n",
    "#model.add(Dense(10,activation='softmax'))\n"
   ]
  },
  {
   "cell_type": "code",
   "execution_count": 18,
   "metadata": {
    "colab": {
     "base_uri": "https://localhost:8080/",
     "height": 329
    },
    "colab_type": "code",
    "id": "rKBdXj1ByOP-",
    "outputId": "fe0f56e3-1ca3-4c4f-df6b-74dad85fc7ce"
   },
   "outputs": [
    {
     "name": "stdout",
     "output_type": "stream",
     "text": [
      "Model: \"sequential\"\n",
      "_________________________________________________________________\n",
      "Layer (type)                 Output Shape              Param #   \n",
      "=================================================================\n",
      "conv2d (Conv2D)              (None, 26, 26, 32)        320       \n",
      "_________________________________________________________________\n",
      "conv2d_1 (Conv2D)            (None, 24, 24, 32)        9248      \n",
      "_________________________________________________________________\n",
      "flatten (Flatten)            (None, 18432)             0         \n",
      "_________________________________________________________________\n",
      "dense (Dense)                (None, 128)               2359424   \n",
      "_________________________________________________________________\n",
      "dense_1 (Dense)              (None, 10)                1290      \n",
      "=================================================================\n",
      "Total params: 2,370,282\n",
      "Trainable params: 2,370,282\n",
      "Non-trainable params: 0\n",
      "_________________________________________________________________\n"
     ]
    }
   ],
   "source": [
    "model.summary()"
   ]
  },
  {
   "cell_type": "code",
   "execution_count": 19,
   "metadata": {
    "colab": {
     "base_uri": "https://localhost:8080/",
     "height": 399
    },
    "colab_type": "code",
    "id": "ODwfYCWcxv9k",
    "outputId": "35c130de-82c8-4a41-e632-44dad8e2f8a2"
   },
   "outputs": [
    {
     "name": "stdout",
     "output_type": "stream",
     "text": [
      "Train on 60000 samples, validate on 10000 samples\n",
      "Epoch 1/10\n",
      "60000/60000 [==============================] - 8s 139us/sample - loss: 0.5284 - accuracy: 0.8171 - val_loss: 0.3915 - val_accuracy: 0.8625\n",
      "Epoch 2/10\n",
      "60000/60000 [==============================] - 1s 25us/sample - loss: 0.3210 - accuracy: 0.8874 - val_loss: 0.3358 - val_accuracy: 0.8812\n",
      "Epoch 3/10\n",
      "60000/60000 [==============================] - 1s 24us/sample - loss: 0.2658 - accuracy: 0.9047 - val_loss: 0.2996 - val_accuracy: 0.8900\n",
      "Epoch 4/10\n",
      "60000/60000 [==============================] - 1s 25us/sample - loss: 0.2331 - accuracy: 0.9155 - val_loss: 0.2766 - val_accuracy: 0.8987\n",
      "Epoch 5/10\n",
      "60000/60000 [==============================] - 1s 24us/sample - loss: 0.2055 - accuracy: 0.9259 - val_loss: 0.2657 - val_accuracy: 0.9035\n",
      "Epoch 6/10\n",
      "60000/60000 [==============================] - 1s 24us/sample - loss: 0.1849 - accuracy: 0.9322 - val_loss: 0.2654 - val_accuracy: 0.9067\n",
      "Epoch 7/10\n",
      "60000/60000 [==============================] - 1s 24us/sample - loss: 0.1602 - accuracy: 0.9418 - val_loss: 0.2557 - val_accuracy: 0.9109\n",
      "Epoch 8/10\n",
      "60000/60000 [==============================] - 1s 24us/sample - loss: 0.1402 - accuracy: 0.9493 - val_loss: 0.2569 - val_accuracy: 0.9110\n",
      "Epoch 9/10\n",
      "60000/60000 [==============================] - 1s 25us/sample - loss: 0.1202 - accuracy: 0.9569 - val_loss: 0.2599 - val_accuracy: 0.9149\n",
      "Epoch 10/10\n",
      "60000/60000 [==============================] - 1s 24us/sample - loss: 0.1079 - accuracy: 0.9611 - val_loss: 0.2742 - val_accuracy: 0.9113\n"
     ]
    },
    {
     "data": {
      "text/plain": [
       "<tensorflow.python.keras.callbacks.History at 0x7f9fe036f080>"
      ]
     },
     "execution_count": 19,
     "metadata": {
      "tags": []
     },
     "output_type": "execute_result"
    }
   ],
   "source": [
    "model.compile(optimizer='adam',loss='categorical_crossentropy',metrics=['accuracy'])\n",
    "model.fit(x_train,y_train,epochs=10,batch_size=512,callbacks=[tf.keras.callbacks.EarlyStopping(monitor='val_loss', patience=5)],\n",
    "                                   validation_data=(x_test, y_test))"
   ]
  },
  {
   "cell_type": "markdown",
   "metadata": {
    "colab_type": "text",
    "id": "ju69vKdIJjwX"
   },
   "source": [
    "### Now, to the above model add `max` pooling layer of `filter size 2x2` and `dropout` layer with `p=0.25` after the 2 conv layers and run the model"
   ]
  },
  {
   "cell_type": "code",
   "execution_count": 20,
   "metadata": {
    "colab": {
     "base_uri": "https://localhost:8080/",
     "height": 381
    },
    "colab_type": "code",
    "id": "L2hAP94vJjwY",
    "outputId": "bd257d91-9396-4265-ac05-391cd1e21df7"
   },
   "outputs": [
    {
     "name": "stdout",
     "output_type": "stream",
     "text": [
      "Train on 60000 samples, validate on 10000 samples\n",
      "Epoch 1/10\n",
      "60000/60000 - 2s - loss: 0.6307 - accuracy: 0.7753 - val_loss: 0.4326 - val_accuracy: 0.8438\n",
      "Epoch 2/10\n",
      "60000/60000 - 1s - loss: 0.3790 - accuracy: 0.8668 - val_loss: 0.3483 - val_accuracy: 0.8787\n",
      "Epoch 3/10\n",
      "60000/60000 - 1s - loss: 0.3288 - accuracy: 0.8828 - val_loss: 0.3241 - val_accuracy: 0.8849\n",
      "Epoch 4/10\n",
      "60000/60000 - 1s - loss: 0.2988 - accuracy: 0.8924 - val_loss: 0.2946 - val_accuracy: 0.8938\n",
      "Epoch 5/10\n",
      "60000/60000 - 1s - loss: 0.2749 - accuracy: 0.9009 - val_loss: 0.2881 - val_accuracy: 0.8955\n",
      "Epoch 6/10\n",
      "60000/60000 - 1s - loss: 0.2532 - accuracy: 0.9083 - val_loss: 0.2789 - val_accuracy: 0.8971\n",
      "Epoch 7/10\n",
      "60000/60000 - 1s - loss: 0.2373 - accuracy: 0.9151 - val_loss: 0.2632 - val_accuracy: 0.9039\n",
      "Epoch 8/10\n",
      "60000/60000 - 1s - loss: 0.2293 - accuracy: 0.9164 - val_loss: 0.2475 - val_accuracy: 0.9093\n",
      "Epoch 9/10\n",
      "60000/60000 - 1s - loss: 0.2138 - accuracy: 0.9215 - val_loss: 0.2410 - val_accuracy: 0.9120\n",
      "Epoch 10/10\n",
      "60000/60000 - 1s - loss: 0.2011 - accuracy: 0.9255 - val_loss: 0.2330 - val_accuracy: 0.9142\n"
     ]
    }
   ],
   "source": [
    "model=Sequential()\n",
    "model.add(Conv2D(32,2*2,activation='relu',input_shape=input_shape))\n",
    "model.add(Conv2D(32,2*2,activation='relu',input_shape=input_shape))\n",
    "model.add(MaxPool2D(pool_size=(2, 2)))\n",
    "model.add(Dropout(0.25))\n",
    "model.add(Flatten())\n",
    "model.add(Dense(128,activation='relu'))\n",
    "model.add(Dense(10,activation='softmax'))\n",
    "model.compile(loss='categorical_crossentropy', optimizer=\"adam\", metrics=['accuracy'])\n",
    "output = model.fit(x_train, y_train, batch_size=512, epochs=10, verbose=2,\n",
    "                    validation_data=(x_test, y_test))"
   ]
  },
  {
   "cell_type": "markdown",
   "metadata": {
    "colab_type": "text",
    "id": "lGTA3bfEJjwa"
   },
   "source": [
    "### Now, to the above model, lets add Data Augmentation "
   ]
  },
  {
   "cell_type": "markdown",
   "metadata": {
    "colab_type": "text",
    "id": "F6gX8n5SJjwb"
   },
   "source": [
    "### Import the ImageDataGenrator from keras and fit the training images"
   ]
  },
  {
   "cell_type": "code",
   "execution_count": 0,
   "metadata": {
    "colab": {},
    "colab_type": "code",
    "id": "Cbz4uHBuJjwc"
   },
   "outputs": [],
   "source": [
    "datagen = tf.keras.preprocessing.image.ImageDataGenerator(\n",
    "    featurewise_center=False, \n",
    "    samplewise_center=False, \n",
    "    featurewise_std_normalization=False,\n",
    "    samplewise_std_normalization=False,\n",
    "    rotation_range=25,\n",
    "    width_shift_range=0.1,\n",
    "    height_shift_range=0.1,\n",
    "    horizontal_flip=False,\n",
    "    vertical_flip=False)"
   ]
  },
  {
   "cell_type": "code",
   "execution_count": 0,
   "metadata": {
    "colab": {},
    "colab_type": "code",
    "id": "xPjKErHFyuDq"
   },
   "outputs": [],
   "source": [
    "datagen.fit(x_train)"
   ]
  },
  {
   "cell_type": "markdown",
   "metadata": {
    "colab_type": "text",
    "id": "pl-8dOo7Jjwf"
   },
   "source": [
    "#### Showing 5 versions of the first image in training dataset using image datagenerator.flow()"
   ]
  },
  {
   "cell_type": "code",
   "execution_count": 23,
   "metadata": {
    "colab": {
     "base_uri": "https://localhost:8080/",
     "height": 89
    },
    "colab_type": "code",
    "id": "DpI1_McYJjwg",
    "outputId": "cc384f14-56a6-47b4-d47c-bbbd0ac00ce7",
    "scrolled": true
   },
   "outputs": [
    {
     "data": {
      "image/png": "[encoded data removed]",
      "text/plain": [
       "<Figure size 432x288 with 5 Axes>"
      ]
     },
     "metadata": {
      "tags": []
     },
     "output_type": "display_data"
    }
   ],
   "source": [
    "from matplotlib import pyplot as plt\n",
    "gen = datagen.flow(x_train[0:1], batch_size=1)\n",
    "for i in range(1, 6):\n",
    "    plt.subplot(1,5,i)\n",
    "    plt.axis(\"off\")\n",
    "    plt.imshow(gen.next().squeeze(), cmap='gray')\n",
    "    plt.plot()\n",
    "plt.show()"
   ]
  },
  {
   "cell_type": "markdown",
   "metadata": {
    "colab_type": "text",
    "id": "dmPl5yE8Jjwm"
   },
   "source": [
    "### Run the above model using fit_generator()"
   ]
  },
  {
   "cell_type": "code",
   "execution_count": 24,
   "metadata": {
    "colab": {
     "base_uri": "https://localhost:8080/",
     "height": 869
    },
    "colab_type": "code",
    "id": "44ZnDdJYJjwn",
    "outputId": "2b9abdb4-cb0b-4b89-dc29-de015c3dc0fc"
   },
   "outputs": [
    {
     "name": "stdout",
     "output_type": "stream",
     "text": [
      "WARNING:tensorflow:From <ipython-input-24-da43dcc8a275>:3: Model.fit_generator (from tensorflow.python.keras.engine.training) is deprecated and will be removed in a future version.\n",
      "Instructions for updating:\n",
      "Please use Model.fit, which supports generators.\n",
      "WARNING:tensorflow:sample_weight modes were coerced from\n",
      "  ...\n",
      "    to  \n",
      "  ['...']\n",
      "Train for 1875.0 steps, validate on 10000 samples\n",
      "Epoch 1/10\n",
      "WARNING:tensorflow:multiprocessing can interact badly with TensorFlow, causing nondeterministic deadlocks. For high performance data pipelines tf.data is recommended.\n",
      "1874/1875 [============================>.] - ETA: 0s - loss: 0.5413 - accuracy: 0.7966WARNING:tensorflow:multiprocessing can interact badly with TensorFlow, causing nondeterministic deadlocks. For high performance data pipelines tf.data is recommended.\n",
      "1875/1875 [==============================] - 24s 13ms/step - loss: 0.5412 - accuracy: 0.7967 - val_loss: 0.3698 - val_accuracy: 0.8651\n",
      "Epoch 2/10\n",
      "WARNING:tensorflow:multiprocessing can interact badly with TensorFlow, causing nondeterministic deadlocks. For high performance data pipelines tf.data is recommended.\n",
      "1871/1875 [============================>.] - ETA: 0s - loss: 0.4351 - accuracy: 0.8373WARNING:tensorflow:multiprocessing can interact badly with TensorFlow, causing nondeterministic deadlocks. For high performance data pipelines tf.data is recommended.\n",
      "1875/1875 [==============================] - 25s 13ms/step - loss: 0.4351 - accuracy: 0.8373 - val_loss: 0.3473 - val_accuracy: 0.8753\n",
      "Epoch 3/10\n",
      "WARNING:tensorflow:multiprocessing can interact badly with TensorFlow, causing nondeterministic deadlocks. For high performance data pipelines tf.data is recommended.\n",
      "1874/1875 [============================>.] - ETA: 0s - loss: 0.3996 - accuracy: 0.8518WARNING:tensorflow:multiprocessing can interact badly with TensorFlow, causing nondeterministic deadlocks. For high performance data pipelines tf.data is recommended.\n",
      "1875/1875 [==============================] - 24s 13ms/step - loss: 0.3996 - accuracy: 0.8518 - val_loss: 0.3298 - val_accuracy: 0.8771\n",
      "Epoch 4/10\n",
      "WARNING:tensorflow:multiprocessing can interact badly with TensorFlow, causing nondeterministic deadlocks. For high performance data pipelines tf.data is recommended.\n",
      "1870/1875 [============================>.] - ETA: 0s - loss: 0.3738 - accuracy: 0.8603WARNING:tensorflow:multiprocessing can interact badly with TensorFlow, causing nondeterministic deadlocks. For high performance data pipelines tf.data is recommended.\n",
      "1875/1875 [==============================] - 24s 13ms/step - loss: 0.3736 - accuracy: 0.8603 - val_loss: 0.3202 - val_accuracy: 0.8811\n",
      "Epoch 5/10\n",
      "WARNING:tensorflow:multiprocessing can interact badly with TensorFlow, causing nondeterministic deadlocks. For high performance data pipelines tf.data is recommended.\n",
      "1872/1875 [============================>.] - ETA: 0s - loss: 0.3564 - accuracy: 0.8676WARNING:tensorflow:multiprocessing can interact badly with TensorFlow, causing nondeterministic deadlocks. For high performance data pipelines tf.data is recommended.\n",
      "1875/1875 [==============================] - 24s 13ms/step - loss: 0.3566 - accuracy: 0.8675 - val_loss: 0.3170 - val_accuracy: 0.8829\n",
      "Epoch 6/10\n",
      "WARNING:tensorflow:multiprocessing can interact badly with TensorFlow, causing nondeterministic deadlocks. For high performance data pipelines tf.data is recommended.\n",
      "1873/1875 [============================>.] - ETA: 0s - loss: 0.3469 - accuracy: 0.8699WARNING:tensorflow:multiprocessing can interact badly with TensorFlow, causing nondeterministic deadlocks. For high performance data pipelines tf.data is recommended.\n",
      "1875/1875 [==============================] - 24s 13ms/step - loss: 0.3469 - accuracy: 0.8699 - val_loss: 0.2993 - val_accuracy: 0.8910\n",
      "Epoch 7/10\n",
      "WARNING:tensorflow:multiprocessing can interact badly with TensorFlow, causing nondeterministic deadlocks. For high performance data pipelines tf.data is recommended.\n",
      "1872/1875 [============================>.] - ETA: 0s - loss: 0.3364 - accuracy: 0.8743WARNING:tensorflow:multiprocessing can interact badly with TensorFlow, causing nondeterministic deadlocks. For high performance data pipelines tf.data is recommended.\n",
      "1875/1875 [==============================] - 25s 13ms/step - loss: 0.3365 - accuracy: 0.8743 - val_loss: 0.3017 - val_accuracy: 0.8880\n",
      "Epoch 8/10\n",
      "WARNING:tensorflow:multiprocessing can interact badly with TensorFlow, causing nondeterministic deadlocks. For high performance data pipelines tf.data is recommended.\n",
      "1874/1875 [============================>.] - ETA: 0s - loss: 0.3302 - accuracy: 0.8774WARNING:tensorflow:multiprocessing can interact badly with TensorFlow, causing nondeterministic deadlocks. For high performance data pipelines tf.data is recommended.\n",
      "1875/1875 [==============================] - 24s 13ms/step - loss: 0.3302 - accuracy: 0.8774 - val_loss: 0.2955 - val_accuracy: 0.8954\n",
      "Epoch 9/10\n",
      "WARNING:tensorflow:multiprocessing can interact badly with TensorFlow, causing nondeterministic deadlocks. For high performance data pipelines tf.data is recommended.\n",
      "1874/1875 [============================>.] - ETA: 0s - loss: 0.3210 - accuracy: 0.8809WARNING:tensorflow:multiprocessing can interact badly with TensorFlow, causing nondeterministic deadlocks. For high performance data pipelines tf.data is recommended.\n",
      "1875/1875 [==============================] - 25s 13ms/step - loss: 0.3209 - accuracy: 0.8809 - val_loss: 0.3081 - val_accuracy: 0.8835\n",
      "Epoch 10/10\n",
      "WARNING:tensorflow:multiprocessing can interact badly with TensorFlow, causing nondeterministic deadlocks. For high performance data pipelines tf.data is recommended.\n",
      "1870/1875 [============================>.] - ETA: 0s - loss: 0.3162 - accuracy: 0.8829WARNING:tensorflow:multiprocessing can interact badly with TensorFlow, causing nondeterministic deadlocks. For high performance data pipelines tf.data is recommended.\n",
      "1875/1875 [==============================] - 25s 13ms/step - loss: 0.3161 - accuracy: 0.8830 - val_loss: 0.3047 - val_accuracy: 0.8936\n"
     ]
    }
   ],
   "source": [
    "output = model.fit_generator(datagen.flow(x_train, y_train, batch_size=32), \n",
    "                             validation_data=(x_test, y_test), use_multiprocessing=True,\n",
    "                     steps_per_epoch=len(x_train) / 32, epochs=10)"
   ]
  },
  {
   "cell_type": "markdown",
   "metadata": {
    "colab_type": "text",
    "id": "MwQQW5iOJjwq"
   },
   "source": [
    "###  Report the final train and validation accuracy"
   ]
  },
  {
   "cell_type": "code",
   "execution_count": 25,
   "metadata": {
    "colab": {
     "base_uri": "https://localhost:8080/",
     "height": 35
    },
    "colab_type": "code",
    "id": "c1SrtBEPJjwq",
    "outputId": "8e73d31e-e46e-439f-dbd8-e06d89d8c2d4"
   },
   "outputs": [
    {
     "data": {
      "text/plain": [
       "[0.88296664]"
      ]
     },
     "execution_count": 25,
     "metadata": {
      "tags": []
     },
     "output_type": "execute_result"
    }
   ],
   "source": [
    "output.history['accuracy'][-1:]"
   ]
  },
  {
   "cell_type": "code",
   "execution_count": 26,
   "metadata": {
    "colab": {
     "base_uri": "https://localhost:8080/",
     "height": 35
    },
    "colab_type": "code",
    "id": "ZBwVWNQC2qZD",
    "outputId": "e130ec3e-4653-4b73-c36e-4f8964ab5564"
   },
   "outputs": [
    {
     "data": {
      "text/plain": [
       "[0.8936]"
      ]
     },
     "execution_count": 26,
     "metadata": {
      "tags": []
     },
     "output_type": "execute_result"
    }
   ],
   "source": [
    "output.history['val_accuracy'][-1:]"
   ]
  },
  {
   "cell_type": "markdown",
   "metadata": {
    "colab_type": "text",
    "id": "8KXqmUDW2rM1"
   },
   "source": [
    "## **DATA AUGMENTATION ON CIFAR10 DATASET**"
   ]
  },
  {
   "cell_type": "markdown",
   "metadata": {
    "colab_type": "text",
    "id": "8mja6OgQ3L18"
   },
   "source": [
    "One of the best ways to improve the performance of a Deep Learning model is to add more data to the training set. Aside from gathering more instances from the wild that are representative of the distinction task, we want to develop a set of methods that enhance the data we already have. There are many ways to augment existing datasets and produce more robust models. In the image domain, these are done to utilize the full power of the convolutional neural network, which is able to capture translational invariance. This translational invariance is what makes image recognition such a difficult task in the first place. You want the dataset to be representative of the many different positions, angles, lightings, and miscellaneous distortions that are of interest to the vision task."
   ]
  },
  {
   "cell_type": "markdown",
   "metadata": {
    "colab_type": "text",
    "id": "6HzVTPUM3WZJ"
   },
   "source": [
    "### **Import neessary libraries for data augmentation**"
   ]
  },
  {
   "cell_type": "code",
   "execution_count": 0,
   "metadata": {
    "colab": {},
    "colab_type": "code",
    "id": "PPM558TX4KMb"
   },
   "outputs": [],
   "source": []
  },
  {
   "cell_type": "markdown",
   "metadata": {
    "colab_type": "text",
    "id": "W6hicLwP4SqY"
   },
   "source": [
    "### **Load CIFAR10 dataset**"
   ]
  },
  {
   "cell_type": "code",
   "execution_count": 0,
   "metadata": {
    "colab": {},
    "colab_type": "code",
    "id": "NQ1WzrXd4WNk"
   },
   "outputs": [],
   "source": [
    "from keras.datasets import cifar10"
   ]
  },
  {
   "cell_type": "code",
   "execution_count": 28,
   "metadata": {
    "colab": {
     "base_uri": "https://localhost:8080/",
     "height": 52
    },
    "colab_type": "code",
    "id": "R9Pht1ggHuiT",
    "outputId": "9ceab8aa-57c4-429b-bd27-0fc7286fedb4"
   },
   "outputs": [
    {
     "name": "stdout",
     "output_type": "stream",
     "text": [
      "Downloading data from https://www.cs.toronto.edu/~kriz/cifar-10-python.tar.gz\n",
      "170500096/170498071 [==============================] - 11s 0us/step\n"
     ]
    }
   ],
   "source": [
    "(x_train, y_train), (x_test, y_test) = cifar10.load_data()"
   ]
  },
  {
   "cell_type": "code",
   "execution_count": 0,
   "metadata": {
    "colab": {},
    "colab_type": "code",
    "id": "3n28ccU6Hp6s"
   },
   "outputs": [],
   "source": [
    "x_train =  x_train.astype(\"float32\") / 255\n",
    "x_test = x_test.astype(\"float32\") / 255"
   ]
  },
  {
   "cell_type": "code",
   "execution_count": 30,
   "metadata": {
    "colab": {
     "base_uri": "https://localhost:8080/",
     "height": 35
    },
    "colab_type": "code",
    "id": "TDKndQp7doCn",
    "outputId": "95430b99-bf2b-4daf-9e72-1260ae57e01c"
   },
   "outputs": [
    {
     "data": {
      "text/plain": [
       "(50000, 32, 32, 3)"
      ]
     },
     "execution_count": 30,
     "metadata": {
      "tags": []
     },
     "output_type": "execute_result"
    }
   ],
   "source": [
    "x_train.shape"
   ]
  },
  {
   "cell_type": "code",
   "execution_count": 0,
   "metadata": {
    "colab": {},
    "colab_type": "code",
    "id": "KckUygrs2lPU"
   },
   "outputs": [],
   "source": [
    "y_train = tf.keras.utils.to_categorical(y_train, 10)\n",
    "y_test = tf.keras.utils.to_categorical(y_test, 10)"
   ]
  },
  {
   "cell_type": "code",
   "execution_count": 0,
   "metadata": {
    "colab": {},
    "colab_type": "code",
    "id": "I91pYwht2qEv"
   },
   "outputs": [],
   "source": [
    "x_train = x_train.reshape(x_train.shape[0], 32, 32, 3)\n",
    "x_test = x_test.reshape(x_test.shape[0], 32, 32, 3)"
   ]
  },
  {
   "cell_type": "markdown",
   "metadata": {
    "colab_type": "text",
    "id": "JN3vYYhK4W0u"
   },
   "source": [
    "### **Create a data_gen funtion to genererator with image rotation,shifting image horizontally and vertically with random flip horizontally.**"
   ]
  },
  {
   "cell_type": "code",
   "execution_count": 0,
   "metadata": {
    "colab": {},
    "colab_type": "code",
    "id": "JJbekTKi4cmM"
   },
   "outputs": [],
   "source": [
    "model = Sequential()\n",
    "model.add(Conv2D(32, kernel_size=(3, 3), activation='relu', input_shape=(32,32,3)))\n",
    "model.add(Conv2D(32, kernel_size=(3, 3), activation='relu', input_shape=(32,32,3)))\n",
    "model.add(MaxPool2D(pool_size=(2, 2)))\n",
    "model.add(Dropout(0.25))\n",
    "model.add(Flatten())\n",
    "model.add(Dense(128, activation='relu'))\n",
    "model.add(Dense(10, activation='softmax'))\n",
    "model.compile(loss='categorical_crossentropy', optimizer=\"adam\", metrics=['accuracy'])"
   ]
  },
  {
   "cell_type": "code",
   "execution_count": 34,
   "metadata": {
    "colab": {
     "base_uri": "https://localhost:8080/",
     "height": 399
    },
    "colab_type": "code",
    "id": "BdykL8Rf3ElY",
    "outputId": "c759f487-c93a-4311-989e-306064be0d48"
   },
   "outputs": [
    {
     "name": "stdout",
     "output_type": "stream",
     "text": [
      "Model: \"sequential_2\"\n",
      "_________________________________________________________________\n",
      "Layer (type)                 Output Shape              Param #   \n",
      "=================================================================\n",
      "conv2d_4 (Conv2D)            (None, 30, 30, 32)        896       \n",
      "_________________________________________________________________\n",
      "conv2d_5 (Conv2D)            (None, 28, 28, 32)        9248      \n",
      "_________________________________________________________________\n",
      "max_pooling2d_1 (MaxPooling2 (None, 14, 14, 32)        0         \n",
      "_________________________________________________________________\n",
      "dropout_1 (Dropout)          (None, 14, 14, 32)        0         \n",
      "_________________________________________________________________\n",
      "flatten_2 (Flatten)          (None, 6272)              0         \n",
      "_________________________________________________________________\n",
      "dense_4 (Dense)              (None, 128)               802944    \n",
      "_________________________________________________________________\n",
      "dense_5 (Dense)              (None, 10)                1290      \n",
      "=================================================================\n",
      "Total params: 814,378\n",
      "Trainable params: 814,378\n",
      "Non-trainable params: 0\n",
      "_________________________________________________________________\n"
     ]
    }
   ],
   "source": [
    "model.summary()"
   ]
  },
  {
   "cell_type": "markdown",
   "metadata": {
    "colab_type": "text",
    "id": "e-SLtUhC4dK2"
   },
   "source": [
    "### **Prepare/fit the generator.**"
   ]
  },
  {
   "cell_type": "code",
   "execution_count": 0,
   "metadata": {
    "colab": {},
    "colab_type": "code",
    "id": "CSw8Bv2_4hb0"
   },
   "outputs": [],
   "source": [
    "cifar10datagen = tf.keras.preprocessing.image.ImageDataGenerator(\n",
    "    featurewise_center=False, \n",
    "    samplewise_center=False, \n",
    "    featurewise_std_normalization=False,\n",
    "    samplewise_std_normalization=False,\n",
    "    rotation_range=25,\n",
    "    width_shift_range=0.1,\n",
    "    height_shift_range=0.1,\n",
    "    horizontal_flip=False,\n",
    "    vertical_flip=False)"
   ]
  },
  {
   "cell_type": "markdown",
   "metadata": {
    "colab_type": "text",
    "id": "gYyF-P8O4jQ8"
   },
   "source": [
    "### **Generate 5 images for 1 of the image of CIFAR10 train dataset.**"
   ]
  },
  {
   "cell_type": "code",
   "execution_count": 36,
   "metadata": {
    "colab": {
     "base_uri": "https://localhost:8080/",
     "height": 1000
    },
    "colab_type": "code",
    "id": "mXug4z234mwQ",
    "outputId": "c9923e55-595d-43cd-f105-089891d11efb"
   },
   "outputs": [
    {
     "name": "stdout",
     "output_type": "stream",
     "text": [
      "WARNING:tensorflow:sample_weight modes were coerced from\n",
      "  ...\n",
      "    to  \n",
      "  ['...']\n",
      "Train for 1562.5 steps, validate on 10000 samples\n",
      "Epoch 1/30\n",
      "WARNING:tensorflow:multiprocessing can interact badly with TensorFlow, causing nondeterministic deadlocks. For high performance data pipelines tf.data is recommended.\n",
      "1561/1562 [============================>.] - ETA: 0s - loss: 1.5708 - accuracy: 0.4311WARNING:tensorflow:multiprocessing can interact badly with TensorFlow, causing nondeterministic deadlocks. For high performance data pipelines tf.data is recommended.\n",
      "1563/1562 [==============================] - 34s 22ms/step - loss: 1.5705 - accuracy: 0.4311 - val_loss: 1.2987 - val_accuracy: 0.5381\n",
      "Epoch 2/30\n",
      "WARNING:tensorflow:multiprocessing can interact badly with TensorFlow, causing nondeterministic deadlocks. For high performance data pipelines tf.data is recommended.\n",
      "1562/1562 [============================>.] - ETA: 0s - loss: 1.3352 - accuracy: 0.5219WARNING:tensorflow:multiprocessing can interact badly with TensorFlow, causing nondeterministic deadlocks. For high performance data pipelines tf.data is recommended.\n",
      "1563/1562 [==============================] - 35s 22ms/step - loss: 1.3349 - accuracy: 0.5220 - val_loss: 1.1161 - val_accuracy: 0.6040\n",
      "Epoch 3/30\n",
      "WARNING:tensorflow:multiprocessing can interact badly with TensorFlow, causing nondeterministic deadlocks. For high performance data pipelines tf.data is recommended.\n",
      "1561/1562 [============================>.] - ETA: 0s - loss: 1.2376 - accuracy: 0.5571WARNING:tensorflow:multiprocessing can interact badly with TensorFlow, causing nondeterministic deadlocks. For high performance data pipelines tf.data is recommended.\n",
      "1563/1562 [==============================] - 34s 22ms/step - loss: 1.2375 - accuracy: 0.5571 - val_loss: 1.1403 - val_accuracy: 0.6011\n",
      "Epoch 4/30\n",
      "WARNING:tensorflow:multiprocessing can interact badly with TensorFlow, causing nondeterministic deadlocks. For high performance data pipelines tf.data is recommended.\n",
      "1561/1562 [============================>.] - ETA: 0s - loss: 1.1671 - accuracy: 0.5884WARNING:tensorflow:multiprocessing can interact badly with TensorFlow, causing nondeterministic deadlocks. For high performance data pipelines tf.data is recommended.\n",
      "1563/1562 [==============================] - 34s 22ms/step - loss: 1.1670 - accuracy: 0.5883 - val_loss: 1.0196 - val_accuracy: 0.6413\n",
      "Epoch 5/30\n",
      "WARNING:tensorflow:multiprocessing can interact badly with TensorFlow, causing nondeterministic deadlocks. For high performance data pipelines tf.data is recommended.\n",
      "1560/1562 [============================>.] - ETA: 0s - loss: 1.1160 - accuracy: 0.6017WARNING:tensorflow:multiprocessing can interact badly with TensorFlow, causing nondeterministic deadlocks. For high performance data pipelines tf.data is recommended.\n",
      "1563/1562 [==============================] - 34s 22ms/step - loss: 1.1163 - accuracy: 0.6016 - val_loss: 1.0404 - val_accuracy: 0.6404\n",
      "Epoch 6/30\n",
      "WARNING:tensorflow:multiprocessing can interact badly with TensorFlow, causing nondeterministic deadlocks. For high performance data pipelines tf.data is recommended.\n",
      "1561/1562 [============================>.] - ETA: 0s - loss: 1.0807 - accuracy: 0.6151WARNING:tensorflow:multiprocessing can interact badly with TensorFlow, causing nondeterministic deadlocks. For high performance data pipelines tf.data is recommended.\n",
      "1563/1562 [==============================] - 35s 22ms/step - loss: 1.0809 - accuracy: 0.6151 - val_loss: 0.9660 - val_accuracy: 0.6615\n",
      "Epoch 7/30\n",
      "WARNING:tensorflow:multiprocessing can interact badly with TensorFlow, causing nondeterministic deadlocks. For high performance data pipelines tf.data is recommended.\n",
      "1560/1562 [============================>.] - ETA: 0s - loss: 1.0537 - accuracy: 0.6277WARNING:tensorflow:multiprocessing can interact badly with TensorFlow, causing nondeterministic deadlocks. For high performance data pipelines tf.data is recommended.\n",
      "1563/1562 [==============================] - 35s 22ms/step - loss: 1.0538 - accuracy: 0.6277 - val_loss: 0.9262 - val_accuracy: 0.6794\n",
      "Epoch 8/30\n",
      "WARNING:tensorflow:multiprocessing can interact badly with TensorFlow, causing nondeterministic deadlocks. For high performance data pipelines tf.data is recommended.\n",
      "1561/1562 [============================>.] - ETA: 0s - loss: 1.0368 - accuracy: 0.6318WARNING:tensorflow:multiprocessing can interact badly with TensorFlow, causing nondeterministic deadlocks. For high performance data pipelines tf.data is recommended.\n",
      "1563/1562 [==============================] - 35s 22ms/step - loss: 1.0365 - accuracy: 0.6319 - val_loss: 1.0062 - val_accuracy: 0.6579\n",
      "Epoch 9/30\n",
      "WARNING:tensorflow:multiprocessing can interact badly with TensorFlow, causing nondeterministic deadlocks. For high performance data pipelines tf.data is recommended.\n",
      "1561/1562 [============================>.] - ETA: 0s - loss: 1.0230 - accuracy: 0.6387WARNING:tensorflow:multiprocessing can interact badly with TensorFlow, causing nondeterministic deadlocks. For high performance data pipelines tf.data is recommended.\n",
      "1563/1562 [==============================] - 35s 22ms/step - loss: 1.0231 - accuracy: 0.6387 - val_loss: 0.9104 - val_accuracy: 0.6869\n",
      "Epoch 10/30\n",
      "WARNING:tensorflow:multiprocessing can interact badly with TensorFlow, causing nondeterministic deadlocks. For high performance data pipelines tf.data is recommended.\n",
      "1560/1562 [============================>.] - ETA: 0s - loss: 1.0045 - accuracy: 0.6456WARNING:tensorflow:multiprocessing can interact badly with TensorFlow, causing nondeterministic deadlocks. For high performance data pipelines tf.data is recommended.\n",
      "1563/1562 [==============================] - 34s 22ms/step - loss: 1.0048 - accuracy: 0.6455 - val_loss: 0.9596 - val_accuracy: 0.6726\n",
      "Epoch 11/30\n",
      "WARNING:tensorflow:multiprocessing can interact badly with TensorFlow, causing nondeterministic deadlocks. For high performance data pipelines tf.data is recommended.\n",
      "1562/1562 [============================>.] - ETA: 0s - loss: 0.9877 - accuracy: 0.6495WARNING:tensorflow:multiprocessing can interact badly with TensorFlow, causing nondeterministic deadlocks. For high performance data pipelines tf.data is recommended.\n",
      "1563/1562 [==============================] - 35s 22ms/step - loss: 0.9876 - accuracy: 0.6495 - val_loss: 0.9223 - val_accuracy: 0.6881\n",
      "Epoch 12/30\n",
      "WARNING:tensorflow:multiprocessing can interact badly with TensorFlow, causing nondeterministic deadlocks. For high performance data pipelines tf.data is recommended.\n",
      "1560/1562 [============================>.] - ETA: 0s - loss: 0.9752 - accuracy: 0.6556WARNING:tensorflow:multiprocessing can interact badly with TensorFlow, causing nondeterministic deadlocks. For high performance data pipelines tf.data is recommended.\n",
      "1563/1562 [==============================] - 35s 22ms/step - loss: 0.9754 - accuracy: 0.6555 - val_loss: 0.9333 - val_accuracy: 0.6814\n",
      "Epoch 13/30\n",
      "WARNING:tensorflow:multiprocessing can interact badly with TensorFlow, causing nondeterministic deadlocks. For high performance data pipelines tf.data is recommended.\n",
      "1562/1562 [============================>.] - ETA: 0s - loss: 0.9640 - accuracy: 0.6586WARNING:tensorflow:multiprocessing can interact badly with TensorFlow, causing nondeterministic deadlocks. For high performance data pipelines tf.data is recommended.\n",
      "1563/1562 [==============================] - 34s 22ms/step - loss: 0.9638 - accuracy: 0.6586 - val_loss: 0.8938 - val_accuracy: 0.6914\n",
      "Epoch 14/30\n",
      "WARNING:tensorflow:multiprocessing can interact badly with TensorFlow, causing nondeterministic deadlocks. For high performance data pipelines tf.data is recommended.\n",
      "1560/1562 [============================>.] - ETA: 0s - loss: 0.9505 - accuracy: 0.6615WARNING:tensorflow:multiprocessing can interact badly with TensorFlow, causing nondeterministic deadlocks. For high performance data pipelines tf.data is recommended.\n",
      "1563/1562 [==============================] - 35s 22ms/step - loss: 0.9508 - accuracy: 0.6615 - val_loss: 0.8735 - val_accuracy: 0.7014\n",
      "Epoch 15/30\n",
      "WARNING:tensorflow:multiprocessing can interact badly with TensorFlow, causing nondeterministic deadlocks. For high performance data pipelines tf.data is recommended.\n",
      "1561/1562 [============================>.] - ETA: 0s - loss: 0.9514 - accuracy: 0.6662WARNING:tensorflow:multiprocessing can interact badly with TensorFlow, causing nondeterministic deadlocks. For high performance data pipelines tf.data is recommended.\n",
      "1563/1562 [==============================] - 35s 22ms/step - loss: 0.9516 - accuracy: 0.6661 - val_loss: 0.9089 - val_accuracy: 0.6891\n",
      "Epoch 16/30\n",
      "WARNING:tensorflow:multiprocessing can interact badly with TensorFlow, causing nondeterministic deadlocks. For high performance data pipelines tf.data is recommended.\n",
      "1560/1562 [============================>.] - ETA: 0s - loss: 0.9368 - accuracy: 0.6680WARNING:tensorflow:multiprocessing can interact badly with TensorFlow, causing nondeterministic deadlocks. For high performance data pipelines tf.data is recommended.\n",
      "1563/1562 [==============================] - 35s 22ms/step - loss: 0.9370 - accuracy: 0.6679 - val_loss: 0.8732 - val_accuracy: 0.7013\n",
      "Epoch 17/30\n",
      "WARNING:tensorflow:multiprocessing can interact badly with TensorFlow, causing nondeterministic deadlocks. For high performance data pipelines tf.data is recommended.\n",
      "1561/1562 [============================>.] - ETA: 0s - loss: 0.9246 - accuracy: 0.6733WARNING:tensorflow:multiprocessing can interact badly with TensorFlow, causing nondeterministic deadlocks. For high performance data pipelines tf.data is recommended.\n",
      "1563/1562 [==============================] - 35s 22ms/step - loss: 0.9247 - accuracy: 0.6732 - val_loss: 0.8735 - val_accuracy: 0.7034\n",
      "Epoch 18/30\n",
      "WARNING:tensorflow:multiprocessing can interact badly with TensorFlow, causing nondeterministic deadlocks. For high performance data pipelines tf.data is recommended.\n",
      "1560/1562 [============================>.] - ETA: 0s - loss: 0.9221 - accuracy: 0.6738WARNING:tensorflow:multiprocessing can interact badly with TensorFlow, causing nondeterministic deadlocks. For high performance data pipelines tf.data is recommended.\n",
      "1563/1562 [==============================] - 34s 22ms/step - loss: 0.9222 - accuracy: 0.6737 - val_loss: 0.9398 - val_accuracy: 0.6845\n",
      "Epoch 19/30\n",
      "WARNING:tensorflow:multiprocessing can interact badly with TensorFlow, causing nondeterministic deadlocks. For high performance data pipelines tf.data is recommended.\n",
      "1562/1562 [============================>.] - ETA: 0s - loss: 0.9138 - accuracy: 0.6785WARNING:tensorflow:multiprocessing can interact badly with TensorFlow, causing nondeterministic deadlocks. For high performance data pipelines tf.data is recommended.\n",
      "1563/1562 [==============================] - 35s 22ms/step - loss: 0.9138 - accuracy: 0.6785 - val_loss: 0.8648 - val_accuracy: 0.7045\n",
      "Epoch 20/30\n",
      "WARNING:tensorflow:multiprocessing can interact badly with TensorFlow, causing nondeterministic deadlocks. For high performance data pipelines tf.data is recommended.\n",
      "1560/1562 [============================>.] - ETA: 0s - loss: 0.9089 - accuracy: 0.6790WARNING:tensorflow:multiprocessing can interact badly with TensorFlow, causing nondeterministic deadlocks. For high performance data pipelines tf.data is recommended.\n",
      "1563/1562 [==============================] - 34s 22ms/step - loss: 0.9089 - accuracy: 0.6790 - val_loss: 0.9038 - val_accuracy: 0.6932\n",
      "Epoch 21/30\n",
      "WARNING:tensorflow:multiprocessing can interact badly with TensorFlow, causing nondeterministic deadlocks. For high performance data pipelines tf.data is recommended.\n",
      "1562/1562 [============================>.] - ETA: 0s - loss: 0.9002 - accuracy: 0.6822WARNING:tensorflow:multiprocessing can interact badly with TensorFlow, causing nondeterministic deadlocks. For high performance data pipelines tf.data is recommended.\n",
      "1563/1562 [==============================] - 34s 22ms/step - loss: 0.9002 - accuracy: 0.6822 - val_loss: 0.9189 - val_accuracy: 0.6918\n",
      "Epoch 22/30\n",
      "WARNING:tensorflow:multiprocessing can interact badly with TensorFlow, causing nondeterministic deadlocks. For high performance data pipelines tf.data is recommended.\n",
      "1562/1562 [============================>.] - ETA: 0s - loss: 0.8973 - accuracy: 0.6835WARNING:tensorflow:multiprocessing can interact badly with TensorFlow, causing nondeterministic deadlocks. For high performance data pipelines tf.data is recommended.\n",
      "1563/1562 [==============================] - 34s 22ms/step - loss: 0.8972 - accuracy: 0.6835 - val_loss: 0.9159 - val_accuracy: 0.6946\n",
      "Epoch 23/30\n",
      "WARNING:tensorflow:multiprocessing can interact badly with TensorFlow, causing nondeterministic deadlocks. For high performance data pipelines tf.data is recommended.\n",
      "1560/1562 [============================>.] - ETA: 0s - loss: 0.8915 - accuracy: 0.6847WARNING:tensorflow:multiprocessing can interact badly with TensorFlow, causing nondeterministic deadlocks. For high performance data pipelines tf.data is recommended.\n",
      "1563/1562 [==============================] - 34s 22ms/step - loss: 0.8916 - accuracy: 0.6847 - val_loss: 0.9630 - val_accuracy: 0.6774\n",
      "Epoch 24/30\n",
      "WARNING:tensorflow:multiprocessing can interact badly with TensorFlow, causing nondeterministic deadlocks. For high performance data pipelines tf.data is recommended.\n",
      "1561/1562 [============================>.] - ETA: 0s - loss: 0.8824 - accuracy: 0.6893WARNING:tensorflow:multiprocessing can interact badly with TensorFlow, causing nondeterministic deadlocks. For high performance data pipelines tf.data is recommended.\n",
      "1563/1562 [==============================] - 34s 22ms/step - loss: 0.8822 - accuracy: 0.6894 - val_loss: 0.9076 - val_accuracy: 0.7063\n",
      "Epoch 25/30\n",
      "WARNING:tensorflow:multiprocessing can interact badly with TensorFlow, causing nondeterministic deadlocks. For high performance data pipelines tf.data is recommended.\n",
      "1561/1562 [============================>.] - ETA: 0s - loss: 0.8757 - accuracy: 0.6899WARNING:tensorflow:multiprocessing can interact badly with TensorFlow, causing nondeterministic deadlocks. For high performance data pipelines tf.data is recommended.\n",
      "1563/1562 [==============================] - 34s 22ms/step - loss: 0.8760 - accuracy: 0.6897 - val_loss: 0.8207 - val_accuracy: 0.7299\n",
      "Epoch 26/30\n",
      "WARNING:tensorflow:multiprocessing can interact badly with TensorFlow, causing nondeterministic deadlocks. For high performance data pipelines tf.data is recommended.\n",
      "1562/1562 [============================>.] - ETA: 0s - loss: 0.8713 - accuracy: 0.6916WARNING:tensorflow:multiprocessing can interact badly with TensorFlow, causing nondeterministic deadlocks. For high performance data pipelines tf.data is recommended.\n",
      "1563/1562 [==============================] - 34s 22ms/step - loss: 0.8714 - accuracy: 0.6916 - val_loss: 0.8498 - val_accuracy: 0.7147\n",
      "Epoch 27/30\n",
      "WARNING:tensorflow:multiprocessing can interact badly with TensorFlow, causing nondeterministic deadlocks. For high performance data pipelines tf.data is recommended.\n",
      "1560/1562 [============================>.] - ETA: 0s - loss: 0.8721 - accuracy: 0.6926WARNING:tensorflow:multiprocessing can interact badly with TensorFlow, causing nondeterministic deadlocks. For high performance data pipelines tf.data is recommended.\n",
      "1563/1562 [==============================] - 34s 22ms/step - loss: 0.8719 - accuracy: 0.6927 - val_loss: 0.9171 - val_accuracy: 0.7002\n",
      "Epoch 28/30\n",
      "WARNING:tensorflow:multiprocessing can interact badly with TensorFlow, causing nondeterministic deadlocks. For high performance data pipelines tf.data is recommended.\n",
      "1560/1562 [============================>.] - ETA: 0s - loss: 0.8728 - accuracy: 0.6919WARNING:tensorflow:multiprocessing can interact badly with TensorFlow, causing nondeterministic deadlocks. For high performance data pipelines tf.data is recommended.\n",
      "1563/1562 [==============================] - 35s 22ms/step - loss: 0.8728 - accuracy: 0.6918 - val_loss: 0.8600 - val_accuracy: 0.7076\n",
      "Epoch 29/30\n",
      "WARNING:tensorflow:multiprocessing can interact badly with TensorFlow, causing nondeterministic deadlocks. For high performance data pipelines tf.data is recommended.\n",
      "1560/1562 [============================>.] - ETA: 0s - loss: 0.8654 - accuracy: 0.6957WARNING:tensorflow:multiprocessing can interact badly with TensorFlow, causing nondeterministic deadlocks. For high performance data pipelines tf.data is recommended.\n",
      "1563/1562 [==============================] - 34s 22ms/step - loss: 0.8654 - accuracy: 0.6957 - val_loss: 0.8685 - val_accuracy: 0.7096\n",
      "Epoch 30/30\n",
      "WARNING:tensorflow:multiprocessing can interact badly with TensorFlow, causing nondeterministic deadlocks. For high performance data pipelines tf.data is recommended.\n",
      "1560/1562 [============================>.] - ETA: 0s - loss: 0.8616 - accuracy: 0.6953WARNING:tensorflow:multiprocessing can interact badly with TensorFlow, causing nondeterministic deadlocks. For high performance data pipelines tf.data is recommended.\n",
      "1563/1562 [==============================] - 34s 22ms/step - loss: 0.8616 - accuracy: 0.6953 - val_loss: 0.8954 - val_accuracy: 0.7053\n"
     ]
    }
   ],
   "source": [
    "output = model.fit_generator(cifar10datagen.flow(x_train, y_train, batch_size=32), \n",
    "                             validation_data=(x_test, y_test), use_multiprocessing=True,\n",
    "                     steps_per_epoch=len(x_train) / 32, epochs=30)"
   ]
  },
  {
   "cell_type": "code",
   "execution_count": 37,
   "metadata": {
    "colab": {
     "base_uri": "https://localhost:8080/",
     "height": 89
    },
    "colab_type": "code",
    "id": "nDeTCS_x4HVz",
    "outputId": "f5daa43a-10a0-4d08-ff2a-22f6524fff77"
   },
   "outputs": [
    {
     "data": {
      "image/png": "[encoded data removed]",
      "text/plain": [
       "<Figure size 432x288 with 5 Axes>"
      ]
     },
     "metadata": {
      "tags": []
     },
     "output_type": "display_data"
    }
   ],
   "source": [
    "from matplotlib import pyplot as plt\n",
    "gen = datagen.flow(x_train[0:1], batch_size=1)\n",
    "for i in range(1, 6):\n",
    "    plt.subplot(1,5,i)\n",
    "    plt.axis(\"off\")\n",
    "    plt.imshow(gen.next().squeeze(), cmap='gray')\n",
    "    plt.plot()\n",
    "plt.show()"
   ]
  }
 ],
 "metadata": {
  "accelerator": "GPU",
  "colab": {
   "collapsed_sections": [],
   "name": "R7_InternalLab_Questions_FMNIST_Simple_CNN_CIFAR_DATA_Augment.ipynb",
   "provenance": []
  },
  "kernelspec": {
   "display_name": "Python 3",
   "language": "python",
   "name": "python3"
  },
  "language_info": {
   "codemirror_mode": {
    "name": "ipython",
    "version": 3
   },
   "file_extension": ".py",
   "mimetype": "text/x-python",
   "name": "python",
   "nbconvert_exporter": "python",
   "pygments_lexer": "ipython3",
   "version": "3.7.3"
  }
 },
 "nbformat": 4,
 "nbformat_minor": 1
}
