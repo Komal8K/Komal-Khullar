{
  "nbformat": 4,
  "nbformat_minor": 0,
  "metadata": {
    "colab": {
      "name": "R6_External_Lab_Updated_Gurgaon.ipynb",
      "provenance": [],
      "collapsed_sections": []
    },
    "kernelspec": {
      "display_name": "Python 3",
      "language": "python",
      "name": "python3"
    },
    "language_info": {
      "codemirror_mode": {
        "name": "ipython",
        "version": 3
      },
      "file_extension": ".py",
      "mimetype": "text/x-python",
      "name": "python",
      "nbconvert_exporter": "python",
      "pygments_lexer": "ipython3",
      "version": "3.7.3"
    }
  },
  "cells": [
    {
      "cell_type": "markdown",
      "metadata": {
        "colab_type": "text",
        "id": "84Q8JfvaeZZ6"
      },
      "source": [
        "## Linear Classifier in TensorFlow \n",
        "Using Low Level API in Eager Execution mode"
      ]
    },
    {
      "cell_type": "markdown",
      "metadata": {
        "colab_type": "text",
        "id": "sb7Epo0VOB58"
      },
      "source": [
        "### Load tensorflow"
      ]
    },
    {
      "cell_type": "code",
      "metadata": {
        "id": "EH4R3mcI54UP",
        "colab_type": "code",
        "outputId": "928ff7a0-69ee-4349-a732-0e65c1590989",
        "colab": {
          "base_uri": "https://localhost:8080/",
          "height": 35
        }
      },
      "source": [
        "%tensorflow_version 2.x"
      ],
      "execution_count": 1,
      "outputs": [
        {
          "output_type": "stream",
          "text": [
            "TensorFlow 2.x selected.\n"
          ],
          "name": "stdout"
        }
      ]
    },
    {
      "cell_type": "code",
      "metadata": {
        "colab_type": "code",
        "id": "fHpCNRv1OB5-",
        "colab": {}
      },
      "source": [
        "import tensorflow as tf"
      ],
      "execution_count": 0,
      "outputs": []
    },
    {
      "cell_type": "code",
      "metadata": {
        "id": "PGL7bXxZ5uCD",
        "colab_type": "code",
        "outputId": "983f212f-e288-442e-e1a2-4e8643b4c3be",
        "colab": {
          "base_uri": "https://localhost:8080/",
          "height": 35
        }
      },
      "source": [
        "print(tf.__version__)"
      ],
      "execution_count": 3,
      "outputs": [
        {
          "output_type": "stream",
          "text": [
            "2.1.0-rc1\n"
          ],
          "name": "stdout"
        }
      ]
    },
    {
      "cell_type": "code",
      "metadata": {
        "colab_type": "code",
        "id": "Mjtb-EMcm5K0",
        "colab": {}
      },
      "source": [
        "#Enable Eager Execution if using tensflow version < 2.0\n",
        "#From tensorflow v2.0 onwards, Eager Execution will be enabled by default\n"
      ],
      "execution_count": 0,
      "outputs": []
    },
    {
      "cell_type": "markdown",
      "metadata": {
        "colab_type": "text",
        "id": "DxJDmJqqOB6K"
      },
      "source": [
        "### Collect Data"
      ]
    },
    {
      "cell_type": "code",
      "metadata": {
        "colab_type": "code",
        "id": "FhllFLyKOB6N",
        "outputId": "8ed567d5-a899-4878-dbc3-e17f04625702",
        "colab": {
          "base_uri": "https://localhost:8080/",
          "height": 124
        }
      },
      "source": [
        "from google.colab import drive\n",
        "drive.mount('/gdrive')"
      ],
      "execution_count": 4,
      "outputs": [
        {
          "output_type": "stream",
          "text": [
            "Go to this URL in a browser: https://accounts.google.com/o/oauth2/auth?client_id=947318989803-6bn6qk8qdgf4n4g3pfee6491hc0brc4i.apps.googleusercontent.com&redirect_uri=urn%3aietf%3awg%3aoauth%3a2.0%3aoob&response_type=code&scope=email%20https%3a%2f%2fwww.googleapis.com%2fauth%2fdocs.test%20https%3a%2f%2fwww.googleapis.com%2fauth%2fdrive%20https%3a%2f%2fwww.googleapis.com%2fauth%2fdrive.photos.readonly%20https%3a%2f%2fwww.googleapis.com%2fauth%2fpeopleapi.readonly\n",
            "\n",
            "Enter your authorization code:\n",
            "··········\n",
            "Mounted at /gdrive\n"
          ],
          "name": "stdout"
        }
      ]
    },
    {
      "cell_type": "code",
      "metadata": {
        "id": "xtpw1rGNnhiP",
        "colab_type": "code",
        "outputId": "b5a7a445-8acc-42f7-cab0-b49e80aa4bb3",
        "colab": {
          "resources": {
            "http://localhost:8080/nbextensions/google.colab/files.js": {
              "data": "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",
              "ok": true,
              "headers": [
                [
                  "content-type",
                  "application/javascript"
                ]
              ],
              "status": 200,
              "status_text": ""
            }
          },
          "base_uri": "https://localhost:8080/",
          "height": 75
        }
      },
      "source": [
        "from google.colab import files\n",
        "uploaded = files.upload()"
      ],
      "execution_count": 5,
      "outputs": [
        {
          "output_type": "display_data",
          "data": {
            "text/html": [
              "\n",
              "     <input type=\"file\" id=\"files-ac0a5126-ac18-4081-a941-d5c751c202f9\" name=\"files[]\" multiple disabled />\n",
              "     <output id=\"result-ac0a5126-ac18-4081-a941-d5c751c202f9\">\n",
              "      Upload widget is only available when the cell has been executed in the\n",
              "      current browser session. Please rerun this cell to enable.\n",
              "      </output>\n",
              "      <script src=\"/nbextensions/google.colab/files.js\"></script> "
            ],
            "text/plain": [
              "<IPython.core.display.HTML object>"
            ]
          },
          "metadata": {
            "tags": []
          }
        },
        {
          "output_type": "stream",
          "text": [
            "Saving prices.csv to prices.csv\n"
          ],
          "name": "stdout"
        }
      ]
    },
    {
      "cell_type": "code",
      "metadata": {
        "colab_type": "code",
        "id": "KiObW4V4SIOz",
        "colab": {}
      },
      "source": [
        "import pandas as pd\n",
        "import numpy as np"
      ],
      "execution_count": 0,
      "outputs": []
    },
    {
      "cell_type": "code",
      "metadata": {
        "colab_type": "code",
        "id": "B4yQKMiJOB6R",
        "colab": {}
      },
      "source": [
        "data = pd.read_csv('prices.csv')"
      ],
      "execution_count": 0,
      "outputs": []
    },
    {
      "cell_type": "code",
      "metadata": {
        "id": "VuhA-P_L3OaS",
        "colab_type": "code",
        "outputId": "9122f8fe-da59-43bf-f19f-11b8f5cf399e",
        "colab": {
          "base_uri": "https://localhost:8080/",
          "height": 202
        }
      },
      "source": [
        "data.head()"
      ],
      "execution_count": 8,
      "outputs": [
        {
          "output_type": "execute_result",
          "data": {
            "text/html": [
              "<div>\n",
              "<style scoped>\n",
              "    .dataframe tbody tr th:only-of-type {\n",
              "        vertical-align: middle;\n",
              "    }\n",
              "\n",
              "    .dataframe tbody tr th {\n",
              "        vertical-align: top;\n",
              "    }\n",
              "\n",
              "    .dataframe thead th {\n",
              "        text-align: right;\n",
              "    }\n",
              "</style>\n",
              "<table border=\"1\" class=\"dataframe\">\n",
              "  <thead>\n",
              "    <tr style=\"text-align: right;\">\n",
              "      <th></th>\n",
              "      <th>date</th>\n",
              "      <th>symbol</th>\n",
              "      <th>open</th>\n",
              "      <th>close</th>\n",
              "      <th>low</th>\n",
              "      <th>high</th>\n",
              "      <th>volume</th>\n",
              "    </tr>\n",
              "  </thead>\n",
              "  <tbody>\n",
              "    <tr>\n",
              "      <th>0</th>\n",
              "      <td>2016-01-05 00:00:00</td>\n",
              "      <td>WLTW</td>\n",
              "      <td>123.430000</td>\n",
              "      <td>125.839996</td>\n",
              "      <td>122.309998</td>\n",
              "      <td>126.250000</td>\n",
              "      <td>2163600.0</td>\n",
              "    </tr>\n",
              "    <tr>\n",
              "      <th>1</th>\n",
              "      <td>2016-01-06 00:00:00</td>\n",
              "      <td>WLTW</td>\n",
              "      <td>125.239998</td>\n",
              "      <td>119.980003</td>\n",
              "      <td>119.940002</td>\n",
              "      <td>125.540001</td>\n",
              "      <td>2386400.0</td>\n",
              "    </tr>\n",
              "    <tr>\n",
              "      <th>2</th>\n",
              "      <td>2016-01-07 00:00:00</td>\n",
              "      <td>WLTW</td>\n",
              "      <td>116.379997</td>\n",
              "      <td>114.949997</td>\n",
              "      <td>114.930000</td>\n",
              "      <td>119.739998</td>\n",
              "      <td>2489500.0</td>\n",
              "    </tr>\n",
              "    <tr>\n",
              "      <th>3</th>\n",
              "      <td>2016-01-08 00:00:00</td>\n",
              "      <td>WLTW</td>\n",
              "      <td>115.480003</td>\n",
              "      <td>116.620003</td>\n",
              "      <td>113.500000</td>\n",
              "      <td>117.440002</td>\n",
              "      <td>2006300.0</td>\n",
              "    </tr>\n",
              "    <tr>\n",
              "      <th>4</th>\n",
              "      <td>2016-01-11 00:00:00</td>\n",
              "      <td>WLTW</td>\n",
              "      <td>117.010002</td>\n",
              "      <td>114.970001</td>\n",
              "      <td>114.089996</td>\n",
              "      <td>117.330002</td>\n",
              "      <td>1408600.0</td>\n",
              "    </tr>\n",
              "  </tbody>\n",
              "</table>\n",
              "</div>"
            ],
            "text/plain": [
              "                  date symbol        open  ...         low        high     volume\n",
              "0  2016-01-05 00:00:00   WLTW  123.430000  ...  122.309998  126.250000  2163600.0\n",
              "1  2016-01-06 00:00:00   WLTW  125.239998  ...  119.940002  125.540001  2386400.0\n",
              "2  2016-01-07 00:00:00   WLTW  116.379997  ...  114.930000  119.739998  2489500.0\n",
              "3  2016-01-08 00:00:00   WLTW  115.480003  ...  113.500000  117.440002  2006300.0\n",
              "4  2016-01-11 00:00:00   WLTW  117.010002  ...  114.089996  117.330002  1408600.0\n",
              "\n",
              "[5 rows x 7 columns]"
            ]
          },
          "metadata": {
            "tags": []
          },
          "execution_count": 8
        }
      ]
    },
    {
      "cell_type": "markdown",
      "metadata": {
        "colab_type": "text",
        "id": "fgkX6SEqOB6W"
      },
      "source": [
        "### Check all columns in the dataset"
      ]
    },
    {
      "cell_type": "code",
      "metadata": {
        "colab_type": "code",
        "outputId": "d1b7de06-073c-469f-b31f-4aaa344ccb9d",
        "id": "riYcVud9uIeq",
        "colab": {
          "base_uri": "https://localhost:8080/",
          "height": 35
        }
      },
      "source": [
        "data.columns"
      ],
      "execution_count": 9,
      "outputs": [
        {
          "output_type": "execute_result",
          "data": {
            "text/plain": [
              "Index(['date', 'symbol', 'open', 'close', 'low', 'high', 'volume'], dtype='object')"
            ]
          },
          "metadata": {
            "tags": []
          },
          "execution_count": 9
        }
      ]
    },
    {
      "cell_type": "markdown",
      "metadata": {
        "colab_type": "text",
        "id": "7dU6X7MpOB6c"
      },
      "source": [
        "### Drop columns `date` and  `symbol`"
      ]
    },
    {
      "cell_type": "code",
      "metadata": {
        "colab_type": "code",
        "id": "lh_6spSKOB6e",
        "colab": {}
      },
      "source": [
        "data=data.drop(['date','symbol'],axis=1)"
      ],
      "execution_count": 0,
      "outputs": []
    },
    {
      "cell_type": "code",
      "metadata": {
        "id": "KRmpe-tA30h5",
        "colab_type": "code",
        "outputId": "00a23917-2746-433f-af09-50aa3b2f2837",
        "colab": {
          "base_uri": "https://localhost:8080/",
          "height": 35
        }
      },
      "source": [
        "data.columns"
      ],
      "execution_count": 11,
      "outputs": [
        {
          "output_type": "execute_result",
          "data": {
            "text/plain": [
              "Index(['open', 'close', 'low', 'high', 'volume'], dtype='object')"
            ]
          },
          "metadata": {
            "tags": []
          },
          "execution_count": 11
        }
      ]
    },
    {
      "cell_type": "code",
      "metadata": {
        "id": "z--dcRQXJR9r",
        "colab_type": "code",
        "outputId": "21a272ac-4018-4fbb-dbbc-f9b2f28ed40c",
        "colab": {
          "base_uri": "https://localhost:8080/",
          "height": 202
        }
      },
      "source": [
        "data.head()"
      ],
      "execution_count": 12,
      "outputs": [
        {
          "output_type": "execute_result",
          "data": {
            "text/html": [
              "<div>\n",
              "<style scoped>\n",
              "    .dataframe tbody tr th:only-of-type {\n",
              "        vertical-align: middle;\n",
              "    }\n",
              "\n",
              "    .dataframe tbody tr th {\n",
              "        vertical-align: top;\n",
              "    }\n",
              "\n",
              "    .dataframe thead th {\n",
              "        text-align: right;\n",
              "    }\n",
              "</style>\n",
              "<table border=\"1\" class=\"dataframe\">\n",
              "  <thead>\n",
              "    <tr style=\"text-align: right;\">\n",
              "      <th></th>\n",
              "      <th>open</th>\n",
              "      <th>close</th>\n",
              "      <th>low</th>\n",
              "      <th>high</th>\n",
              "      <th>volume</th>\n",
              "    </tr>\n",
              "  </thead>\n",
              "  <tbody>\n",
              "    <tr>\n",
              "      <th>0</th>\n",
              "      <td>123.430000</td>\n",
              "      <td>125.839996</td>\n",
              "      <td>122.309998</td>\n",
              "      <td>126.250000</td>\n",
              "      <td>2163600.0</td>\n",
              "    </tr>\n",
              "    <tr>\n",
              "      <th>1</th>\n",
              "      <td>125.239998</td>\n",
              "      <td>119.980003</td>\n",
              "      <td>119.940002</td>\n",
              "      <td>125.540001</td>\n",
              "      <td>2386400.0</td>\n",
              "    </tr>\n",
              "    <tr>\n",
              "      <th>2</th>\n",
              "      <td>116.379997</td>\n",
              "      <td>114.949997</td>\n",
              "      <td>114.930000</td>\n",
              "      <td>119.739998</td>\n",
              "      <td>2489500.0</td>\n",
              "    </tr>\n",
              "    <tr>\n",
              "      <th>3</th>\n",
              "      <td>115.480003</td>\n",
              "      <td>116.620003</td>\n",
              "      <td>113.500000</td>\n",
              "      <td>117.440002</td>\n",
              "      <td>2006300.0</td>\n",
              "    </tr>\n",
              "    <tr>\n",
              "      <th>4</th>\n",
              "      <td>117.010002</td>\n",
              "      <td>114.970001</td>\n",
              "      <td>114.089996</td>\n",
              "      <td>117.330002</td>\n",
              "      <td>1408600.0</td>\n",
              "    </tr>\n",
              "  </tbody>\n",
              "</table>\n",
              "</div>"
            ],
            "text/plain": [
              "         open       close         low        high     volume\n",
              "0  123.430000  125.839996  122.309998  126.250000  2163600.0\n",
              "1  125.239998  119.980003  119.940002  125.540001  2386400.0\n",
              "2  116.379997  114.949997  114.930000  119.739998  2489500.0\n",
              "3  115.480003  116.620003  113.500000  117.440002  2006300.0\n",
              "4  117.010002  114.970001  114.089996  117.330002  1408600.0"
            ]
          },
          "metadata": {
            "tags": []
          },
          "execution_count": 12
        }
      ]
    },
    {
      "cell_type": "markdown",
      "metadata": {
        "colab_type": "text",
        "id": "3DBv3WWYOB6q"
      },
      "source": [
        "### Consider only first 1000 rows in the dataset for building feature set and target set\n",
        "Target 'Volume' has very high values. Divide 'Volume' by 1000,000"
      ]
    },
    {
      "cell_type": "code",
      "metadata": {
        "id": "7gpOcFiR-dhX",
        "colab_type": "code",
        "colab": {}
      },
      "source": [
        "data = data.iloc[0:1000,:]"
      ],
      "execution_count": 0,
      "outputs": []
    },
    {
      "cell_type": "code",
      "metadata": {
        "id": "in3I0KFLEzcl",
        "colab_type": "code",
        "outputId": "8fb7fb5a-e15e-439e-8669-87388ddec75b",
        "colab": {
          "base_uri": "https://localhost:8080/",
          "height": 35
        }
      },
      "source": [
        "data.shape"
      ],
      "execution_count": 14,
      "outputs": [
        {
          "output_type": "execute_result",
          "data": {
            "text/plain": [
              "(1000, 5)"
            ]
          },
          "metadata": {
            "tags": []
          },
          "execution_count": 14
        }
      ]
    },
    {
      "cell_type": "code",
      "metadata": {
        "id": "Yfh-Z4vRHvCn",
        "colab_type": "code",
        "colab": {}
      },
      "source": [
        "data['volume'] = (data['volume'])/1000000"
      ],
      "execution_count": 0,
      "outputs": []
    },
    {
      "cell_type": "code",
      "metadata": {
        "id": "ZUV3vsQPH2p4",
        "colab_type": "code",
        "outputId": "67da6a04-e934-4bfa-a010-c1dd81348130",
        "colab": {
          "base_uri": "https://localhost:8080/",
          "height": 202
        }
      },
      "source": [
        "data.head()"
      ],
      "execution_count": 16,
      "outputs": [
        {
          "output_type": "execute_result",
          "data": {
            "text/html": [
              "<div>\n",
              "<style scoped>\n",
              "    .dataframe tbody tr th:only-of-type {\n",
              "        vertical-align: middle;\n",
              "    }\n",
              "\n",
              "    .dataframe tbody tr th {\n",
              "        vertical-align: top;\n",
              "    }\n",
              "\n",
              "    .dataframe thead th {\n",
              "        text-align: right;\n",
              "    }\n",
              "</style>\n",
              "<table border=\"1\" class=\"dataframe\">\n",
              "  <thead>\n",
              "    <tr style=\"text-align: right;\">\n",
              "      <th></th>\n",
              "      <th>open</th>\n",
              "      <th>close</th>\n",
              "      <th>low</th>\n",
              "      <th>high</th>\n",
              "      <th>volume</th>\n",
              "    </tr>\n",
              "  </thead>\n",
              "  <tbody>\n",
              "    <tr>\n",
              "      <th>0</th>\n",
              "      <td>123.430000</td>\n",
              "      <td>125.839996</td>\n",
              "      <td>122.309998</td>\n",
              "      <td>126.250000</td>\n",
              "      <td>2.1636</td>\n",
              "    </tr>\n",
              "    <tr>\n",
              "      <th>1</th>\n",
              "      <td>125.239998</td>\n",
              "      <td>119.980003</td>\n",
              "      <td>119.940002</td>\n",
              "      <td>125.540001</td>\n",
              "      <td>2.3864</td>\n",
              "    </tr>\n",
              "    <tr>\n",
              "      <th>2</th>\n",
              "      <td>116.379997</td>\n",
              "      <td>114.949997</td>\n",
              "      <td>114.930000</td>\n",
              "      <td>119.739998</td>\n",
              "      <td>2.4895</td>\n",
              "    </tr>\n",
              "    <tr>\n",
              "      <th>3</th>\n",
              "      <td>115.480003</td>\n",
              "      <td>116.620003</td>\n",
              "      <td>113.500000</td>\n",
              "      <td>117.440002</td>\n",
              "      <td>2.0063</td>\n",
              "    </tr>\n",
              "    <tr>\n",
              "      <th>4</th>\n",
              "      <td>117.010002</td>\n",
              "      <td>114.970001</td>\n",
              "      <td>114.089996</td>\n",
              "      <td>117.330002</td>\n",
              "      <td>1.4086</td>\n",
              "    </tr>\n",
              "  </tbody>\n",
              "</table>\n",
              "</div>"
            ],
            "text/plain": [
              "         open       close         low        high  volume\n",
              "0  123.430000  125.839996  122.309998  126.250000  2.1636\n",
              "1  125.239998  119.980003  119.940002  125.540001  2.3864\n",
              "2  116.379997  114.949997  114.930000  119.739998  2.4895\n",
              "3  115.480003  116.620003  113.500000  117.440002  2.0063\n",
              "4  117.010002  114.970001  114.089996  117.330002  1.4086"
            ]
          },
          "metadata": {
            "tags": []
          },
          "execution_count": 16
        }
      ]
    },
    {
      "cell_type": "code",
      "metadata": {
        "id": "nq5YVtSP6Jbw",
        "colab_type": "code",
        "colab": {}
      },
      "source": [
        "X = data.drop(\"volume\", axis=1)\n",
        "y = data[\"volume\"]"
      ],
      "execution_count": 0,
      "outputs": []
    },
    {
      "cell_type": "code",
      "metadata": {
        "id": "MchgWo4WHiJT",
        "colab_type": "code",
        "outputId": "c6a5f2c4-6b01-4c20-b885-dc864595e402",
        "colab": {
          "base_uri": "https://localhost:8080/",
          "height": 35
        }
      },
      "source": [
        "X.shape"
      ],
      "execution_count": 18,
      "outputs": [
        {
          "output_type": "execute_result",
          "data": {
            "text/plain": [
              "(1000, 4)"
            ]
          },
          "metadata": {
            "tags": []
          },
          "execution_count": 18
        }
      ]
    },
    {
      "cell_type": "code",
      "metadata": {
        "id": "E3ti_fmsHlCp",
        "colab_type": "code",
        "outputId": "c0c58c4f-cb47-4d12-e466-e23318077dc9",
        "colab": {
          "base_uri": "https://localhost:8080/",
          "height": 35
        }
      },
      "source": [
        "y.shape"
      ],
      "execution_count": 19,
      "outputs": [
        {
          "output_type": "execute_result",
          "data": {
            "text/plain": [
              "(1000,)"
            ]
          },
          "metadata": {
            "tags": []
          },
          "execution_count": 19
        }
      ]
    },
    {
      "cell_type": "code",
      "metadata": {
        "id": "4Q4UidxvKO23",
        "colab_type": "code",
        "outputId": "723e9550-fc4d-464b-8b3d-ad1d17248c8e",
        "colab": {
          "base_uri": "https://localhost:8080/",
          "height": 202
        }
      },
      "source": [
        "X.head()"
      ],
      "execution_count": 20,
      "outputs": [
        {
          "output_type": "execute_result",
          "data": {
            "text/html": [
              "<div>\n",
              "<style scoped>\n",
              "    .dataframe tbody tr th:only-of-type {\n",
              "        vertical-align: middle;\n",
              "    }\n",
              "\n",
              "    .dataframe tbody tr th {\n",
              "        vertical-align: top;\n",
              "    }\n",
              "\n",
              "    .dataframe thead th {\n",
              "        text-align: right;\n",
              "    }\n",
              "</style>\n",
              "<table border=\"1\" class=\"dataframe\">\n",
              "  <thead>\n",
              "    <tr style=\"text-align: right;\">\n",
              "      <th></th>\n",
              "      <th>open</th>\n",
              "      <th>close</th>\n",
              "      <th>low</th>\n",
              "      <th>high</th>\n",
              "    </tr>\n",
              "  </thead>\n",
              "  <tbody>\n",
              "    <tr>\n",
              "      <th>0</th>\n",
              "      <td>123.430000</td>\n",
              "      <td>125.839996</td>\n",
              "      <td>122.309998</td>\n",
              "      <td>126.250000</td>\n",
              "    </tr>\n",
              "    <tr>\n",
              "      <th>1</th>\n",
              "      <td>125.239998</td>\n",
              "      <td>119.980003</td>\n",
              "      <td>119.940002</td>\n",
              "      <td>125.540001</td>\n",
              "    </tr>\n",
              "    <tr>\n",
              "      <th>2</th>\n",
              "      <td>116.379997</td>\n",
              "      <td>114.949997</td>\n",
              "      <td>114.930000</td>\n",
              "      <td>119.739998</td>\n",
              "    </tr>\n",
              "    <tr>\n",
              "      <th>3</th>\n",
              "      <td>115.480003</td>\n",
              "      <td>116.620003</td>\n",
              "      <td>113.500000</td>\n",
              "      <td>117.440002</td>\n",
              "    </tr>\n",
              "    <tr>\n",
              "      <th>4</th>\n",
              "      <td>117.010002</td>\n",
              "      <td>114.970001</td>\n",
              "      <td>114.089996</td>\n",
              "      <td>117.330002</td>\n",
              "    </tr>\n",
              "  </tbody>\n",
              "</table>\n",
              "</div>"
            ],
            "text/plain": [
              "         open       close         low        high\n",
              "0  123.430000  125.839996  122.309998  126.250000\n",
              "1  125.239998  119.980003  119.940002  125.540001\n",
              "2  116.379997  114.949997  114.930000  119.739998\n",
              "3  115.480003  116.620003  113.500000  117.440002\n",
              "4  117.010002  114.970001  114.089996  117.330002"
            ]
          },
          "metadata": {
            "tags": []
          },
          "execution_count": 20
        }
      ]
    },
    {
      "cell_type": "code",
      "metadata": {
        "id": "80pMTzXNKTO7",
        "colab_type": "code",
        "outputId": "7d291739-b8c4-4177-f729-11bb4496b5e3",
        "colab": {
          "base_uri": "https://localhost:8080/",
          "height": 121
        }
      },
      "source": [
        "y.head()"
      ],
      "execution_count": 21,
      "outputs": [
        {
          "output_type": "execute_result",
          "data": {
            "text/plain": [
              "0    2.1636\n",
              "1    2.3864\n",
              "2    2.4895\n",
              "3    2.0063\n",
              "4    1.4086\n",
              "Name: volume, dtype: float64"
            ]
          },
          "metadata": {
            "tags": []
          },
          "execution_count": 21
        }
      ]
    },
    {
      "cell_type": "markdown",
      "metadata": {
        "colab_type": "text",
        "id": "M3UaApqYOB6x"
      },
      "source": [
        "### Divide the data into train and test sets"
      ]
    },
    {
      "cell_type": "code",
      "metadata": {
        "colab_type": "code",
        "id": "4LE4U8lTdQJq",
        "colab": {}
      },
      "source": [
        "from sklearn.model_selection import train_test_split"
      ],
      "execution_count": 0,
      "outputs": []
    },
    {
      "cell_type": "code",
      "metadata": {
        "id": "9-TZ16JFKac7",
        "colab_type": "code",
        "colab": {}
      },
      "source": [
        "test_size = 0.30 # taking 70:30 training and test set\n",
        "seed = 7  # Random numbmer seeding for reapeatability of the code\n",
        "X_train, X_test, y_train, y_test = train_test_split(X, y, test_size=test_size, random_state=seed)"
      ],
      "execution_count": 0,
      "outputs": []
    },
    {
      "cell_type": "code",
      "metadata": {
        "id": "cKuF1qtMLOOV",
        "colab_type": "code",
        "outputId": "d509277a-c436-40dd-e8f5-2c3a7f1603aa",
        "colab": {
          "base_uri": "https://localhost:8080/",
          "height": 173
        }
      },
      "source": [
        "X_train.info()"
      ],
      "execution_count": 24,
      "outputs": [
        {
          "output_type": "stream",
          "text": [
            "<class 'pandas.core.frame.DataFrame'>\n",
            "Int64Index: 700 entries, 822 to 175\n",
            "Data columns (total 4 columns):\n",
            "open     700 non-null float64\n",
            "close    700 non-null float64\n",
            "low      700 non-null float64\n",
            "high     700 non-null float64\n",
            "dtypes: float64(4)\n",
            "memory usage: 27.3 KB\n"
          ],
          "name": "stdout"
        }
      ]
    },
    {
      "cell_type": "code",
      "metadata": {
        "id": "lflECfUmLnYO",
        "colab_type": "code",
        "outputId": "8f6063d2-d17a-4f11-bbf4-7089921fed35",
        "colab": {
          "base_uri": "https://localhost:8080/",
          "height": 173
        }
      },
      "source": [
        "X_test.info()"
      ],
      "execution_count": 25,
      "outputs": [
        {
          "output_type": "stream",
          "text": [
            "<class 'pandas.core.frame.DataFrame'>\n",
            "Int64Index: 300 entries, 778 to 459\n",
            "Data columns (total 4 columns):\n",
            "open     300 non-null float64\n",
            "close    300 non-null float64\n",
            "low      300 non-null float64\n",
            "high     300 non-null float64\n",
            "dtypes: float64(4)\n",
            "memory usage: 11.7 KB\n"
          ],
          "name": "stdout"
        }
      ]
    },
    {
      "cell_type": "markdown",
      "metadata": {
        "colab_type": "text",
        "id": "oYK-aUuLbrz2"
      },
      "source": [
        "#### Convert Training and Test Data to numpy float32 arrays\n"
      ]
    },
    {
      "cell_type": "code",
      "metadata": {
        "colab_type": "code",
        "id": "Ao-S0tQGcncz",
        "colab": {}
      },
      "source": [
        "X_train = X_train.astype('float32')"
      ],
      "execution_count": 0,
      "outputs": []
    },
    {
      "cell_type": "code",
      "metadata": {
        "id": "FG2QnmjjLHnd",
        "colab_type": "code",
        "colab": {}
      },
      "source": [
        "X_test = X_test.astype('float32')"
      ],
      "execution_count": 0,
      "outputs": []
    },
    {
      "cell_type": "code",
      "metadata": {
        "id": "C3pO3T7h77-w",
        "colab_type": "code",
        "colab": {}
      },
      "source": [
        "y_train=y_train.astype('float32')"
      ],
      "execution_count": 0,
      "outputs": []
    },
    {
      "cell_type": "code",
      "metadata": {
        "id": "SHRlOX9j8BAB",
        "colab_type": "code",
        "colab": {}
      },
      "source": [
        "y_test=y_test.astype('float32')"
      ],
      "execution_count": 0,
      "outputs": []
    },
    {
      "cell_type": "code",
      "metadata": {
        "id": "2Oxcu6IkLuQs",
        "colab_type": "code",
        "outputId": "536c1a04-ce67-4783-f1ee-53541beadab7",
        "colab": {
          "base_uri": "https://localhost:8080/",
          "height": 104
        }
      },
      "source": [
        "X_train.dtypes"
      ],
      "execution_count": 30,
      "outputs": [
        {
          "output_type": "execute_result",
          "data": {
            "text/plain": [
              "open     float32\n",
              "close    float32\n",
              "low      float32\n",
              "high     float32\n",
              "dtype: object"
            ]
          },
          "metadata": {
            "tags": []
          },
          "execution_count": 30
        }
      ]
    },
    {
      "cell_type": "code",
      "metadata": {
        "id": "fIW198eX9OoE",
        "colab_type": "code",
        "outputId": "ed72dd02-b26c-4de4-8c14-3fe6ebc73939",
        "colab": {
          "base_uri": "https://localhost:8080/",
          "height": 35
        }
      },
      "source": [
        "y_train.dtype"
      ],
      "execution_count": 31,
      "outputs": [
        {
          "output_type": "execute_result",
          "data": {
            "text/plain": [
              "dtype('float32')"
            ]
          },
          "metadata": {
            "tags": []
          },
          "execution_count": 31
        }
      ]
    },
    {
      "cell_type": "code",
      "metadata": {
        "id": "LYnhV3XoLyHf",
        "colab_type": "code",
        "outputId": "abcb26a7-c791-4fef-ca23-a07c31aa8814",
        "colab": {
          "base_uri": "https://localhost:8080/",
          "height": 104
        }
      },
      "source": [
        "X_test.dtypes"
      ],
      "execution_count": 32,
      "outputs": [
        {
          "output_type": "execute_result",
          "data": {
            "text/plain": [
              "open     float32\n",
              "close    float32\n",
              "low      float32\n",
              "high     float32\n",
              "dtype: object"
            ]
          },
          "metadata": {
            "tags": []
          },
          "execution_count": 32
        }
      ]
    },
    {
      "cell_type": "code",
      "metadata": {
        "id": "CvLlr_je9cMf",
        "colab_type": "code",
        "outputId": "9c1ea358-4b80-45a8-895d-e1cf9493bb48",
        "colab": {
          "base_uri": "https://localhost:8080/",
          "height": 35
        }
      },
      "source": [
        "y_test.dtype"
      ],
      "execution_count": 33,
      "outputs": [
        {
          "output_type": "execute_result",
          "data": {
            "text/plain": [
              "dtype('float32')"
            ]
          },
          "metadata": {
            "tags": []
          },
          "execution_count": 33
        }
      ]
    },
    {
      "cell_type": "markdown",
      "metadata": {
        "colab_type": "text",
        "id": "im1ZegbDdKgv"
      },
      "source": [
        "### Normalize the data\n",
        "You can use Normalizer from sklearn.preprocessing"
      ]
    },
    {
      "cell_type": "code",
      "metadata": {
        "colab_type": "code",
        "id": "2EkKAy7fOB6y",
        "colab": {}
      },
      "source": [
        "from sklearn.preprocessing import StandardScaler"
      ],
      "execution_count": 0,
      "outputs": []
    },
    {
      "cell_type": "code",
      "metadata": {
        "id": "2aeeKjs4MLVb",
        "colab_type": "code",
        "colab": {}
      },
      "source": [
        "scaler=StandardScaler()"
      ],
      "execution_count": 0,
      "outputs": []
    },
    {
      "cell_type": "code",
      "metadata": {
        "id": "UOTDs2RaMHby",
        "colab_type": "code",
        "outputId": "d6388e91-dfa1-4365-ee6d-474b2b4a59dc",
        "colab": {
          "base_uri": "https://localhost:8080/",
          "height": 35
        }
      },
      "source": [
        "scaler.fit(X_train)"
      ],
      "execution_count": 36,
      "outputs": [
        {
          "output_type": "execute_result",
          "data": {
            "text/plain": [
              "StandardScaler(copy=True, with_mean=True, with_std=True)"
            ]
          },
          "metadata": {
            "tags": []
          },
          "execution_count": 36
        }
      ]
    },
    {
      "cell_type": "code",
      "metadata": {
        "id": "YY_9sJf5MPmU",
        "colab_type": "code",
        "colab": {}
      },
      "source": [
        "X_train_Scaler=scaler.transform(X_train)"
      ],
      "execution_count": 0,
      "outputs": []
    },
    {
      "cell_type": "code",
      "metadata": {
        "id": "I_1acP4DNWVM",
        "colab_type": "code",
        "colab": {}
      },
      "source": [
        "X_test_Scaler=scaler.transform(X_test)"
      ],
      "execution_count": 0,
      "outputs": []
    },
    {
      "cell_type": "code",
      "metadata": {
        "id": "9faKNvxt9vUY",
        "colab_type": "code",
        "colab": {}
      },
      "source": [
        "y_train=np.array(y_train)"
      ],
      "execution_count": 0,
      "outputs": []
    },
    {
      "cell_type": "code",
      "metadata": {
        "id": "08GC9c-z9zf_",
        "colab_type": "code",
        "colab": {}
      },
      "source": [
        "y_test=np.array(y_test)"
      ],
      "execution_count": 0,
      "outputs": []
    },
    {
      "cell_type": "code",
      "metadata": {
        "id": "6-KiRjQMNj_n",
        "colab_type": "code",
        "outputId": "c29c6542-9989-4879-dab2-9f91ef2a74d2",
        "colab": {
          "base_uri": "https://localhost:8080/",
          "height": 156
        }
      },
      "source": [
        "X_train_Scaler"
      ],
      "execution_count": 41,
      "outputs": [
        {
          "output_type": "execute_result",
          "data": {
            "text/plain": [
              "array([[-0.5680221 , -0.5701456 , -0.5665494 , -0.5715895 ],\n",
              "       [ 1.0561224 ,  1.048834  ,  1.0359256 ,  1.0442692 ],\n",
              "       [-0.60972595, -0.613514  , -0.6075959 , -0.6132277 ],\n",
              "       ...,\n",
              "       [ 0.24248421,  0.23934416,  0.24889648,  0.2362578 ],\n",
              "       [ 0.99826455,  0.9795764 ,  0.99138933,  0.9821396 ],\n",
              "       [ 0.8987026 ,  0.88706803,  0.896002  ,  0.8942731 ]],\n",
              "      dtype=float32)"
            ]
          },
          "metadata": {
            "tags": []
          },
          "execution_count": 41
        }
      ]
    },
    {
      "cell_type": "code",
      "metadata": {
        "id": "em_S61etNqZG",
        "colab_type": "code",
        "outputId": "58cf3a26-255b-4c5f-e251-cbeb6b054d3c",
        "colab": {
          "base_uri": "https://localhost:8080/",
          "height": 156
        }
      },
      "source": [
        "X_test_Scaler"
      ],
      "execution_count": 42,
      "outputs": [
        {
          "output_type": "execute_result",
          "data": {
            "text/plain": [
              "array([[-0.22515987, -0.24941677, -0.24415994, -0.23012318],\n",
              "       [-0.15098296, -0.1511369 , -0.14544897, -0.15389568],\n",
              "       [-0.63758343, -0.63231254, -0.63285524, -0.63650584],\n",
              "       ...,\n",
              "       [-0.11719128, -0.10562477, -0.11570271, -0.10242164],\n",
              "       [-0.47604266, -0.47631797, -0.47082964, -0.48028043],\n",
              "       [-0.8850047 , -0.883289  , -0.8811284 , -0.88600737]],\n",
              "      dtype=float32)"
            ]
          },
          "metadata": {
            "tags": []
          },
          "execution_count": 42
        }
      ]
    },
    {
      "cell_type": "markdown",
      "metadata": {
        "colab_type": "text",
        "id": "v6vE4eYCOB62"
      },
      "source": [
        "## Building the Model in tensorflow"
      ]
    },
    {
      "cell_type": "markdown",
      "metadata": {
        "colab_type": "text",
        "id": "297_qja4OB7A"
      },
      "source": [
        "1.Define Weights and Bias, use tf.zeros to initialize weights and Bias"
      ]
    },
    {
      "cell_type": "code",
      "metadata": {
        "colab_type": "code",
        "id": "L205qPeQOB7B",
        "colab": {}
      },
      "source": [
        "W = tf.zeros(shape=(4, 1))\n",
        "b = tf.zeros(shape=(1))"
      ],
      "execution_count": 0,
      "outputs": []
    },
    {
      "cell_type": "markdown",
      "metadata": {
        "colab_type": "text",
        "id": "HgtWA-UIOB7F"
      },
      "source": [
        "2.Define a function to calculate prediction"
      ]
    },
    {
      "cell_type": "code",
      "metadata": {
        "colab_type": "code",
        "id": "JveGlx25OB7H",
        "colab": {}
      },
      "source": [
        "@tf.function\n",
        "def prediction(X_train_Scaler, W, b):\n",
        "    y_predict = tf.add(tf.matmul(X_train_Scaler, W), b)\n",
        "    return y_predict"
      ],
      "execution_count": 0,
      "outputs": []
    },
    {
      "cell_type": "markdown",
      "metadata": {
        "colab_type": "text",
        "id": "TL1hIwf_OB7M"
      },
      "source": [
        "3.Loss (Cost) Function [Mean square error]"
      ]
    },
    {
      "cell_type": "code",
      "metadata": {
        "colab_type": "code",
        "id": "8VSWPiGXOB7P",
        "colab": {}
      },
      "source": [
        "@tf.function\n",
        "def loss(y_train, prediction):\n",
        "    diff = y_train - prediction\n",
        "    sqr = tf.square(diff)\n",
        "    avg = tf.reduce_mean(sqr)\n",
        "    return avg"
      ],
      "execution_count": 0,
      "outputs": []
    },
    {
      "cell_type": "markdown",
      "metadata": {
        "colab_type": "text",
        "id": "jzG85FUlOB7U"
      },
      "source": [
        "4.Function to train the Model\n",
        "\n",
        "1.   Record all the mathematical steps to calculate Loss\n",
        "2.   Calculate Gradients of Loss w.r.t weights and bias\n",
        "3.   Update Weights and Bias based on gradients and learning rate to minimize loss"
      ]
    },
    {
      "cell_type": "code",
      "metadata": {
        "colab_type": "code",
        "id": "cj802w-3OB7X",
        "colab": {}
      },
      "source": [
        "@tf.function\n",
        "def train(X, y, W, b, learning_rate=0.01):\n",
        "    \n",
        "    # Record mathematical operations on 'tape' to calculate loss\n",
        "    with tf.GradientTape() as t:\n",
        "        t.watch([W,b])\n",
        "        current_prediction = prediction(X_train_Scaler, W, b)\n",
        "        current_loss = loss(y_train, current_prediction)\n",
        "    \n",
        "    # Calculate Gradients for Loss with respect to Weights and Bias\n",
        "    dW, db = t.gradient(current_loss,[W, b])\n",
        "    \n",
        "    # Update Weights and Bias\n",
        "    W = W - learning_rate * dW\n",
        "    b = b - learning_rate * db\n",
        "    \n",
        "    return W, b"
      ],
      "execution_count": 0,
      "outputs": []
    },
    {
      "cell_type": "markdown",
      "metadata": {
        "colab_type": "text",
        "id": "xSypb_u8OB7e"
      },
      "source": [
        "## Train the model for 100 epochs \n",
        "1. Observe the training loss at every iteration\n",
        "2. Observe Train loss at every 5th iteration"
      ]
    },
    {
      "cell_type": "code",
      "metadata": {
        "id": "Bb3HNn-Q_Fmi",
        "colab_type": "code",
        "outputId": "401f7dae-736f-49a8-a3d0-faf18659e936",
        "colab": {
          "base_uri": "https://localhost:8080/",
          "height": 1000
        }
      },
      "source": [
        "for i in range(100):    \n",
        "    W, b = train(X_train_Scaler,y_train, W, b)\n",
        "    print('Current Training Loss on iteration', i, loss(y_train, prediction(X_train_Scaler, W, b)).numpy())"
      ],
      "execution_count": 47,
      "outputs": [
        {
          "output_type": "stream",
          "text": [
            "Current Training Loss on iteration 0 304.18265\n",
            "Current Training Loss on iteration 1 302.98566\n",
            "Current Training Loss on iteration 2 301.83594\n",
            "Current Training Loss on iteration 3 300.7317\n",
            "Current Training Loss on iteration 4 299.6714\n",
            "Current Training Loss on iteration 5 298.65286\n",
            "Current Training Loss on iteration 6 297.67484\n",
            "Current Training Loss on iteration 7 296.73544\n",
            "Current Training Loss on iteration 8 295.83347\n",
            "Current Training Loss on iteration 9 294.967\n",
            "Current Training Loss on iteration 10 294.13474\n",
            "Current Training Loss on iteration 11 293.3357\n",
            "Current Training Loss on iteration 12 292.56836\n",
            "Current Training Loss on iteration 13 291.83115\n",
            "Current Training Loss on iteration 14 291.12326\n",
            "Current Training Loss on iteration 15 290.44327\n",
            "Current Training Loss on iteration 16 289.79022\n",
            "Current Training Loss on iteration 17 289.16324\n",
            "Current Training Loss on iteration 18 288.56104\n",
            "Current Training Loss on iteration 19 287.98242\n",
            "Current Training Loss on iteration 20 287.42703\n",
            "Current Training Loss on iteration 21 286.8933\n",
            "Current Training Loss on iteration 22 286.38098\n",
            "Current Training Loss on iteration 23 285.88885\n",
            "Current Training Loss on iteration 24 285.4164\n",
            "Current Training Loss on iteration 25 284.96234\n",
            "Current Training Loss on iteration 26 284.5263\n",
            "Current Training Loss on iteration 27 284.10782\n",
            "Current Training Loss on iteration 28 283.7058\n",
            "Current Training Loss on iteration 29 283.31964\n",
            "Current Training Loss on iteration 30 282.94855\n",
            "Current Training Loss on iteration 31 282.59253\n",
            "Current Training Loss on iteration 32 282.25046\n",
            "Current Training Loss on iteration 33 281.92197\n",
            "Current Training Loss on iteration 34 281.60626\n",
            "Current Training Loss on iteration 35 281.3033\n",
            "Current Training Loss on iteration 36 281.01224\n",
            "Current Training Loss on iteration 37 280.7328\n",
            "Current Training Loss on iteration 38 280.46417\n",
            "Current Training Loss on iteration 39 280.20657\n",
            "Current Training Loss on iteration 40 279.95898\n",
            "Current Training Loss on iteration 41 279.72116\n",
            "Current Training Loss on iteration 42 279.4928\n",
            "Current Training Loss on iteration 43 279.2735\n",
            "Current Training Loss on iteration 44 279.06284\n",
            "Current Training Loss on iteration 45 278.8605\n",
            "Current Training Loss on iteration 46 278.6662\n",
            "Current Training Loss on iteration 47 278.47968\n",
            "Current Training Loss on iteration 48 278.30054\n",
            "Current Training Loss on iteration 49 278.1284\n",
            "Current Training Loss on iteration 50 277.96298\n",
            "Current Training Loss on iteration 51 277.8042\n",
            "Current Training Loss on iteration 52 277.65186\n",
            "Current Training Loss on iteration 53 277.50543\n",
            "Current Training Loss on iteration 54 277.36472\n",
            "Current Training Loss on iteration 55 277.22986\n",
            "Current Training Loss on iteration 56 277.1\n",
            "Current Training Loss on iteration 57 276.97525\n",
            "Current Training Loss on iteration 58 276.85577\n",
            "Current Training Loss on iteration 59 276.7408\n",
            "Current Training Loss on iteration 60 276.6306\n",
            "Current Training Loss on iteration 61 276.52448\n",
            "Current Training Loss on iteration 62 276.42267\n",
            "Current Training Loss on iteration 63 276.32495\n",
            "Current Training Loss on iteration 64 276.23093\n",
            "Current Training Loss on iteration 65 276.14087\n",
            "Current Training Loss on iteration 66 276.0542\n",
            "Current Training Loss on iteration 67 275.97125\n",
            "Current Training Loss on iteration 68 275.89127\n",
            "Current Training Loss on iteration 69 275.81458\n",
            "Current Training Loss on iteration 70 275.74094\n",
            "Current Training Loss on iteration 71 275.66995\n",
            "Current Training Loss on iteration 72 275.60223\n",
            "Current Training Loss on iteration 73 275.53696\n",
            "Current Training Loss on iteration 74 275.4742\n",
            "Current Training Loss on iteration 75 275.41412\n",
            "Current Training Loss on iteration 76 275.3562\n",
            "Current Training Loss on iteration 77 275.3008\n",
            "Current Training Loss on iteration 78 275.24728\n",
            "Current Training Loss on iteration 79 275.19608\n",
            "Current Training Loss on iteration 80 275.14685\n",
            "Current Training Loss on iteration 81 275.0997\n",
            "Current Training Loss on iteration 82 275.05438\n",
            "Current Training Loss on iteration 83 275.0108\n",
            "Current Training Loss on iteration 84 274.96893\n",
            "Current Training Loss on iteration 85 274.9287\n",
            "Current Training Loss on iteration 86 274.89026\n",
            "Current Training Loss on iteration 87 274.85306\n",
            "Current Training Loss on iteration 88 274.81744\n",
            "Current Training Loss on iteration 89 274.78317\n",
            "Current Training Loss on iteration 90 274.75052\n",
            "Current Training Loss on iteration 91 274.71893\n",
            "Current Training Loss on iteration 92 274.68878\n",
            "Current Training Loss on iteration 93 274.65955\n",
            "Current Training Loss on iteration 94 274.63168\n",
            "Current Training Loss on iteration 95 274.60477\n",
            "Current Training Loss on iteration 96 274.579\n",
            "Current Training Loss on iteration 97 274.55435\n",
            "Current Training Loss on iteration 98 274.53055\n",
            "Current Training Loss on iteration 99 274.5077\n"
          ],
          "name": "stdout"
        }
      ]
    },
    {
      "cell_type": "markdown",
      "metadata": {
        "colab_type": "text",
        "id": "DOL2ncA1OB7q"
      },
      "source": [
        "### Get the shapes and values of W and b"
      ]
    },
    {
      "cell_type": "code",
      "metadata": {
        "colab_type": "code",
        "id": "ZGvtyTeuOB7r",
        "outputId": "b2f5a85b-4b93-4530-dfe6-3188c4e2c997",
        "colab": {
          "base_uri": "https://localhost:8080/",
          "height": 35
        }
      },
      "source": [
        "W.shape"
      ],
      "execution_count": 51,
      "outputs": [
        {
          "output_type": "execute_result",
          "data": {
            "text/plain": [
              "TensorShape([4, 1])"
            ]
          },
          "metadata": {
            "tags": []
          },
          "execution_count": 51
        }
      ]
    },
    {
      "cell_type": "code",
      "metadata": {
        "colab_type": "code",
        "id": "vhDtOv5UOB7x",
        "outputId": "e35e6d7a-ead3-42c0-bd30-924c3667b6a3",
        "colab": {
          "base_uri": "https://localhost:8080/",
          "height": 35
        }
      },
      "source": [
        "b.shape"
      ],
      "execution_count": 52,
      "outputs": [
        {
          "output_type": "execute_result",
          "data": {
            "text/plain": [
              "TensorShape([1])"
            ]
          },
          "metadata": {
            "tags": []
          },
          "execution_count": 52
        }
      ]
    },
    {
      "cell_type": "code",
      "metadata": {
        "id": "dxuwWqBAyLzY",
        "colab_type": "code",
        "outputId": "7aa89fcf-01fd-419a-9cbc-fd189fc89789",
        "colab": {
          "base_uri": "https://localhost:8080/",
          "height": 87
        }
      },
      "source": [
        "W.numpy()"
      ],
      "execution_count": 53,
      "outputs": [
        {
          "output_type": "execute_result",
          "data": {
            "text/plain": [
              "array([[-2.4773177e-09],\n",
              "       [-3.0053787e-08],\n",
              "       [ 2.8256327e-08],\n",
              "       [-6.4726904e-09]], dtype=float32)"
            ]
          },
          "metadata": {
            "tags": []
          },
          "execution_count": 53
        }
      ]
    },
    {
      "cell_type": "code",
      "metadata": {
        "id": "ca0lc3h_yQHq",
        "colab_type": "code",
        "outputId": "7a666d1d-fdde-41de-e303-fd2fdfa5931a",
        "colab": {
          "base_uri": "https://localhost:8080/",
          "height": 35
        }
      },
      "source": [
        "b.numpy()"
      ],
      "execution_count": 54,
      "outputs": [
        {
          "output_type": "execute_result",
          "data": {
            "text/plain": [
              "array([4.866219], dtype=float32)"
            ]
          },
          "metadata": {
            "tags": []
          },
          "execution_count": 54
        }
      ]
    },
    {
      "cell_type": "markdown",
      "metadata": {
        "colab_type": "text",
        "id": "ERq9GOKKciho"
      },
      "source": [
        "### Model Prediction on 1st Examples in Test Dataset"
      ]
    },
    {
      "cell_type": "code",
      "metadata": {
        "colab_type": "code",
        "id": "gKGvUWahcihp",
        "outputId": "b72c80c7-6ca5-474a-ff6b-f5685a74d355",
        "colab": {
          "base_uri": "https://localhost:8080/",
          "height": 1000
        }
      },
      "source": [
        "prediction(X_train_Scaler, W, b)"
      ],
      "execution_count": 55,
      "outputs": [
        {
          "output_type": "execute_result",
          "data": {
            "text/plain": [
              "<tf.Tensor: shape=(700, 1), dtype=float32, numpy=\n",
              "array([[4.866219],\n",
              "       [4.866219],\n",
              "       [4.866219],\n",
              "       [4.866219],\n",
              "       [4.866219],\n",
              "       [4.866219],\n",
              "       [4.866219],\n",
              "       [4.866219],\n",
              "       [4.866219],\n",
              "       [4.866219],\n",
              "       [4.866219],\n",
              "       [4.866219],\n",
              "       [4.866219],\n",
              "       [4.866219],\n",
              "       [4.866219],\n",
              "       [4.866219],\n",
              "       [4.866219],\n",
              "       [4.866219],\n",
              "       [4.866219],\n",
              "       [4.866219],\n",
              "       [4.866219],\n",
              "       [4.866219],\n",
              "       [4.866219],\n",
              "       [4.866219],\n",
              "       [4.866219],\n",
              "       [4.866219],\n",
              "       [4.866219],\n",
              "       [4.866219],\n",
              "       [4.866219],\n",
              "       [4.866219],\n",
              "       [4.866219],\n",
              "       [4.866219],\n",
              "       [4.866219],\n",
              "       [4.866219],\n",
              "       [4.866219],\n",
              "       [4.866219],\n",
              "       [4.866219],\n",
              "       [4.866219],\n",
              "       [4.866219],\n",
              "       [4.866219],\n",
              "       [4.866219],\n",
              "       [4.866219],\n",
              "       [4.866219],\n",
              "       [4.866219],\n",
              "       [4.866219],\n",
              "       [4.866219],\n",
              "       [4.866219],\n",
              "       [4.866219],\n",
              "       [4.866219],\n",
              "       [4.866219],\n",
              "       [4.866219],\n",
              "       [4.866219],\n",
              "       [4.866219],\n",
              "       [4.866219],\n",
              "       [4.866219],\n",
              "       [4.866219],\n",
              "       [4.866219],\n",
              "       [4.866219],\n",
              "       [4.866219],\n",
              "       [4.866219],\n",
              "       [4.866219],\n",
              "       [4.866219],\n",
              "       [4.866219],\n",
              "       [4.866219],\n",
              "       [4.866219],\n",
              "       [4.866219],\n",
              "       [4.866219],\n",
              "       [4.866219],\n",
              "       [4.866219],\n",
              "       [4.866219],\n",
              "       [4.866219],\n",
              "       [4.866219],\n",
              "       [4.866219],\n",
              "       [4.866219],\n",
              "       [4.866219],\n",
              "       [4.866219],\n",
              "       [4.866219],\n",
              "       [4.866219],\n",
              "       [4.866219],\n",
              "       [4.866219],\n",
              "       [4.866219],\n",
              "       [4.866219],\n",
              "       [4.866219],\n",
              "       [4.866219],\n",
              "       [4.866219],\n",
              "       [4.866219],\n",
              "       [4.866219],\n",
              "       [4.866219],\n",
              "       [4.866219],\n",
              "       [4.866219],\n",
              "       [4.866219],\n",
              "       [4.866219],\n",
              "       [4.866219],\n",
              "       [4.866219],\n",
              "       [4.866219],\n",
              "       [4.866219],\n",
              "       [4.866219],\n",
              "       [4.866219],\n",
              "       [4.866219],\n",
              "       [4.866219],\n",
              "       [4.866219],\n",
              "       [4.866219],\n",
              "       [4.866219],\n",
              "       [4.866219],\n",
              "       [4.866219],\n",
              "       [4.866219],\n",
              "       [4.866219],\n",
              "       [4.866219],\n",
              "       [4.866219],\n",
              "       [4.866219],\n",
              "       [4.866219],\n",
              "       [4.866219],\n",
              "       [4.866219],\n",
              "       [4.866219],\n",
              "       [4.866219],\n",
              "       [4.866219],\n",
              "       [4.866219],\n",
              "       [4.866219],\n",
              "       [4.866219],\n",
              "       [4.866219],\n",
              "       [4.866219],\n",
              "       [4.866219],\n",
              "       [4.866219],\n",
              "       [4.866219],\n",
              "       [4.866219],\n",
              "       [4.866219],\n",
              "       [4.866219],\n",
              "       [4.866219],\n",
              "       [4.866219],\n",
              "       [4.866219],\n",
              "       [4.866219],\n",
              "       [4.866219],\n",
              "       [4.866219],\n",
              "       [4.866219],\n",
              "       [4.866219],\n",
              "       [4.866219],\n",
              "       [4.866219],\n",
              "       [4.866219],\n",
              "       [4.866219],\n",
              "       [4.866219],\n",
              "       [4.866219],\n",
              "       [4.866219],\n",
              "       [4.866219],\n",
              "       [4.866219],\n",
              "       [4.866219],\n",
              "       [4.866219],\n",
              "       [4.866219],\n",
              "       [4.866219],\n",
              "       [4.866219],\n",
              "       [4.866219],\n",
              "       [4.866219],\n",
              "       [4.866219],\n",
              "       [4.866219],\n",
              "       [4.866219],\n",
              "       [4.866219],\n",
              "       [4.866219],\n",
              "       [4.866219],\n",
              "       [4.866219],\n",
              "       [4.866219],\n",
              "       [4.866219],\n",
              "       [4.866219],\n",
              "       [4.866219],\n",
              "       [4.866219],\n",
              "       [4.866219],\n",
              "       [4.866219],\n",
              "       [4.866219],\n",
              "       [4.866219],\n",
              "       [4.866219],\n",
              "       [4.866219],\n",
              "       [4.866219],\n",
              "       [4.866219],\n",
              "       [4.866219],\n",
              "       [4.866219],\n",
              "       [4.866219],\n",
              "       [4.866219],\n",
              "       [4.866219],\n",
              "       [4.866219],\n",
              "       [4.866219],\n",
              "       [4.866219],\n",
              "       [4.866219],\n",
              "       [4.866219],\n",
              "       [4.866219],\n",
              "       [4.866219],\n",
              "       [4.866219],\n",
              "       [4.866219],\n",
              "       [4.866219],\n",
              "       [4.866219],\n",
              "       [4.866219],\n",
              "       [4.866219],\n",
              "       [4.866219],\n",
              "       [4.866219],\n",
              "       [4.866219],\n",
              "       [4.866219],\n",
              "       [4.866219],\n",
              "       [4.866219],\n",
              "       [4.866219],\n",
              "       [4.866219],\n",
              "       [4.866219],\n",
              "       [4.866219],\n",
              "       [4.866219],\n",
              "       [4.866219],\n",
              "       [4.866219],\n",
              "       [4.866219],\n",
              "       [4.866219],\n",
              "       [4.866219],\n",
              "       [4.866219],\n",
              "       [4.866219],\n",
              "       [4.866219],\n",
              "       [4.866219],\n",
              "       [4.866219],\n",
              "       [4.866219],\n",
              "       [4.866219],\n",
              "       [4.866219],\n",
              "       [4.866219],\n",
              "       [4.866219],\n",
              "       [4.866219],\n",
              "       [4.866219],\n",
              "       [4.866219],\n",
              "       [4.866219],\n",
              "       [4.866219],\n",
              "       [4.866219],\n",
              "       [4.866219],\n",
              "       [4.866219],\n",
              "       [4.866219],\n",
              "       [4.866219],\n",
              "       [4.866219],\n",
              "       [4.866219],\n",
              "       [4.866219],\n",
              "       [4.866219],\n",
              "       [4.866219],\n",
              "       [4.866219],\n",
              "       [4.866219],\n",
              "       [4.866219],\n",
              "       [4.866219],\n",
              "       [4.866219],\n",
              "       [4.866219],\n",
              "       [4.866219],\n",
              "       [4.866219],\n",
              "       [4.866219],\n",
              "       [4.866219],\n",
              "       [4.866219],\n",
              "       [4.866219],\n",
              "       [4.866219],\n",
              "       [4.866219],\n",
              "       [4.866219],\n",
              "       [4.866219],\n",
              "       [4.866219],\n",
              "       [4.866219],\n",
              "       [4.866219],\n",
              "       [4.866219],\n",
              "       [4.866219],\n",
              "       [4.866219],\n",
              "       [4.866219],\n",
              "       [4.866219],\n",
              "       [4.866219],\n",
              "       [4.866219],\n",
              "       [4.866219],\n",
              "       [4.866219],\n",
              "       [4.866219],\n",
              "       [4.866219],\n",
              "       [4.866219],\n",
              "       [4.866219],\n",
              "       [4.866219],\n",
              "       [4.866219],\n",
              "       [4.866219],\n",
              "       [4.866219],\n",
              "       [4.866219],\n",
              "       [4.866219],\n",
              "       [4.866219],\n",
              "       [4.866219],\n",
              "       [4.866219],\n",
              "       [4.866219],\n",
              "       [4.866219],\n",
              "       [4.866219],\n",
              "       [4.866219],\n",
              "       [4.866219],\n",
              "       [4.866219],\n",
              "       [4.866219],\n",
              "       [4.866219],\n",
              "       [4.866219],\n",
              "       [4.866219],\n",
              "       [4.866219],\n",
              "       [4.866219],\n",
              "       [4.866219],\n",
              "       [4.866219],\n",
              "       [4.866219],\n",
              "       [4.866219],\n",
              "       [4.866219],\n",
              "       [4.866219],\n",
              "       [4.866219],\n",
              "       [4.866219],\n",
              "       [4.866219],\n",
              "       [4.866219],\n",
              "       [4.866219],\n",
              "       [4.866219],\n",
              "       [4.866219],\n",
              "       [4.866219],\n",
              "       [4.866219],\n",
              "       [4.866219],\n",
              "       [4.866219],\n",
              "       [4.866219],\n",
              "       [4.866219],\n",
              "       [4.866219],\n",
              "       [4.866219],\n",
              "       [4.866219],\n",
              "       [4.866219],\n",
              "       [4.866219],\n",
              "       [4.866219],\n",
              "       [4.866219],\n",
              "       [4.866219],\n",
              "       [4.866219],\n",
              "       [4.866219],\n",
              "       [4.866219],\n",
              "       [4.866219],\n",
              "       [4.866219],\n",
              "       [4.866219],\n",
              "       [4.866219],\n",
              "       [4.866219],\n",
              "       [4.866219],\n",
              "       [4.866219],\n",
              "       [4.866219],\n",
              "       [4.866219],\n",
              "       [4.866219],\n",
              "       [4.866219],\n",
              "       [4.866219],\n",
              "       [4.866219],\n",
              "       [4.866219],\n",
              "       [4.866219],\n",
              "       [4.866219],\n",
              "       [4.866219],\n",
              "       [4.866219],\n",
              "       [4.866219],\n",
              "       [4.866219],\n",
              "       [4.866219],\n",
              "       [4.866219],\n",
              "       [4.866219],\n",
              "       [4.866219],\n",
              "       [4.866219],\n",
              "       [4.866219],\n",
              "       [4.866219],\n",
              "       [4.866219],\n",
              "       [4.866219],\n",
              "       [4.866219],\n",
              "       [4.866219],\n",
              "       [4.866219],\n",
              "       [4.866219],\n",
              "       [4.866219],\n",
              "       [4.866219],\n",
              "       [4.866219],\n",
              "       [4.866219],\n",
              "       [4.866219],\n",
              "       [4.866219],\n",
              "       [4.866219],\n",
              "       [4.866219],\n",
              "       [4.866219],\n",
              "       [4.866219],\n",
              "       [4.866219],\n",
              "       [4.866219],\n",
              "       [4.866219],\n",
              "       [4.866219],\n",
              "       [4.866219],\n",
              "       [4.866219],\n",
              "       [4.866219],\n",
              "       [4.866219],\n",
              "       [4.866219],\n",
              "       [4.866219],\n",
              "       [4.866219],\n",
              "       [4.866219],\n",
              "       [4.866219],\n",
              "       [4.866219],\n",
              "       [4.866219],\n",
              "       [4.866219],\n",
              "       [4.866219],\n",
              "       [4.866219],\n",
              "       [4.866219],\n",
              "       [4.866219],\n",
              "       [4.866219],\n",
              "       [4.866219],\n",
              "       [4.866219],\n",
              "       [4.866219],\n",
              "       [4.866219],\n",
              "       [4.866219],\n",
              "       [4.866219],\n",
              "       [4.866219],\n",
              "       [4.866219],\n",
              "       [4.866219],\n",
              "       [4.866219],\n",
              "       [4.866219],\n",
              "       [4.866219],\n",
              "       [4.866219],\n",
              "       [4.866219],\n",
              "       [4.866219],\n",
              "       [4.866219],\n",
              "       [4.866219],\n",
              "       [4.866219],\n",
              "       [4.866219],\n",
              "       [4.866219],\n",
              "       [4.866219],\n",
              "       [4.866219],\n",
              "       [4.866219],\n",
              "       [4.866219],\n",
              "       [4.866219],\n",
              "       [4.866219],\n",
              "       [4.866219],\n",
              "       [4.866219],\n",
              "       [4.866219],\n",
              "       [4.866219],\n",
              "       [4.866219],\n",
              "       [4.866219],\n",
              "       [4.866219],\n",
              "       [4.866219],\n",
              "       [4.866219],\n",
              "       [4.866219],\n",
              "       [4.866219],\n",
              "       [4.866219],\n",
              "       [4.866219],\n",
              "       [4.866219],\n",
              "       [4.866219],\n",
              "       [4.866219],\n",
              "       [4.866219],\n",
              "       [4.866219],\n",
              "       [4.866219],\n",
              "       [4.866219],\n",
              "       [4.866219],\n",
              "       [4.866219],\n",
              "       [4.866219],\n",
              "       [4.866219],\n",
              "       [4.866219],\n",
              "       [4.866219],\n",
              "       [4.866219],\n",
              "       [4.866219],\n",
              "       [4.866219],\n",
              "       [4.866219],\n",
              "       [4.866219],\n",
              "       [4.866219],\n",
              "       [4.866219],\n",
              "       [4.866219],\n",
              "       [4.866219],\n",
              "       [4.866219],\n",
              "       [4.866219],\n",
              "       [4.866219],\n",
              "       [4.866219],\n",
              "       [4.866219],\n",
              "       [4.866219],\n",
              "       [4.866219],\n",
              "       [4.866219],\n",
              "       [4.866219],\n",
              "       [4.866219],\n",
              "       [4.866219],\n",
              "       [4.866219],\n",
              "       [4.866219],\n",
              "       [4.866219],\n",
              "       [4.866219],\n",
              "       [4.866219],\n",
              "       [4.866219],\n",
              "       [4.866219],\n",
              "       [4.866219],\n",
              "       [4.866219],\n",
              "       [4.866219],\n",
              "       [4.866219],\n",
              "       [4.866219],\n",
              "       [4.866219],\n",
              "       [4.866219],\n",
              "       [4.866219],\n",
              "       [4.866219],\n",
              "       [4.866219],\n",
              "       [4.866219],\n",
              "       [4.866219],\n",
              "       [4.866219],\n",
              "       [4.866219],\n",
              "       [4.866219],\n",
              "       [4.866219],\n",
              "       [4.866219],\n",
              "       [4.866219],\n",
              "       [4.866219],\n",
              "       [4.866219],\n",
              "       [4.866219],\n",
              "       [4.866219],\n",
              "       [4.866219],\n",
              "       [4.866219],\n",
              "       [4.866219],\n",
              "       [4.866219],\n",
              "       [4.866219],\n",
              "       [4.866219],\n",
              "       [4.866219],\n",
              "       [4.866219],\n",
              "       [4.866219],\n",
              "       [4.866219],\n",
              "       [4.866219],\n",
              "       [4.866219],\n",
              "       [4.866219],\n",
              "       [4.866219],\n",
              "       [4.866219],\n",
              "       [4.866219],\n",
              "       [4.866219],\n",
              "       [4.866219],\n",
              "       [4.866219],\n",
              "       [4.866219],\n",
              "       [4.866219],\n",
              "       [4.866219],\n",
              "       [4.866219],\n",
              "       [4.866219],\n",
              "       [4.866219],\n",
              "       [4.866219],\n",
              "       [4.866219],\n",
              "       [4.866219],\n",
              "       [4.866219],\n",
              "       [4.866219],\n",
              "       [4.866219],\n",
              "       [4.866219],\n",
              "       [4.866219],\n",
              "       [4.866219],\n",
              "       [4.866219],\n",
              "       [4.866219],\n",
              "       [4.866219],\n",
              "       [4.866219],\n",
              "       [4.866219],\n",
              "       [4.866219],\n",
              "       [4.866219],\n",
              "       [4.866219],\n",
              "       [4.866219],\n",
              "       [4.866219],\n",
              "       [4.866219],\n",
              "       [4.866219],\n",
              "       [4.866219],\n",
              "       [4.866219],\n",
              "       [4.866219],\n",
              "       [4.866219],\n",
              "       [4.866219],\n",
              "       [4.866219],\n",
              "       [4.866219],\n",
              "       [4.866219],\n",
              "       [4.866219],\n",
              "       [4.866219],\n",
              "       [4.866219],\n",
              "       [4.866219],\n",
              "       [4.866219],\n",
              "       [4.866219],\n",
              "       [4.866219],\n",
              "       [4.866219],\n",
              "       [4.866219],\n",
              "       [4.866219],\n",
              "       [4.866219],\n",
              "       [4.866219],\n",
              "       [4.866219],\n",
              "       [4.866219],\n",
              "       [4.866219],\n",
              "       [4.866219],\n",
              "       [4.866219],\n",
              "       [4.866219],\n",
              "       [4.866219],\n",
              "       [4.866219],\n",
              "       [4.866219],\n",
              "       [4.866219],\n",
              "       [4.866219],\n",
              "       [4.866219],\n",
              "       [4.866219],\n",
              "       [4.866219],\n",
              "       [4.866219],\n",
              "       [4.866219],\n",
              "       [4.866219],\n",
              "       [4.866219],\n",
              "       [4.866219],\n",
              "       [4.866219],\n",
              "       [4.866219],\n",
              "       [4.866219],\n",
              "       [4.866219],\n",
              "       [4.866219],\n",
              "       [4.866219],\n",
              "       [4.866219],\n",
              "       [4.866219],\n",
              "       [4.866219],\n",
              "       [4.866219],\n",
              "       [4.866219],\n",
              "       [4.866219],\n",
              "       [4.866219],\n",
              "       [4.866219],\n",
              "       [4.866219],\n",
              "       [4.866219],\n",
              "       [4.866219],\n",
              "       [4.866219],\n",
              "       [4.866219],\n",
              "       [4.866219],\n",
              "       [4.866219],\n",
              "       [4.866219],\n",
              "       [4.866219],\n",
              "       [4.866219],\n",
              "       [4.866219],\n",
              "       [4.866219],\n",
              "       [4.866219],\n",
              "       [4.866219],\n",
              "       [4.866219],\n",
              "       [4.866219],\n",
              "       [4.866219],\n",
              "       [4.866219],\n",
              "       [4.866219],\n",
              "       [4.866219],\n",
              "       [4.866219],\n",
              "       [4.866219],\n",
              "       [4.866219],\n",
              "       [4.866219],\n",
              "       [4.866219],\n",
              "       [4.866219],\n",
              "       [4.866219],\n",
              "       [4.866219],\n",
              "       [4.866219],\n",
              "       [4.866219],\n",
              "       [4.866219],\n",
              "       [4.866219],\n",
              "       [4.866219],\n",
              "       [4.866219],\n",
              "       [4.866219],\n",
              "       [4.866219],\n",
              "       [4.866219],\n",
              "       [4.866219],\n",
              "       [4.866219],\n",
              "       [4.866219],\n",
              "       [4.866219],\n",
              "       [4.866219],\n",
              "       [4.866219],\n",
              "       [4.866219],\n",
              "       [4.866219],\n",
              "       [4.866219],\n",
              "       [4.866219],\n",
              "       [4.866219],\n",
              "       [4.866219],\n",
              "       [4.866219],\n",
              "       [4.866219],\n",
              "       [4.866219],\n",
              "       [4.866219],\n",
              "       [4.866219],\n",
              "       [4.866219],\n",
              "       [4.866219],\n",
              "       [4.866219],\n",
              "       [4.866219],\n",
              "       [4.866219],\n",
              "       [4.866219],\n",
              "       [4.866219],\n",
              "       [4.866219],\n",
              "       [4.866219],\n",
              "       [4.866219],\n",
              "       [4.866219],\n",
              "       [4.866219],\n",
              "       [4.866219],\n",
              "       [4.866219],\n",
              "       [4.866219],\n",
              "       [4.866219],\n",
              "       [4.866219],\n",
              "       [4.866219],\n",
              "       [4.866219],\n",
              "       [4.866219],\n",
              "       [4.866219],\n",
              "       [4.866219],\n",
              "       [4.866219],\n",
              "       [4.866219],\n",
              "       [4.866219],\n",
              "       [4.866219],\n",
              "       [4.866219],\n",
              "       [4.866219],\n",
              "       [4.866219],\n",
              "       [4.866219],\n",
              "       [4.866219],\n",
              "       [4.866219],\n",
              "       [4.866219],\n",
              "       [4.866219],\n",
              "       [4.866219],\n",
              "       [4.866219],\n",
              "       [4.866219],\n",
              "       [4.866219],\n",
              "       [4.866219],\n",
              "       [4.866219],\n",
              "       [4.866219],\n",
              "       [4.866219],\n",
              "       [4.866219],\n",
              "       [4.866219],\n",
              "       [4.866219],\n",
              "       [4.866219],\n",
              "       [4.866219],\n",
              "       [4.866219],\n",
              "       [4.866219],\n",
              "       [4.866219],\n",
              "       [4.866219],\n",
              "       [4.866219],\n",
              "       [4.866219],\n",
              "       [4.866219],\n",
              "       [4.866219],\n",
              "       [4.866219],\n",
              "       [4.866219],\n",
              "       [4.866219],\n",
              "       [4.866219],\n",
              "       [4.866219],\n",
              "       [4.866219],\n",
              "       [4.866219],\n",
              "       [4.866219],\n",
              "       [4.866219],\n",
              "       [4.866219],\n",
              "       [4.866219],\n",
              "       [4.866219],\n",
              "       [4.866219],\n",
              "       [4.866219]], dtype=float32)>"
            ]
          },
          "metadata": {
            "tags": []
          },
          "execution_count": 55
        }
      ]
    },
    {
      "cell_type": "markdown",
      "metadata": {
        "colab_type": "text",
        "id": "YJRBuqXhOB7_"
      },
      "source": [
        "## Classification using tf.Keras\n",
        "\n",
        "In this exercise, we will build a Deep Neural Network using tf.Keras. We will use Iris Dataset for this exercise."
      ]
    },
    {
      "cell_type": "markdown",
      "metadata": {
        "colab_type": "text",
        "id": "O0g6lorycihf"
      },
      "source": [
        "### Load the given Iris data using pandas (Iris.csv)"
      ]
    },
    {
      "cell_type": "code",
      "metadata": {
        "colab_type": "code",
        "id": "6xFvb5sRcihg",
        "outputId": "f0889dd8-324b-4ebe-b691-397e60d3b087",
        "colab": {
          "resources": {
            "http://localhost:8080/nbextensions/google.colab/files.js": {
              "data": "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",
              "ok": true,
              "headers": [
                [
                  "content-type",
                  "application/javascript"
                ]
              ],
              "status": 200,
              "status_text": ""
            }
          },
          "base_uri": "https://localhost:8080/",
          "height": 75
        }
      },
      "source": [
        "from google.colab import files\n",
        "uploaded = files.upload()"
      ],
      "execution_count": 56,
      "outputs": [
        {
          "output_type": "display_data",
          "data": {
            "text/html": [
              "\n",
              "     <input type=\"file\" id=\"files-7fb0a5db-f620-4db6-8f78-702b09629b81\" name=\"files[]\" multiple disabled />\n",
              "     <output id=\"result-7fb0a5db-f620-4db6-8f78-702b09629b81\">\n",
              "      Upload widget is only available when the cell has been executed in the\n",
              "      current browser session. Please rerun this cell to enable.\n",
              "      </output>\n",
              "      <script src=\"/nbextensions/google.colab/files.js\"></script> "
            ],
            "text/plain": [
              "<IPython.core.display.HTML object>"
            ]
          },
          "metadata": {
            "tags": []
          }
        },
        {
          "output_type": "stream",
          "text": [
            "Saving iris.csv to iris.csv\n"
          ],
          "name": "stdout"
        }
      ]
    },
    {
      "cell_type": "code",
      "metadata": {
        "id": "5YphOI8O6--S",
        "colab_type": "code",
        "colab": {}
      },
      "source": [
        "iris=pd.read_csv('iris.csv')"
      ],
      "execution_count": 0,
      "outputs": []
    },
    {
      "cell_type": "code",
      "metadata": {
        "id": "Bf1FMcfH7KYv",
        "colab_type": "code",
        "outputId": "e8435084-35fb-4c6c-9250-5ffe0200aa51",
        "colab": {
          "base_uri": "https://localhost:8080/",
          "height": 202
        }
      },
      "source": [
        "iris.head()"
      ],
      "execution_count": 58,
      "outputs": [
        {
          "output_type": "execute_result",
          "data": {
            "text/html": [
              "<div>\n",
              "<style scoped>\n",
              "    .dataframe tbody tr th:only-of-type {\n",
              "        vertical-align: middle;\n",
              "    }\n",
              "\n",
              "    .dataframe tbody tr th {\n",
              "        vertical-align: top;\n",
              "    }\n",
              "\n",
              "    .dataframe thead th {\n",
              "        text-align: right;\n",
              "    }\n",
              "</style>\n",
              "<table border=\"1\" class=\"dataframe\">\n",
              "  <thead>\n",
              "    <tr style=\"text-align: right;\">\n",
              "      <th></th>\n",
              "      <th>Sepal Length (in cm)</th>\n",
              "      <th>Sepal Width in (cm)</th>\n",
              "      <th>Petal length (in cm)</th>\n",
              "      <th>Petal width (in cm)</th>\n",
              "      <th>Class</th>\n",
              "    </tr>\n",
              "  </thead>\n",
              "  <tbody>\n",
              "    <tr>\n",
              "      <th>0</th>\n",
              "      <td>5.1</td>\n",
              "      <td>3.5</td>\n",
              "      <td>1.4</td>\n",
              "      <td>0.2</td>\n",
              "      <td>Iris-setosa</td>\n",
              "    </tr>\n",
              "    <tr>\n",
              "      <th>1</th>\n",
              "      <td>4.9</td>\n",
              "      <td>3.0</td>\n",
              "      <td>1.4</td>\n",
              "      <td>0.2</td>\n",
              "      <td>Iris-setosa</td>\n",
              "    </tr>\n",
              "    <tr>\n",
              "      <th>2</th>\n",
              "      <td>4.7</td>\n",
              "      <td>3.2</td>\n",
              "      <td>1.3</td>\n",
              "      <td>0.2</td>\n",
              "      <td>Iris-setosa</td>\n",
              "    </tr>\n",
              "    <tr>\n",
              "      <th>3</th>\n",
              "      <td>4.6</td>\n",
              "      <td>3.1</td>\n",
              "      <td>1.5</td>\n",
              "      <td>0.2</td>\n",
              "      <td>Iris-setosa</td>\n",
              "    </tr>\n",
              "    <tr>\n",
              "      <th>4</th>\n",
              "      <td>5.0</td>\n",
              "      <td>3.6</td>\n",
              "      <td>1.4</td>\n",
              "      <td>0.2</td>\n",
              "      <td>Iris-setosa</td>\n",
              "    </tr>\n",
              "  </tbody>\n",
              "</table>\n",
              "</div>"
            ],
            "text/plain": [
              "   Sepal Length (in cm)  Sepal Width in (cm)  ...  Petal width (in cm)        Class\n",
              "0                   5.1                  3.5  ...                  0.2  Iris-setosa\n",
              "1                   4.9                  3.0  ...                  0.2  Iris-setosa\n",
              "2                   4.7                  3.2  ...                  0.2  Iris-setosa\n",
              "3                   4.6                  3.1  ...                  0.2  Iris-setosa\n",
              "4                   5.0                  3.6  ...                  0.2  Iris-setosa\n",
              "\n",
              "[5 rows x 5 columns]"
            ]
          },
          "metadata": {
            "tags": []
          },
          "execution_count": 58
        }
      ]
    },
    {
      "cell_type": "code",
      "metadata": {
        "id": "90AmBpmh8qaV",
        "colab_type": "code",
        "outputId": "d4513e9f-d3b0-4d16-e22b-92517ed24728",
        "colab": {
          "base_uri": "https://localhost:8080/",
          "height": 191
        }
      },
      "source": [
        "iris.info()"
      ],
      "execution_count": 59,
      "outputs": [
        {
          "output_type": "stream",
          "text": [
            "<class 'pandas.core.frame.DataFrame'>\n",
            "RangeIndex: 150 entries, 0 to 149\n",
            "Data columns (total 5 columns):\n",
            "Sepal Length (in cm)    150 non-null float64\n",
            "Sepal Width in (cm)     150 non-null float64\n",
            "Petal length (in cm)    150 non-null float64\n",
            "Petal width (in cm)     150 non-null float64\n",
            "Class                   150 non-null object\n",
            "dtypes: float64(4), object(1)\n",
            "memory usage: 6.0+ KB\n"
          ],
          "name": "stdout"
        }
      ]
    },
    {
      "cell_type": "markdown",
      "metadata": {
        "colab_type": "text",
        "id": "SAB--Qdwcihm"
      },
      "source": [
        "### Target set has different categories. So, Label encode them. And convert into one-hot vectors using get_dummies in pandas."
      ]
    },
    {
      "cell_type": "code",
      "metadata": {
        "id": "IsQVv7Lu90Gz",
        "colab_type": "code",
        "colab": {}
      },
      "source": [
        "#from sklearn.preprocessing import LabelEncoder"
      ],
      "execution_count": 0,
      "outputs": []
    },
    {
      "cell_type": "code",
      "metadata": {
        "id": "DD3ArHvU92if",
        "colab_type": "code",
        "colab": {}
      },
      "source": [
        "#labelencoder=LabelEncoder()\n",
        "#iris['Class']=labelencoder.fit_transform(iris['Class'])"
      ],
      "execution_count": 0,
      "outputs": []
    },
    {
      "cell_type": "code",
      "metadata": {
        "id": "_egG4hiV-dNp",
        "colab_type": "code",
        "colab": {}
      },
      "source": [
        "#iris['Class'].unique()"
      ],
      "execution_count": 0,
      "outputs": []
    },
    {
      "cell_type": "code",
      "metadata": {
        "id": "AcMSIHkqP-gm",
        "colab_type": "code",
        "colab": {}
      },
      "source": [
        "#iris=pd.get_dummies(iris)"
      ],
      "execution_count": 0,
      "outputs": []
    },
    {
      "cell_type": "code",
      "metadata": {
        "id": "Cv52psgWCCTj",
        "colab_type": "code",
        "colab": {}
      },
      "source": [
        "iris['Class']=pd.get_dummies(iris['Class'])"
      ],
      "execution_count": 0,
      "outputs": []
    },
    {
      "cell_type": "code",
      "metadata": {
        "id": "fyuE8l5H-j0Q",
        "colab_type": "code",
        "outputId": "03abb28c-ea35-487e-e2be-f6fdd4f95641",
        "colab": {
          "base_uri": "https://localhost:8080/",
          "height": 35
        }
      },
      "source": [
        "iris['Class'].unique()"
      ],
      "execution_count": 61,
      "outputs": [
        {
          "output_type": "execute_result",
          "data": {
            "text/plain": [
              "array([1, 0], dtype=uint64)"
            ]
          },
          "metadata": {
            "tags": []
          },
          "execution_count": 61
        }
      ]
    },
    {
      "cell_type": "code",
      "metadata": {
        "id": "UmQ0k7CKQTQf",
        "colab_type": "code",
        "outputId": "85f4103b-cbc2-4b5a-84c9-12d33143fac4",
        "colab": {
          "base_uri": "https://localhost:8080/",
          "height": 202
        }
      },
      "source": [
        "iris.head()"
      ],
      "execution_count": 62,
      "outputs": [
        {
          "output_type": "execute_result",
          "data": {
            "text/html": [
              "<div>\n",
              "<style scoped>\n",
              "    .dataframe tbody tr th:only-of-type {\n",
              "        vertical-align: middle;\n",
              "    }\n",
              "\n",
              "    .dataframe tbody tr th {\n",
              "        vertical-align: top;\n",
              "    }\n",
              "\n",
              "    .dataframe thead th {\n",
              "        text-align: right;\n",
              "    }\n",
              "</style>\n",
              "<table border=\"1\" class=\"dataframe\">\n",
              "  <thead>\n",
              "    <tr style=\"text-align: right;\">\n",
              "      <th></th>\n",
              "      <th>Sepal Length (in cm)</th>\n",
              "      <th>Sepal Width in (cm)</th>\n",
              "      <th>Petal length (in cm)</th>\n",
              "      <th>Petal width (in cm)</th>\n",
              "      <th>Class</th>\n",
              "    </tr>\n",
              "  </thead>\n",
              "  <tbody>\n",
              "    <tr>\n",
              "      <th>0</th>\n",
              "      <td>5.1</td>\n",
              "      <td>3.5</td>\n",
              "      <td>1.4</td>\n",
              "      <td>0.2</td>\n",
              "      <td>1</td>\n",
              "    </tr>\n",
              "    <tr>\n",
              "      <th>1</th>\n",
              "      <td>4.9</td>\n",
              "      <td>3.0</td>\n",
              "      <td>1.4</td>\n",
              "      <td>0.2</td>\n",
              "      <td>1</td>\n",
              "    </tr>\n",
              "    <tr>\n",
              "      <th>2</th>\n",
              "      <td>4.7</td>\n",
              "      <td>3.2</td>\n",
              "      <td>1.3</td>\n",
              "      <td>0.2</td>\n",
              "      <td>1</td>\n",
              "    </tr>\n",
              "    <tr>\n",
              "      <th>3</th>\n",
              "      <td>4.6</td>\n",
              "      <td>3.1</td>\n",
              "      <td>1.5</td>\n",
              "      <td>0.2</td>\n",
              "      <td>1</td>\n",
              "    </tr>\n",
              "    <tr>\n",
              "      <th>4</th>\n",
              "      <td>5.0</td>\n",
              "      <td>3.6</td>\n",
              "      <td>1.4</td>\n",
              "      <td>0.2</td>\n",
              "      <td>1</td>\n",
              "    </tr>\n",
              "  </tbody>\n",
              "</table>\n",
              "</div>"
            ],
            "text/plain": [
              "   Sepal Length (in cm)  Sepal Width in (cm)  ...  Petal width (in cm)  Class\n",
              "0                   5.1                  3.5  ...                  0.2      1\n",
              "1                   4.9                  3.0  ...                  0.2      1\n",
              "2                   4.7                  3.2  ...                  0.2      1\n",
              "3                   4.6                  3.1  ...                  0.2      1\n",
              "4                   5.0                  3.6  ...                  0.2      1\n",
              "\n",
              "[5 rows x 5 columns]"
            ]
          },
          "metadata": {
            "tags": []
          },
          "execution_count": 62
        }
      ]
    },
    {
      "cell_type": "code",
      "metadata": {
        "id": "QOYEADd2tryC",
        "colab_type": "code",
        "outputId": "889c58f9-6853-4c1c-dccd-9b72dc1393d4",
        "colab": {
          "base_uri": "https://localhost:8080/",
          "height": 191
        }
      },
      "source": [
        "iris.info()"
      ],
      "execution_count": 63,
      "outputs": [
        {
          "output_type": "stream",
          "text": [
            "<class 'pandas.core.frame.DataFrame'>\n",
            "RangeIndex: 150 entries, 0 to 149\n",
            "Data columns (total 5 columns):\n",
            "Sepal Length (in cm)    150 non-null float64\n",
            "Sepal Width in (cm)     150 non-null float64\n",
            "Petal length (in cm)    150 non-null float64\n",
            "Petal width (in cm)     150 non-null float64\n",
            "Class                   150 non-null uint8\n",
            "dtypes: float64(4), uint8(1)\n",
            "memory usage: 5.0 KB\n"
          ],
          "name": "stdout"
        }
      ]
    },
    {
      "cell_type": "code",
      "metadata": {
        "id": "6QkVRuMB-8JE",
        "colab_type": "code",
        "outputId": "75ca59dd-b79d-4188-a49f-37e06ac1180a",
        "colab": {
          "base_uri": "https://localhost:8080/",
          "height": 202
        }
      },
      "source": [
        "iris.head()"
      ],
      "execution_count": 64,
      "outputs": [
        {
          "output_type": "execute_result",
          "data": {
            "text/html": [
              "<div>\n",
              "<style scoped>\n",
              "    .dataframe tbody tr th:only-of-type {\n",
              "        vertical-align: middle;\n",
              "    }\n",
              "\n",
              "    .dataframe tbody tr th {\n",
              "        vertical-align: top;\n",
              "    }\n",
              "\n",
              "    .dataframe thead th {\n",
              "        text-align: right;\n",
              "    }\n",
              "</style>\n",
              "<table border=\"1\" class=\"dataframe\">\n",
              "  <thead>\n",
              "    <tr style=\"text-align: right;\">\n",
              "      <th></th>\n",
              "      <th>Sepal Length (in cm)</th>\n",
              "      <th>Sepal Width in (cm)</th>\n",
              "      <th>Petal length (in cm)</th>\n",
              "      <th>Petal width (in cm)</th>\n",
              "      <th>Class</th>\n",
              "    </tr>\n",
              "  </thead>\n",
              "  <tbody>\n",
              "    <tr>\n",
              "      <th>0</th>\n",
              "      <td>5.1</td>\n",
              "      <td>3.5</td>\n",
              "      <td>1.4</td>\n",
              "      <td>0.2</td>\n",
              "      <td>1</td>\n",
              "    </tr>\n",
              "    <tr>\n",
              "      <th>1</th>\n",
              "      <td>4.9</td>\n",
              "      <td>3.0</td>\n",
              "      <td>1.4</td>\n",
              "      <td>0.2</td>\n",
              "      <td>1</td>\n",
              "    </tr>\n",
              "    <tr>\n",
              "      <th>2</th>\n",
              "      <td>4.7</td>\n",
              "      <td>3.2</td>\n",
              "      <td>1.3</td>\n",
              "      <td>0.2</td>\n",
              "      <td>1</td>\n",
              "    </tr>\n",
              "    <tr>\n",
              "      <th>3</th>\n",
              "      <td>4.6</td>\n",
              "      <td>3.1</td>\n",
              "      <td>1.5</td>\n",
              "      <td>0.2</td>\n",
              "      <td>1</td>\n",
              "    </tr>\n",
              "    <tr>\n",
              "      <th>4</th>\n",
              "      <td>5.0</td>\n",
              "      <td>3.6</td>\n",
              "      <td>1.4</td>\n",
              "      <td>0.2</td>\n",
              "      <td>1</td>\n",
              "    </tr>\n",
              "  </tbody>\n",
              "</table>\n",
              "</div>"
            ],
            "text/plain": [
              "   Sepal Length (in cm)  Sepal Width in (cm)  ...  Petal width (in cm)  Class\n",
              "0                   5.1                  3.5  ...                  0.2      1\n",
              "1                   4.9                  3.0  ...                  0.2      1\n",
              "2                   4.7                  3.2  ...                  0.2      1\n",
              "3                   4.6                  3.1  ...                  0.2      1\n",
              "4                   5.0                  3.6  ...                  0.2      1\n",
              "\n",
              "[5 rows x 5 columns]"
            ]
          },
          "metadata": {
            "tags": []
          },
          "execution_count": 64
        }
      ]
    },
    {
      "cell_type": "markdown",
      "metadata": {
        "colab_type": "text",
        "id": "D95nY5ILcihj"
      },
      "source": [
        "### Splitting the data into feature set and target set"
      ]
    },
    {
      "cell_type": "code",
      "metadata": {
        "id": "jso2_G4mUrmA",
        "colab_type": "code",
        "colab": {}
      },
      "source": [
        "X = iris.drop(\"Class\", axis=1)\n",
        "y = iris[\"Class\"]"
      ],
      "execution_count": 0,
      "outputs": []
    },
    {
      "cell_type": "code",
      "metadata": {
        "id": "4O576TvJ-BT0",
        "colab_type": "code",
        "colab": {}
      },
      "source": [
        "#X=iris.drop(['Class_Iris-setosa', 'Class_Iris-versicolor', 'Class_Iris-virginica'], axis=1)\n",
        "#y =iris['Class_Iris-setosa','Class_Iris-versicolor','Class_Iris-virginica']"
      ],
      "execution_count": 0,
      "outputs": []
    },
    {
      "cell_type": "code",
      "metadata": {
        "id": "LlA6-ybFVDxq",
        "colab_type": "code",
        "outputId": "19a8963b-a9af-4033-92ef-5e3ff9ada015",
        "colab": {
          "base_uri": "https://localhost:8080/",
          "height": 202
        }
      },
      "source": [
        "X.head()"
      ],
      "execution_count": 67,
      "outputs": [
        {
          "output_type": "execute_result",
          "data": {
            "text/html": [
              "<div>\n",
              "<style scoped>\n",
              "    .dataframe tbody tr th:only-of-type {\n",
              "        vertical-align: middle;\n",
              "    }\n",
              "\n",
              "    .dataframe tbody tr th {\n",
              "        vertical-align: top;\n",
              "    }\n",
              "\n",
              "    .dataframe thead th {\n",
              "        text-align: right;\n",
              "    }\n",
              "</style>\n",
              "<table border=\"1\" class=\"dataframe\">\n",
              "  <thead>\n",
              "    <tr style=\"text-align: right;\">\n",
              "      <th></th>\n",
              "      <th>Sepal Length (in cm)</th>\n",
              "      <th>Sepal Width in (cm)</th>\n",
              "      <th>Petal length (in cm)</th>\n",
              "      <th>Petal width (in cm)</th>\n",
              "    </tr>\n",
              "  </thead>\n",
              "  <tbody>\n",
              "    <tr>\n",
              "      <th>0</th>\n",
              "      <td>5.1</td>\n",
              "      <td>3.5</td>\n",
              "      <td>1.4</td>\n",
              "      <td>0.2</td>\n",
              "    </tr>\n",
              "    <tr>\n",
              "      <th>1</th>\n",
              "      <td>4.9</td>\n",
              "      <td>3.0</td>\n",
              "      <td>1.4</td>\n",
              "      <td>0.2</td>\n",
              "    </tr>\n",
              "    <tr>\n",
              "      <th>2</th>\n",
              "      <td>4.7</td>\n",
              "      <td>3.2</td>\n",
              "      <td>1.3</td>\n",
              "      <td>0.2</td>\n",
              "    </tr>\n",
              "    <tr>\n",
              "      <th>3</th>\n",
              "      <td>4.6</td>\n",
              "      <td>3.1</td>\n",
              "      <td>1.5</td>\n",
              "      <td>0.2</td>\n",
              "    </tr>\n",
              "    <tr>\n",
              "      <th>4</th>\n",
              "      <td>5.0</td>\n",
              "      <td>3.6</td>\n",
              "      <td>1.4</td>\n",
              "      <td>0.2</td>\n",
              "    </tr>\n",
              "  </tbody>\n",
              "</table>\n",
              "</div>"
            ],
            "text/plain": [
              "   Sepal Length (in cm)  ...  Petal width (in cm)\n",
              "0                   5.1  ...                  0.2\n",
              "1                   4.9  ...                  0.2\n",
              "2                   4.7  ...                  0.2\n",
              "3                   4.6  ...                  0.2\n",
              "4                   5.0  ...                  0.2\n",
              "\n",
              "[5 rows x 4 columns]"
            ]
          },
          "metadata": {
            "tags": []
          },
          "execution_count": 67
        }
      ]
    },
    {
      "cell_type": "code",
      "metadata": {
        "id": "kWgV-5whVG2z",
        "colab_type": "code",
        "outputId": "640cb1df-ddc2-42ae-d214-f809d74cd049",
        "colab": {
          "base_uri": "https://localhost:8080/",
          "height": 121
        }
      },
      "source": [
        "y.head()"
      ],
      "execution_count": 68,
      "outputs": [
        {
          "output_type": "execute_result",
          "data": {
            "text/plain": [
              "0    1\n",
              "1    1\n",
              "2    1\n",
              "3    1\n",
              "4    1\n",
              "Name: Class, dtype: uint8"
            ]
          },
          "metadata": {
            "tags": []
          },
          "execution_count": 68
        }
      ]
    },
    {
      "cell_type": "markdown",
      "metadata": {
        "id": "PRtappJryBCR",
        "colab_type": "text"
      },
      "source": [
        ""
      ]
    },
    {
      "cell_type": "markdown",
      "metadata": {
        "colab_type": "text",
        "id": "b22qpC5xcihr"
      },
      "source": [
        "###  Building Model in tf.keras\n",
        "\n",
        "Build a Linear Classifier model  <br>\n",
        "1.  Use Dense Layer  with input shape of 4 (according to the feature set) and number of outputs set to 3<br> \n",
        "2. Apply Softmax on Dense Layer outputs <br>\n",
        "3. Use SGD as Optimizer\n",
        "4. Use categorical_crossentropy as loss function "
      ]
    },
    {
      "cell_type": "code",
      "metadata": {
        "colab_type": "code",
        "id": "Hov_UFnUciht",
        "colab": {}
      },
      "source": [
        "# Initialize Sequential model\n",
        "model = tf.keras.models.Sequential()"
      ],
      "execution_count": 0,
      "outputs": []
    },
    {
      "cell_type": "code",
      "metadata": {
        "id": "pJqq8KE7BWu1",
        "colab_type": "code",
        "colab": {}
      },
      "source": [
        "# Normalize input data\n",
        "model.add(tf.keras.layers.BatchNormalization(input_shape=(4,)))"
      ],
      "execution_count": 0,
      "outputs": []
    },
    {
      "cell_type": "code",
      "metadata": {
        "id": "4q4qmNbcCO2I",
        "colab_type": "code",
        "colab": {}
      },
      "source": [
        "# Add Dense Layer which provides 3 Outputs after applying softmax\n",
        "model.add(tf.keras.layers.Dense(3, activation='softmax'))"
      ],
      "execution_count": 0,
      "outputs": []
    },
    {
      "cell_type": "code",
      "metadata": {
        "id": "SfULxQZTCbEi",
        "colab_type": "code",
        "colab": {}
      },
      "source": [
        "# Compile the model\n",
        "model.compile(optimizer='sgd', loss='sparse_categorical_crossentropy', metrics=['accuracy'])"
      ],
      "execution_count": 0,
      "outputs": []
    },
    {
      "cell_type": "code",
      "metadata": {
        "id": "_XMRR0YB63_Y",
        "colab_type": "code",
        "outputId": "77803642-d002-4f62-b4c1-f1c24cc73558",
        "colab": {
          "base_uri": "https://localhost:8080/",
          "height": 225
        }
      },
      "source": [
        "model.summary()"
      ],
      "execution_count": 73,
      "outputs": [
        {
          "output_type": "stream",
          "text": [
            "Model: \"sequential\"\n",
            "_________________________________________________________________\n",
            "Layer (type)                 Output Shape              Param #   \n",
            "=================================================================\n",
            "batch_normalization (BatchNo (None, 4)                 16        \n",
            "_________________________________________________________________\n",
            "dense (Dense)                (None, 3)                 15        \n",
            "=================================================================\n",
            "Total params: 31\n",
            "Trainable params: 23\n",
            "Non-trainable params: 8\n",
            "_________________________________________________________________\n"
          ],
          "name": "stdout"
        }
      ]
    },
    {
      "cell_type": "markdown",
      "metadata": {
        "colab_type": "text",
        "id": "T5FdzqIKcihw"
      },
      "source": [
        "### Model Training "
      ]
    },
    {
      "cell_type": "code",
      "metadata": {
        "id": "Z4pAKkdS25rV",
        "colab_type": "code",
        "outputId": "3456f4f9-ca0b-4046-8576-13d93f9df3f4",
        "colab": {
          "base_uri": "https://localhost:8080/",
          "height": 1000
        }
      },
      "source": [
        "model.fit(X, y, epochs=50)"
      ],
      "execution_count": 74,
      "outputs": [
        {
          "output_type": "stream",
          "text": [
            "Train on 150 samples\n",
            "Epoch 1/50\n",
            "150/150 [==============================] - 0s 2ms/sample - loss: 1.6279 - accuracy: 0.0933\n",
            "Epoch 2/50\n",
            "150/150 [==============================] - 0s 66us/sample - loss: 1.5044 - accuracy: 0.1600\n",
            "Epoch 3/50\n",
            "150/150 [==============================] - 0s 72us/sample - loss: 1.3804 - accuracy: 0.2067\n",
            "Epoch 4/50\n",
            "150/150 [==============================] - 0s 72us/sample - loss: 1.2912 - accuracy: 0.2267\n",
            "Epoch 5/50\n",
            "150/150 [==============================] - 0s 69us/sample - loss: 1.2110 - accuracy: 0.2933\n",
            "Epoch 6/50\n",
            "150/150 [==============================] - 0s 68us/sample - loss: 1.1370 - accuracy: 0.3267\n",
            "Epoch 7/50\n",
            "150/150 [==============================] - 0s 66us/sample - loss: 1.0639 - accuracy: 0.4133\n",
            "Epoch 8/50\n",
            "150/150 [==============================] - 0s 67us/sample - loss: 1.0025 - accuracy: 0.4533\n",
            "Epoch 9/50\n",
            "150/150 [==============================] - 0s 61us/sample - loss: 0.9551 - accuracy: 0.5133\n",
            "Epoch 10/50\n",
            "150/150 [==============================] - 0s 68us/sample - loss: 0.9058 - accuracy: 0.6000\n",
            "Epoch 11/50\n",
            "150/150 [==============================] - 0s 66us/sample - loss: 0.8596 - accuracy: 0.6867\n",
            "Epoch 12/50\n",
            "150/150 [==============================] - 0s 70us/sample - loss: 0.8180 - accuracy: 0.7333\n",
            "Epoch 13/50\n",
            "150/150 [==============================] - 0s 83us/sample - loss: 0.7895 - accuracy: 0.7733\n",
            "Epoch 14/50\n",
            "150/150 [==============================] - 0s 80us/sample - loss: 0.7295 - accuracy: 0.8000\n",
            "Epoch 15/50\n",
            "150/150 [==============================] - 0s 80us/sample - loss: 0.7063 - accuracy: 0.8267\n",
            "Epoch 16/50\n",
            "150/150 [==============================] - 0s 88us/sample - loss: 0.6917 - accuracy: 0.8333\n",
            "Epoch 17/50\n",
            "150/150 [==============================] - 0s 83us/sample - loss: 0.6697 - accuracy: 0.8400\n",
            "Epoch 18/50\n",
            "150/150 [==============================] - 0s 89us/sample - loss: 0.6297 - accuracy: 0.8333\n",
            "Epoch 19/50\n",
            "150/150 [==============================] - 0s 77us/sample - loss: 0.6059 - accuracy: 0.8667\n",
            "Epoch 20/50\n",
            "150/150 [==============================] - 0s 71us/sample - loss: 0.5934 - accuracy: 0.8733\n",
            "Epoch 21/50\n",
            "150/150 [==============================] - 0s 69us/sample - loss: 0.5710 - accuracy: 0.8867\n",
            "Epoch 22/50\n",
            "150/150 [==============================] - 0s 73us/sample - loss: 0.5758 - accuracy: 0.8733\n",
            "Epoch 23/50\n",
            "150/150 [==============================] - 0s 63us/sample - loss: 0.5247 - accuracy: 0.9133\n",
            "Epoch 24/50\n",
            "150/150 [==============================] - 0s 71us/sample - loss: 0.5160 - accuracy: 0.9067\n",
            "Epoch 25/50\n",
            "150/150 [==============================] - 0s 59us/sample - loss: 0.4997 - accuracy: 0.9133\n",
            "Epoch 26/50\n",
            "150/150 [==============================] - 0s 72us/sample - loss: 0.4974 - accuracy: 0.9133\n",
            "Epoch 27/50\n",
            "150/150 [==============================] - 0s 64us/sample - loss: 0.4708 - accuracy: 0.9067\n",
            "Epoch 28/50\n",
            "150/150 [==============================] - 0s 65us/sample - loss: 0.4486 - accuracy: 0.9267\n",
            "Epoch 29/50\n",
            "150/150 [==============================] - 0s 60us/sample - loss: 0.4354 - accuracy: 0.9533\n",
            "Epoch 30/50\n",
            "150/150 [==============================] - 0s 86us/sample - loss: 0.4304 - accuracy: 0.9467\n",
            "Epoch 31/50\n",
            "150/150 [==============================] - 0s 86us/sample - loss: 0.4179 - accuracy: 0.9400\n",
            "Epoch 32/50\n",
            "150/150 [==============================] - 0s 72us/sample - loss: 0.4054 - accuracy: 0.9333\n",
            "Epoch 33/50\n",
            "150/150 [==============================] - 0s 68us/sample - loss: 0.3928 - accuracy: 0.9533\n",
            "Epoch 34/50\n",
            "150/150 [==============================] - 0s 82us/sample - loss: 0.3903 - accuracy: 0.9600\n",
            "Epoch 35/50\n",
            "150/150 [==============================] - 0s 62us/sample - loss: 0.3841 - accuracy: 0.9533\n",
            "Epoch 36/50\n",
            "150/150 [==============================] - 0s 74us/sample - loss: 0.3767 - accuracy: 0.9400\n",
            "Epoch 37/50\n",
            "150/150 [==============================] - 0s 100us/sample - loss: 0.3678 - accuracy: 0.9667\n",
            "Epoch 38/50\n",
            "150/150 [==============================] - 0s 89us/sample - loss: 0.3537 - accuracy: 0.9400\n",
            "Epoch 39/50\n",
            "150/150 [==============================] - 0s 72us/sample - loss: 0.3533 - accuracy: 0.9467\n",
            "Epoch 40/50\n",
            "150/150 [==============================] - 0s 70us/sample - loss: 0.3342 - accuracy: 0.9400\n",
            "Epoch 41/50\n",
            "150/150 [==============================] - 0s 72us/sample - loss: 0.3240 - accuracy: 0.9600\n",
            "Epoch 42/50\n",
            "150/150 [==============================] - 0s 74us/sample - loss: 0.3298 - accuracy: 0.9533\n",
            "Epoch 43/50\n",
            "150/150 [==============================] - 0s 91us/sample - loss: 0.3022 - accuracy: 0.9600\n",
            "Epoch 44/50\n",
            "150/150 [==============================] - 0s 91us/sample - loss: 0.2990 - accuracy: 0.9533\n",
            "Epoch 45/50\n",
            "150/150 [==============================] - 0s 71us/sample - loss: 0.3153 - accuracy: 0.9467\n",
            "Epoch 46/50\n",
            "150/150 [==============================] - 0s 96us/sample - loss: 0.3031 - accuracy: 0.9667\n",
            "Epoch 47/50\n",
            "150/150 [==============================] - 0s 78us/sample - loss: 0.2833 - accuracy: 0.9533\n",
            "Epoch 48/50\n",
            "150/150 [==============================] - 0s 82us/sample - loss: 0.2717 - accuracy: 0.9733\n",
            "Epoch 49/50\n",
            "150/150 [==============================] - 0s 82us/sample - loss: 0.2864 - accuracy: 0.9667\n",
            "Epoch 50/50\n",
            "150/150 [==============================] - 0s 87us/sample - loss: 0.2883 - accuracy: 0.9533\n"
          ],
          "name": "stdout"
        },
        {
          "output_type": "execute_result",
          "data": {
            "text/plain": [
              "<tensorflow.python.keras.callbacks.History at 0x7f7c56baee48>"
            ]
          },
          "metadata": {
            "tags": []
          },
          "execution_count": 74
        }
      ]
    },
    {
      "cell_type": "markdown",
      "metadata": {
        "colab_type": "text",
        "id": "y-SgSSdRcih5"
      },
      "source": [
        "Model Prediction"
      ]
    },
    {
      "cell_type": "code",
      "metadata": {
        "id": "wV9cTla2qQdM",
        "colab_type": "code",
        "colab": {}
      },
      "source": [
        "predict=model.predict(X)"
      ],
      "execution_count": 0,
      "outputs": []
    },
    {
      "cell_type": "code",
      "metadata": {
        "id": "xpM-Y3GwqXnH",
        "colab_type": "code",
        "outputId": "4069e4d2-0feb-4093-c01a-79e67d58626e",
        "colab": {
          "base_uri": "https://localhost:8080/",
          "height": 1000
        }
      },
      "source": [
        "predict"
      ],
      "execution_count": 76,
      "outputs": [
        {
          "output_type": "execute_result",
          "data": {
            "text/plain": [
              "array([[2.21108362e-01, 6.76544130e-01, 1.02347456e-01],\n",
              "       [2.30856657e-01, 6.20200515e-01, 1.48942724e-01],\n",
              "       [1.27690777e-01, 7.54924774e-01, 1.17384434e-01],\n",
              "       [1.13859147e-01, 7.65529096e-01, 1.20611764e-01],\n",
              "       [1.64347112e-01, 7.45437622e-01, 9.02152210e-02],\n",
              "       [2.97915459e-01, 6.20980978e-01, 8.11035708e-02],\n",
              "       [8.69702846e-02, 8.18813205e-01, 9.42165107e-02],\n",
              "       [1.98996529e-01, 6.93463445e-01, 1.07540086e-01],\n",
              "       [8.88005346e-02, 7.77850330e-01, 1.33349136e-01],\n",
              "       [2.05136880e-01, 6.64784133e-01, 1.30078986e-01],\n",
              "       [3.24477315e-01, 5.86066067e-01, 8.94566178e-02],\n",
              "       [1.31035000e-01, 7.70923197e-01, 9.80417803e-02],\n",
              "       [1.83095694e-01, 6.77762032e-01, 1.39142290e-01],\n",
              "       [6.00157082e-02, 8.29437613e-01, 1.10546671e-01],\n",
              "       [4.79257077e-01, 4.50638294e-01, 7.01047033e-02],\n",
              "       [3.33286732e-01, 6.10293150e-01, 5.64201511e-02],\n",
              "       [2.95546889e-01, 6.19671345e-01, 8.47817808e-02],\n",
              "       [2.29729727e-01, 6.63346231e-01, 1.06924087e-01],\n",
              "       [4.89229381e-01, 4.31146145e-01, 7.96243995e-02],\n",
              "       [1.74422741e-01, 7.45142221e-01, 8.04349780e-02],\n",
              "       [4.02739465e-01, 4.89509404e-01, 1.07751153e-01],\n",
              "       [2.00023353e-01, 7.07346261e-01, 9.26304385e-02],\n",
              "       [6.58726394e-02, 8.59152675e-01, 7.49746785e-02],\n",
              "       [2.92295545e-01, 5.75788915e-01, 1.31915554e-01],\n",
              "       [1.31980091e-01, 7.73072064e-01, 9.49478969e-02],\n",
              "       [2.78497696e-01, 5.73713005e-01, 1.47789344e-01],\n",
              "       [2.15602696e-01, 6.68126881e-01, 1.16270520e-01],\n",
              "       [2.67705917e-01, 6.29028201e-01, 1.03265934e-01],\n",
              "       [2.89483041e-01, 5.97524583e-01, 1.12992398e-01],\n",
              "       [1.28699124e-01, 7.57543385e-01, 1.13757424e-01],\n",
              "       [1.74944416e-01, 6.94661379e-01, 1.30394176e-01],\n",
              "       [4.23139095e-01, 4.59366173e-01, 1.17494710e-01],\n",
              "       [1.45927221e-01, 7.97659636e-01, 5.64131774e-02],\n",
              "       [2.55351663e-01, 6.84039593e-01, 6.06086776e-02],\n",
              "       [2.05136880e-01, 6.64784133e-01, 1.30078986e-01],\n",
              "       [2.35087454e-01, 6.33120060e-01, 1.31792501e-01],\n",
              "       [4.32852417e-01, 4.63982821e-01, 1.03164792e-01],\n",
              "       [2.05136880e-01, 6.64784133e-01, 1.30078986e-01],\n",
              "       [7.98454657e-02, 7.98518479e-01, 1.21636070e-01],\n",
              "       [2.41762280e-01, 6.47925675e-01, 1.10312052e-01],\n",
              "       [1.88018262e-01, 7.06971645e-01, 1.05010137e-01],\n",
              "       [1.92980766e-01, 5.59655964e-01, 2.47363254e-01],\n",
              "       [6.44120201e-02, 8.37211907e-01, 9.83760878e-02],\n",
              "       [2.13122606e-01, 6.70525551e-01, 1.16351791e-01],\n",
              "       [1.83554903e-01, 7.35672295e-01, 8.07727948e-02],\n",
              "       [1.97436556e-01, 6.50864840e-01, 1.51698560e-01],\n",
              "       [1.67421341e-01, 7.56793559e-01, 7.57851228e-02],\n",
              "       [1.02555022e-01, 7.87236214e-01, 1.10208765e-01],\n",
              "       [2.72101611e-01, 6.39049888e-01, 8.88484344e-02],\n",
              "       [2.17010230e-01, 6.64322197e-01, 1.18667595e-01],\n",
              "       [9.80847716e-01, 6.55695982e-03, 1.25952754e-02],\n",
              "       [9.37061131e-01, 2.86566205e-02, 3.42821963e-02],\n",
              "       [9.78422821e-01, 7.01954542e-03, 1.45576028e-02],\n",
              "       [7.76316404e-01, 8.77284408e-02, 1.35955229e-01],\n",
              "       [9.57638443e-01, 1.33141065e-02, 2.90474761e-02],\n",
              "       [8.02918494e-01, 1.02585815e-01, 9.44957808e-02],\n",
              "       [9.21528876e-01, 3.93080451e-02, 3.91631275e-02],\n",
              "       [4.40463603e-01, 3.29718918e-01, 2.29817525e-01],\n",
              "       [9.62417305e-01, 1.31730260e-02, 2.44096778e-02],\n",
              "       [5.90129554e-01, 2.34051228e-01, 1.75819233e-01],\n",
              "       [5.65998256e-01, 1.92337885e-01, 2.41663903e-01],\n",
              "       [8.50124180e-01, 7.46836886e-02, 7.51921684e-02],\n",
              "       [9.04524207e-01, 2.87013073e-02, 6.67744279e-02],\n",
              "       [9.03665066e-01, 4.33242619e-02, 5.30106276e-02],\n",
              "       [7.41330445e-01, 1.42273203e-01, 1.16396330e-01],\n",
              "       [9.66082215e-01, 1.25093665e-02, 2.14083791e-02],\n",
              "       [7.49861002e-01, 1.44190282e-01, 1.05948694e-01],\n",
              "       [8.29170644e-01, 8.55372176e-02, 8.52921158e-02],\n",
              "       [9.39310253e-01, 1.30972536e-02, 4.75924723e-02],\n",
              "       [7.83961177e-01, 9.95776057e-02, 1.16461173e-01],\n",
              "       [8.48566949e-01, 8.07114094e-02, 7.07216486e-02],\n",
              "       [9.01812911e-01, 4.06025313e-02, 5.75845912e-02],\n",
              "       [9.46476936e-01, 1.49499755e-02, 3.85731645e-02],\n",
              "       [9.04839516e-01, 4.27281521e-02, 5.24323061e-02],\n",
              "       [9.43176925e-01, 2.19235234e-02, 3.48995514e-02],\n",
              "       [9.60632145e-01, 1.41874030e-02, 2.51803678e-02],\n",
              "       [9.76210058e-01, 6.52261823e-03, 1.72674041e-02],\n",
              "       [9.70626235e-01, 9.18391719e-03, 2.01897975e-02],\n",
              "       [8.84395480e-01, 5.21818325e-02, 6.34225979e-02],\n",
              "       [7.99798965e-01, 9.49382484e-02, 1.05262809e-01],\n",
              "       [7.55788326e-01, 1.09655231e-01, 1.34556413e-01],\n",
              "       [7.49984920e-01, 1.15474775e-01, 1.34540334e-01],\n",
              "       [8.34098697e-01, 7.68542066e-02, 8.90471265e-02],\n",
              "       [9.01745677e-01, 3.82939763e-02, 5.99602908e-02],\n",
              "       [6.56464219e-01, 2.13426933e-01, 1.30108893e-01],\n",
              "       [8.47605705e-01, 9.08830836e-02, 6.15111776e-02],\n",
              "       [9.67501462e-01, 1.17704384e-02, 2.07281690e-02],\n",
              "       [9.46367800e-01, 1.30100753e-02, 4.06221785e-02],\n",
              "       [7.32898235e-01, 1.59178555e-01, 1.07923225e-01],\n",
              "       [7.56173551e-01, 1.11059763e-01, 1.32766709e-01],\n",
              "       [7.44983375e-01, 1.31406531e-01, 1.23610102e-01],\n",
              "       [8.97467017e-01, 4.91243042e-02, 5.34086302e-02],\n",
              "       [8.43212783e-01, 6.80507571e-02, 8.87364820e-02],\n",
              "       [5.14150679e-01, 2.59636402e-01, 2.26212978e-01],\n",
              "       [7.74500370e-01, 1.13363802e-01, 1.12135909e-01],\n",
              "       [7.69952893e-01, 1.36079937e-01, 9.39671621e-02],\n",
              "       [7.88109839e-01, 1.15300715e-01, 9.65894833e-02],\n",
              "       [9.16417658e-01, 3.60158309e-02, 4.75664996e-02],\n",
              "       [5.35360992e-01, 2.56128907e-01, 2.08510146e-01],\n",
              "       [7.98382580e-01, 1.02606922e-01, 9.90104973e-02],\n",
              "       [9.41167891e-01, 2.33798455e-02, 3.54522206e-02],\n",
              "       [8.65675628e-01, 5.22372983e-02, 8.20871443e-02],\n",
              "       [9.87950742e-01, 2.55938875e-03, 9.48981289e-03],\n",
              "       [9.43224132e-01, 2.09337566e-02, 3.58421728e-02],\n",
              "       [9.62608099e-01, 1.13911955e-02, 2.60006581e-02],\n",
              "       [9.95568931e-01, 6.86755811e-04, 3.74424784e-03],\n",
              "       [4.94335115e-01, 2.76278704e-01, 2.29386210e-01],\n",
              "       [9.92089152e-01, 1.57726766e-03, 6.33356115e-03],\n",
              "       [9.77230906e-01, 4.47838334e-03, 1.82906408e-02],\n",
              "       [9.88535702e-01, 3.41905816e-03, 8.04520305e-03],\n",
              "       [9.55291450e-01, 1.66681428e-02, 2.80404147e-02],\n",
              "       [9.56100941e-01, 1.19015919e-02, 3.19974571e-02],\n",
              "       [9.77952063e-01, 5.60263637e-03, 1.64452586e-02],\n",
              "       [8.53841186e-01, 4.87169102e-02, 9.74419042e-02],\n",
              "       [8.70262921e-01, 4.48077507e-02, 8.49293694e-02],\n",
              "       [9.49269891e-01, 1.80469565e-02, 3.26831266e-02],\n",
              "       [9.59262192e-01, 1.43760936e-02, 2.63616908e-02],\n",
              "       [9.95410979e-01, 1.41978275e-03, 3.16921459e-03],\n",
              "       [9.96661544e-01, 2.77537445e-04, 3.06094531e-03],\n",
              "       [9.17451441e-01, 2.14709193e-02, 6.10776395e-02],\n",
              "       [9.81253445e-01, 4.98928130e-03, 1.37572829e-02],\n",
              "       [8.01567376e-01, 8.82413462e-02, 1.10191315e-01],\n",
              "       [9.96471643e-01, 4.30379441e-04, 3.09804943e-03],\n",
              "       [9.44473624e-01, 1.62948575e-02, 3.92315015e-02],\n",
              "       [9.70419943e-01, 1.06795421e-02, 1.89005788e-02],\n",
              "       [9.89148438e-01, 3.04313377e-03, 7.80840404e-03],\n",
              "       [9.29781973e-01, 2.38142684e-02, 4.64038737e-02],\n",
              "       [9.07678068e-01, 3.92306820e-02, 5.30913472e-02],\n",
              "       [9.56793010e-01, 1.20389294e-02, 3.11681461e-02],\n",
              "       [9.89452243e-01, 2.63773650e-03, 7.91000668e-03],\n",
              "       [9.93471384e-01, 1.00845960e-03, 5.52023528e-03],\n",
              "       [9.96724665e-01, 9.48329223e-04, 2.32710806e-03],\n",
              "       [9.57277477e-01, 1.13668451e-02, 3.13557535e-02],\n",
              "       [9.40566301e-01, 2.19480377e-02, 3.74857225e-02],\n",
              "       [9.22612727e-01, 2.94615440e-02, 4.79256995e-02],\n",
              "       [9.96111691e-01, 4.74077096e-04, 3.41424718e-03],\n",
              "       [9.34831440e-01, 2.82190535e-02, 3.69494259e-02],\n",
              "       [9.48041975e-01, 2.10615061e-02, 3.08965053e-02],\n",
              "       [8.87728214e-01, 4.99635823e-02, 6.23081848e-02],\n",
              "       [9.80936646e-01, 4.93433606e-03, 1.41289905e-02],\n",
              "       [9.73580122e-01, 6.93848124e-03, 1.94813106e-02],\n",
              "       [9.80733156e-01, 4.41280659e-03, 1.48539180e-02],\n",
              "       [8.65675628e-01, 5.22372983e-02, 8.20871443e-02],\n",
              "       [9.77738619e-01, 6.44534361e-03, 1.58161279e-02],\n",
              "       [9.72159624e-01, 8.48513469e-03, 1.93552487e-02],\n",
              "       [9.73135471e-01, 6.48435624e-03, 2.03801431e-02],\n",
              "       [9.49101925e-01, 1.18722850e-02, 3.90257686e-02],\n",
              "       [9.59414303e-01, 1.28613459e-02, 2.77243853e-02],\n",
              "       [9.17847335e-01, 3.82880867e-02, 4.38645296e-02],\n",
              "       [8.67459118e-01, 6.32050335e-02, 6.93358481e-02]], dtype=float32)"
            ]
          },
          "metadata": {
            "tags": []
          },
          "execution_count": 76
        }
      ]
    },
    {
      "cell_type": "code",
      "metadata": {
        "colab_type": "code",
        "id": "GBgKZkhkcih6",
        "outputId": "e34731e4-db35-4996-8b92-f7ed94acaea1",
        "colab": {
          "base_uri": "https://localhost:8080/",
          "height": 69
        }
      },
      "source": [
        "results = model.evaluate(X, y)\n",
        "\n",
        "print('Final test set loss: {:4f}'.format(results[0]))\n",
        "print('Final test set accuracy: {:4f}'.format(results[1]))"
      ],
      "execution_count": 77,
      "outputs": [
        {
          "output_type": "stream",
          "text": [
            "150/150 [==============================] - 0s 482us/sample - loss: 0.2252 - accuracy: 0.9867\n",
            "Final test set loss: 0.225224\n",
            "Final test set accuracy: 0.986667\n"
          ],
          "name": "stdout"
        }
      ]
    },
    {
      "cell_type": "markdown",
      "metadata": {
        "colab_type": "text",
        "id": "P32ASP1Vjt0a"
      },
      "source": [
        "### Save the Model"
      ]
    },
    {
      "cell_type": "code",
      "metadata": {
        "colab_type": "code",
        "id": "n8rd0jjAjyTR",
        "outputId": "f994157e-9e0c-4ce5-f18b-7c0d34247a41",
        "colab": {
          "base_uri": "https://localhost:8080/",
          "height": 35
        }
      },
      "source": [
        "model.save(\"model.h5\")\n",
        "print(\"Saved model to disk\")"
      ],
      "execution_count": 78,
      "outputs": [
        {
          "output_type": "stream",
          "text": [
            "Saved model to disk\n"
          ],
          "name": "stdout"
        }
      ]
    },
    {
      "cell_type": "markdown",
      "metadata": {
        "colab_type": "text",
        "id": "XiipRpe7rbVh"
      },
      "source": [
        "### Build and Train a Deep Neural network with 2 hidden layer  - Optional - For Practice\n",
        "\n",
        "Does it perform better than Linear Classifier? What could be the reason for difference in performance?"
      ]
    },
    {
      "cell_type": "code",
      "metadata": {
        "colab_type": "code",
        "id": "v5Du3lubr4sA",
        "colab": {}
      },
      "source": [
        ""
      ],
      "execution_count": 0,
      "outputs": []
    }
  ]
}